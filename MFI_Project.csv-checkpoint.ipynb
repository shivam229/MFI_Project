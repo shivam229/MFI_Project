{
 "cells": [
  {
   "cell_type": "code",
   "execution_count": 1,
   "metadata": {},
   "outputs": [],
   "source": [
    "import pandas as pd\n",
    "import numpy as np\n",
    "import matplotlib.pyplot as plt\n",
    "import seaborn as sns\n",
    "import scipy.stats\n",
    "import sklearn\n",
    "from sklearn.ensemble import RandomForestClassifier\n",
    "from sklearn.ensemble import AdaBoostClassifier\n",
    "from sklearn.model_selection import cross_val_score\n",
    "from sklearn.metrics import roc_curve\n",
    "from sklearn.metrics import roc_auc_score\n",
    "import warnings\n",
    "warnings.filterwarnings('ignore')\n",
    "from scipy.stats import boxcox"
   ]
  },
  {
   "cell_type": "code",
   "execution_count": 2,
   "metadata": {},
   "outputs": [
    {
     "data": {
      "text/html": [
       "<div>\n",
       "<style scoped>\n",
       "    .dataframe tbody tr th:only-of-type {\n",
       "        vertical-align: middle;\n",
       "    }\n",
       "\n",
       "    .dataframe tbody tr th {\n",
       "        vertical-align: top;\n",
       "    }\n",
       "\n",
       "    .dataframe thead th {\n",
       "        text-align: right;\n",
       "    }\n",
       "</style>\n",
       "<table border=\"1\" class=\"dataframe\">\n",
       "  <thead>\n",
       "    <tr style=\"text-align: right;\">\n",
       "      <th></th>\n",
       "      <th>Unnamed: 0</th>\n",
       "      <th>label</th>\n",
       "      <th>msisdn</th>\n",
       "      <th>aon</th>\n",
       "      <th>daily_decr30</th>\n",
       "      <th>daily_decr90</th>\n",
       "      <th>rental30</th>\n",
       "      <th>rental90</th>\n",
       "      <th>last_rech_date_ma</th>\n",
       "      <th>last_rech_date_da</th>\n",
       "      <th>...</th>\n",
       "      <th>maxamnt_loans30</th>\n",
       "      <th>medianamnt_loans30</th>\n",
       "      <th>cnt_loans90</th>\n",
       "      <th>amnt_loans90</th>\n",
       "      <th>maxamnt_loans90</th>\n",
       "      <th>medianamnt_loans90</th>\n",
       "      <th>payback30</th>\n",
       "      <th>payback90</th>\n",
       "      <th>pcircle</th>\n",
       "      <th>pdate</th>\n",
       "    </tr>\n",
       "  </thead>\n",
       "  <tbody>\n",
       "    <tr>\n",
       "      <th>0</th>\n",
       "      <td>1</td>\n",
       "      <td>0</td>\n",
       "      <td>21408I70789</td>\n",
       "      <td>272.0</td>\n",
       "      <td>3055.050000</td>\n",
       "      <td>3065.150000</td>\n",
       "      <td>220.13</td>\n",
       "      <td>260.13</td>\n",
       "      <td>2.0</td>\n",
       "      <td>0.0</td>\n",
       "      <td>...</td>\n",
       "      <td>6.0</td>\n",
       "      <td>0.0</td>\n",
       "      <td>2.0</td>\n",
       "      <td>12</td>\n",
       "      <td>6</td>\n",
       "      <td>0.0</td>\n",
       "      <td>29.000000</td>\n",
       "      <td>29.000000</td>\n",
       "      <td>UPW</td>\n",
       "      <td>2016-07-20</td>\n",
       "    </tr>\n",
       "    <tr>\n",
       "      <th>1</th>\n",
       "      <td>2</td>\n",
       "      <td>1</td>\n",
       "      <td>76462I70374</td>\n",
       "      <td>712.0</td>\n",
       "      <td>12122.000000</td>\n",
       "      <td>12124.750000</td>\n",
       "      <td>3691.26</td>\n",
       "      <td>3691.26</td>\n",
       "      <td>20.0</td>\n",
       "      <td>0.0</td>\n",
       "      <td>...</td>\n",
       "      <td>12.0</td>\n",
       "      <td>0.0</td>\n",
       "      <td>1.0</td>\n",
       "      <td>12</td>\n",
       "      <td>12</td>\n",
       "      <td>0.0</td>\n",
       "      <td>0.000000</td>\n",
       "      <td>0.000000</td>\n",
       "      <td>UPW</td>\n",
       "      <td>2016-08-10</td>\n",
       "    </tr>\n",
       "    <tr>\n",
       "      <th>2</th>\n",
       "      <td>3</td>\n",
       "      <td>1</td>\n",
       "      <td>17943I70372</td>\n",
       "      <td>535.0</td>\n",
       "      <td>1398.000000</td>\n",
       "      <td>1398.000000</td>\n",
       "      <td>900.13</td>\n",
       "      <td>900.13</td>\n",
       "      <td>3.0</td>\n",
       "      <td>0.0</td>\n",
       "      <td>...</td>\n",
       "      <td>6.0</td>\n",
       "      <td>0.0</td>\n",
       "      <td>1.0</td>\n",
       "      <td>6</td>\n",
       "      <td>6</td>\n",
       "      <td>0.0</td>\n",
       "      <td>0.000000</td>\n",
       "      <td>0.000000</td>\n",
       "      <td>UPW</td>\n",
       "      <td>2016-08-19</td>\n",
       "    </tr>\n",
       "    <tr>\n",
       "      <th>3</th>\n",
       "      <td>4</td>\n",
       "      <td>1</td>\n",
       "      <td>55773I70781</td>\n",
       "      <td>241.0</td>\n",
       "      <td>21.228000</td>\n",
       "      <td>21.228000</td>\n",
       "      <td>159.42</td>\n",
       "      <td>159.42</td>\n",
       "      <td>41.0</td>\n",
       "      <td>0.0</td>\n",
       "      <td>...</td>\n",
       "      <td>6.0</td>\n",
       "      <td>0.0</td>\n",
       "      <td>2.0</td>\n",
       "      <td>12</td>\n",
       "      <td>6</td>\n",
       "      <td>0.0</td>\n",
       "      <td>0.000000</td>\n",
       "      <td>0.000000</td>\n",
       "      <td>UPW</td>\n",
       "      <td>2016-06-06</td>\n",
       "    </tr>\n",
       "    <tr>\n",
       "      <th>4</th>\n",
       "      <td>5</td>\n",
       "      <td>1</td>\n",
       "      <td>03813I82730</td>\n",
       "      <td>947.0</td>\n",
       "      <td>150.619333</td>\n",
       "      <td>150.619333</td>\n",
       "      <td>1098.90</td>\n",
       "      <td>1098.90</td>\n",
       "      <td>4.0</td>\n",
       "      <td>0.0</td>\n",
       "      <td>...</td>\n",
       "      <td>6.0</td>\n",
       "      <td>0.0</td>\n",
       "      <td>7.0</td>\n",
       "      <td>42</td>\n",
       "      <td>6</td>\n",
       "      <td>0.0</td>\n",
       "      <td>2.333333</td>\n",
       "      <td>2.333333</td>\n",
       "      <td>UPW</td>\n",
       "      <td>2016-06-22</td>\n",
       "    </tr>\n",
       "    <tr>\n",
       "      <th>...</th>\n",
       "      <td>...</td>\n",
       "      <td>...</td>\n",
       "      <td>...</td>\n",
       "      <td>...</td>\n",
       "      <td>...</td>\n",
       "      <td>...</td>\n",
       "      <td>...</td>\n",
       "      <td>...</td>\n",
       "      <td>...</td>\n",
       "      <td>...</td>\n",
       "      <td>...</td>\n",
       "      <td>...</td>\n",
       "      <td>...</td>\n",
       "      <td>...</td>\n",
       "      <td>...</td>\n",
       "      <td>...</td>\n",
       "      <td>...</td>\n",
       "      <td>...</td>\n",
       "      <td>...</td>\n",
       "      <td>...</td>\n",
       "      <td>...</td>\n",
       "    </tr>\n",
       "    <tr>\n",
       "      <th>209588</th>\n",
       "      <td>209589</td>\n",
       "      <td>1</td>\n",
       "      <td>22758I85348</td>\n",
       "      <td>404.0</td>\n",
       "      <td>151.872333</td>\n",
       "      <td>151.872333</td>\n",
       "      <td>1089.19</td>\n",
       "      <td>1089.19</td>\n",
       "      <td>1.0</td>\n",
       "      <td>0.0</td>\n",
       "      <td>...</td>\n",
       "      <td>6.0</td>\n",
       "      <td>0.0</td>\n",
       "      <td>2.0</td>\n",
       "      <td>12</td>\n",
       "      <td>6</td>\n",
       "      <td>0.0</td>\n",
       "      <td>1.000000</td>\n",
       "      <td>1.000000</td>\n",
       "      <td>UPW</td>\n",
       "      <td>2016-06-17</td>\n",
       "    </tr>\n",
       "    <tr>\n",
       "      <th>209589</th>\n",
       "      <td>209590</td>\n",
       "      <td>1</td>\n",
       "      <td>95583I84455</td>\n",
       "      <td>1075.0</td>\n",
       "      <td>36.936000</td>\n",
       "      <td>36.936000</td>\n",
       "      <td>1728.36</td>\n",
       "      <td>1728.36</td>\n",
       "      <td>4.0</td>\n",
       "      <td>0.0</td>\n",
       "      <td>...</td>\n",
       "      <td>6.0</td>\n",
       "      <td>0.0</td>\n",
       "      <td>3.0</td>\n",
       "      <td>18</td>\n",
       "      <td>6</td>\n",
       "      <td>0.0</td>\n",
       "      <td>1.000000</td>\n",
       "      <td>1.000000</td>\n",
       "      <td>UPW</td>\n",
       "      <td>2016-06-12</td>\n",
       "    </tr>\n",
       "    <tr>\n",
       "      <th>209590</th>\n",
       "      <td>209591</td>\n",
       "      <td>1</td>\n",
       "      <td>28556I85350</td>\n",
       "      <td>1013.0</td>\n",
       "      <td>11843.111667</td>\n",
       "      <td>11904.350000</td>\n",
       "      <td>5861.83</td>\n",
       "      <td>8893.20</td>\n",
       "      <td>3.0</td>\n",
       "      <td>0.0</td>\n",
       "      <td>...</td>\n",
       "      <td>12.0</td>\n",
       "      <td>0.0</td>\n",
       "      <td>6.0</td>\n",
       "      <td>54</td>\n",
       "      <td>12</td>\n",
       "      <td>0.0</td>\n",
       "      <td>4.000000</td>\n",
       "      <td>3.833333</td>\n",
       "      <td>UPW</td>\n",
       "      <td>2016-07-29</td>\n",
       "    </tr>\n",
       "    <tr>\n",
       "      <th>209591</th>\n",
       "      <td>209592</td>\n",
       "      <td>1</td>\n",
       "      <td>59712I82733</td>\n",
       "      <td>1732.0</td>\n",
       "      <td>12488.228333</td>\n",
       "      <td>12574.370000</td>\n",
       "      <td>411.83</td>\n",
       "      <td>984.58</td>\n",
       "      <td>2.0</td>\n",
       "      <td>38.0</td>\n",
       "      <td>...</td>\n",
       "      <td>12.0</td>\n",
       "      <td>0.0</td>\n",
       "      <td>3.0</td>\n",
       "      <td>24</td>\n",
       "      <td>12</td>\n",
       "      <td>0.0</td>\n",
       "      <td>0.000000</td>\n",
       "      <td>10.500000</td>\n",
       "      <td>UPW</td>\n",
       "      <td>2016-07-25</td>\n",
       "    </tr>\n",
       "    <tr>\n",
       "      <th>209592</th>\n",
       "      <td>209593</td>\n",
       "      <td>1</td>\n",
       "      <td>65061I85339</td>\n",
       "      <td>1581.0</td>\n",
       "      <td>4489.362000</td>\n",
       "      <td>4534.820000</td>\n",
       "      <td>483.92</td>\n",
       "      <td>631.20</td>\n",
       "      <td>13.0</td>\n",
       "      <td>0.0</td>\n",
       "      <td>...</td>\n",
       "      <td>12.0</td>\n",
       "      <td>0.0</td>\n",
       "      <td>2.0</td>\n",
       "      <td>18</td>\n",
       "      <td>12</td>\n",
       "      <td>0.0</td>\n",
       "      <td>0.000000</td>\n",
       "      <td>0.000000</td>\n",
       "      <td>UPW</td>\n",
       "      <td>2016-07-07</td>\n",
       "    </tr>\n",
       "  </tbody>\n",
       "</table>\n",
       "<p>209593 rows × 37 columns</p>\n",
       "</div>"
      ],
      "text/plain": [
       "        Unnamed: 0  label       msisdn     aon  daily_decr30  daily_decr90  \\\n",
       "0                1      0  21408I70789   272.0   3055.050000   3065.150000   \n",
       "1                2      1  76462I70374   712.0  12122.000000  12124.750000   \n",
       "2                3      1  17943I70372   535.0   1398.000000   1398.000000   \n",
       "3                4      1  55773I70781   241.0     21.228000     21.228000   \n",
       "4                5      1  03813I82730   947.0    150.619333    150.619333   \n",
       "...            ...    ...          ...     ...           ...           ...   \n",
       "209588      209589      1  22758I85348   404.0    151.872333    151.872333   \n",
       "209589      209590      1  95583I84455  1075.0     36.936000     36.936000   \n",
       "209590      209591      1  28556I85350  1013.0  11843.111667  11904.350000   \n",
       "209591      209592      1  59712I82733  1732.0  12488.228333  12574.370000   \n",
       "209592      209593      1  65061I85339  1581.0   4489.362000   4534.820000   \n",
       "\n",
       "        rental30  rental90  last_rech_date_ma  last_rech_date_da  ...  \\\n",
       "0         220.13    260.13                2.0                0.0  ...   \n",
       "1        3691.26   3691.26               20.0                0.0  ...   \n",
       "2         900.13    900.13                3.0                0.0  ...   \n",
       "3         159.42    159.42               41.0                0.0  ...   \n",
       "4        1098.90   1098.90                4.0                0.0  ...   \n",
       "...          ...       ...                ...                ...  ...   \n",
       "209588   1089.19   1089.19                1.0                0.0  ...   \n",
       "209589   1728.36   1728.36                4.0                0.0  ...   \n",
       "209590   5861.83   8893.20                3.0                0.0  ...   \n",
       "209591    411.83    984.58                2.0               38.0  ...   \n",
       "209592    483.92    631.20               13.0                0.0  ...   \n",
       "\n",
       "        maxamnt_loans30  medianamnt_loans30  cnt_loans90  amnt_loans90  \\\n",
       "0                   6.0                 0.0          2.0            12   \n",
       "1                  12.0                 0.0          1.0            12   \n",
       "2                   6.0                 0.0          1.0             6   \n",
       "3                   6.0                 0.0          2.0            12   \n",
       "4                   6.0                 0.0          7.0            42   \n",
       "...                 ...                 ...          ...           ...   \n",
       "209588              6.0                 0.0          2.0            12   \n",
       "209589              6.0                 0.0          3.0            18   \n",
       "209590             12.0                 0.0          6.0            54   \n",
       "209591             12.0                 0.0          3.0            24   \n",
       "209592             12.0                 0.0          2.0            18   \n",
       "\n",
       "        maxamnt_loans90  medianamnt_loans90  payback30  payback90  pcircle  \\\n",
       "0                     6                 0.0  29.000000  29.000000      UPW   \n",
       "1                    12                 0.0   0.000000   0.000000      UPW   \n",
       "2                     6                 0.0   0.000000   0.000000      UPW   \n",
       "3                     6                 0.0   0.000000   0.000000      UPW   \n",
       "4                     6                 0.0   2.333333   2.333333      UPW   \n",
       "...                 ...                 ...        ...        ...      ...   \n",
       "209588                6                 0.0   1.000000   1.000000      UPW   \n",
       "209589                6                 0.0   1.000000   1.000000      UPW   \n",
       "209590               12                 0.0   4.000000   3.833333      UPW   \n",
       "209591               12                 0.0   0.000000  10.500000      UPW   \n",
       "209592               12                 0.0   0.000000   0.000000      UPW   \n",
       "\n",
       "             pdate  \n",
       "0       2016-07-20  \n",
       "1       2016-08-10  \n",
       "2       2016-08-19  \n",
       "3       2016-06-06  \n",
       "4       2016-06-22  \n",
       "...            ...  \n",
       "209588  2016-06-17  \n",
       "209589  2016-06-12  \n",
       "209590  2016-07-29  \n",
       "209591  2016-07-25  \n",
       "209592  2016-07-07  \n",
       "\n",
       "[209593 rows x 37 columns]"
      ]
     },
     "execution_count": 2,
     "metadata": {},
     "output_type": "execute_result"
    }
   ],
   "source": [
    "ds=pd.read_csv(\"Datafile.csv\")\n",
    "ds"
   ]
  },
  {
   "cell_type": "code",
   "execution_count": 3,
   "metadata": {},
   "outputs": [
    {
     "data": {
      "text/html": [
       "<div>\n",
       "<style scoped>\n",
       "    .dataframe tbody tr th:only-of-type {\n",
       "        vertical-align: middle;\n",
       "    }\n",
       "\n",
       "    .dataframe tbody tr th {\n",
       "        vertical-align: top;\n",
       "    }\n",
       "\n",
       "    .dataframe thead th {\n",
       "        text-align: right;\n",
       "    }\n",
       "</style>\n",
       "<table border=\"1\" class=\"dataframe\">\n",
       "  <thead>\n",
       "    <tr style=\"text-align: right;\">\n",
       "      <th></th>\n",
       "      <th>Unnamed: 0</th>\n",
       "      <th>label</th>\n",
       "      <th>msisdn</th>\n",
       "      <th>aon</th>\n",
       "      <th>daily_decr30</th>\n",
       "      <th>daily_decr90</th>\n",
       "      <th>rental30</th>\n",
       "      <th>rental90</th>\n",
       "      <th>last_rech_date_ma</th>\n",
       "      <th>last_rech_date_da</th>\n",
       "      <th>...</th>\n",
       "      <th>maxamnt_loans30</th>\n",
       "      <th>medianamnt_loans30</th>\n",
       "      <th>cnt_loans90</th>\n",
       "      <th>amnt_loans90</th>\n",
       "      <th>maxamnt_loans90</th>\n",
       "      <th>medianamnt_loans90</th>\n",
       "      <th>payback30</th>\n",
       "      <th>payback90</th>\n",
       "      <th>pcircle</th>\n",
       "      <th>pdate</th>\n",
       "    </tr>\n",
       "  </thead>\n",
       "  <tbody>\n",
       "    <tr>\n",
       "      <th>0</th>\n",
       "      <td>1</td>\n",
       "      <td>0</td>\n",
       "      <td>21408I70789</td>\n",
       "      <td>272.0</td>\n",
       "      <td>3055.050000</td>\n",
       "      <td>3065.150000</td>\n",
       "      <td>220.13</td>\n",
       "      <td>260.13</td>\n",
       "      <td>2.0</td>\n",
       "      <td>0.0</td>\n",
       "      <td>...</td>\n",
       "      <td>6.0</td>\n",
       "      <td>0.0</td>\n",
       "      <td>2.0</td>\n",
       "      <td>12</td>\n",
       "      <td>6</td>\n",
       "      <td>0.0</td>\n",
       "      <td>29.000000</td>\n",
       "      <td>29.000000</td>\n",
       "      <td>UPW</td>\n",
       "      <td>2016-07-20</td>\n",
       "    </tr>\n",
       "    <tr>\n",
       "      <th>1</th>\n",
       "      <td>2</td>\n",
       "      <td>1</td>\n",
       "      <td>76462I70374</td>\n",
       "      <td>712.0</td>\n",
       "      <td>12122.000000</td>\n",
       "      <td>12124.750000</td>\n",
       "      <td>3691.26</td>\n",
       "      <td>3691.26</td>\n",
       "      <td>20.0</td>\n",
       "      <td>0.0</td>\n",
       "      <td>...</td>\n",
       "      <td>12.0</td>\n",
       "      <td>0.0</td>\n",
       "      <td>1.0</td>\n",
       "      <td>12</td>\n",
       "      <td>12</td>\n",
       "      <td>0.0</td>\n",
       "      <td>0.000000</td>\n",
       "      <td>0.000000</td>\n",
       "      <td>UPW</td>\n",
       "      <td>2016-08-10</td>\n",
       "    </tr>\n",
       "    <tr>\n",
       "      <th>2</th>\n",
       "      <td>3</td>\n",
       "      <td>1</td>\n",
       "      <td>17943I70372</td>\n",
       "      <td>535.0</td>\n",
       "      <td>1398.000000</td>\n",
       "      <td>1398.000000</td>\n",
       "      <td>900.13</td>\n",
       "      <td>900.13</td>\n",
       "      <td>3.0</td>\n",
       "      <td>0.0</td>\n",
       "      <td>...</td>\n",
       "      <td>6.0</td>\n",
       "      <td>0.0</td>\n",
       "      <td>1.0</td>\n",
       "      <td>6</td>\n",
       "      <td>6</td>\n",
       "      <td>0.0</td>\n",
       "      <td>0.000000</td>\n",
       "      <td>0.000000</td>\n",
       "      <td>UPW</td>\n",
       "      <td>2016-08-19</td>\n",
       "    </tr>\n",
       "    <tr>\n",
       "      <th>3</th>\n",
       "      <td>4</td>\n",
       "      <td>1</td>\n",
       "      <td>55773I70781</td>\n",
       "      <td>241.0</td>\n",
       "      <td>21.228000</td>\n",
       "      <td>21.228000</td>\n",
       "      <td>159.42</td>\n",
       "      <td>159.42</td>\n",
       "      <td>41.0</td>\n",
       "      <td>0.0</td>\n",
       "      <td>...</td>\n",
       "      <td>6.0</td>\n",
       "      <td>0.0</td>\n",
       "      <td>2.0</td>\n",
       "      <td>12</td>\n",
       "      <td>6</td>\n",
       "      <td>0.0</td>\n",
       "      <td>0.000000</td>\n",
       "      <td>0.000000</td>\n",
       "      <td>UPW</td>\n",
       "      <td>2016-06-06</td>\n",
       "    </tr>\n",
       "    <tr>\n",
       "      <th>4</th>\n",
       "      <td>5</td>\n",
       "      <td>1</td>\n",
       "      <td>03813I82730</td>\n",
       "      <td>947.0</td>\n",
       "      <td>150.619333</td>\n",
       "      <td>150.619333</td>\n",
       "      <td>1098.90</td>\n",
       "      <td>1098.90</td>\n",
       "      <td>4.0</td>\n",
       "      <td>0.0</td>\n",
       "      <td>...</td>\n",
       "      <td>6.0</td>\n",
       "      <td>0.0</td>\n",
       "      <td>7.0</td>\n",
       "      <td>42</td>\n",
       "      <td>6</td>\n",
       "      <td>0.0</td>\n",
       "      <td>2.333333</td>\n",
       "      <td>2.333333</td>\n",
       "      <td>UPW</td>\n",
       "      <td>2016-06-22</td>\n",
       "    </tr>\n",
       "    <tr>\n",
       "      <th>...</th>\n",
       "      <td>...</td>\n",
       "      <td>...</td>\n",
       "      <td>...</td>\n",
       "      <td>...</td>\n",
       "      <td>...</td>\n",
       "      <td>...</td>\n",
       "      <td>...</td>\n",
       "      <td>...</td>\n",
       "      <td>...</td>\n",
       "      <td>...</td>\n",
       "      <td>...</td>\n",
       "      <td>...</td>\n",
       "      <td>...</td>\n",
       "      <td>...</td>\n",
       "      <td>...</td>\n",
       "      <td>...</td>\n",
       "      <td>...</td>\n",
       "      <td>...</td>\n",
       "      <td>...</td>\n",
       "      <td>...</td>\n",
       "      <td>...</td>\n",
       "    </tr>\n",
       "    <tr>\n",
       "      <th>209588</th>\n",
       "      <td>209589</td>\n",
       "      <td>1</td>\n",
       "      <td>22758I85348</td>\n",
       "      <td>404.0</td>\n",
       "      <td>151.872333</td>\n",
       "      <td>151.872333</td>\n",
       "      <td>1089.19</td>\n",
       "      <td>1089.19</td>\n",
       "      <td>1.0</td>\n",
       "      <td>0.0</td>\n",
       "      <td>...</td>\n",
       "      <td>6.0</td>\n",
       "      <td>0.0</td>\n",
       "      <td>2.0</td>\n",
       "      <td>12</td>\n",
       "      <td>6</td>\n",
       "      <td>0.0</td>\n",
       "      <td>1.000000</td>\n",
       "      <td>1.000000</td>\n",
       "      <td>UPW</td>\n",
       "      <td>2016-06-17</td>\n",
       "    </tr>\n",
       "    <tr>\n",
       "      <th>209589</th>\n",
       "      <td>209590</td>\n",
       "      <td>1</td>\n",
       "      <td>95583I84455</td>\n",
       "      <td>1075.0</td>\n",
       "      <td>36.936000</td>\n",
       "      <td>36.936000</td>\n",
       "      <td>1728.36</td>\n",
       "      <td>1728.36</td>\n",
       "      <td>4.0</td>\n",
       "      <td>0.0</td>\n",
       "      <td>...</td>\n",
       "      <td>6.0</td>\n",
       "      <td>0.0</td>\n",
       "      <td>3.0</td>\n",
       "      <td>18</td>\n",
       "      <td>6</td>\n",
       "      <td>0.0</td>\n",
       "      <td>1.000000</td>\n",
       "      <td>1.000000</td>\n",
       "      <td>UPW</td>\n",
       "      <td>2016-06-12</td>\n",
       "    </tr>\n",
       "    <tr>\n",
       "      <th>209590</th>\n",
       "      <td>209591</td>\n",
       "      <td>1</td>\n",
       "      <td>28556I85350</td>\n",
       "      <td>1013.0</td>\n",
       "      <td>11843.111667</td>\n",
       "      <td>11904.350000</td>\n",
       "      <td>5861.83</td>\n",
       "      <td>8893.20</td>\n",
       "      <td>3.0</td>\n",
       "      <td>0.0</td>\n",
       "      <td>...</td>\n",
       "      <td>12.0</td>\n",
       "      <td>0.0</td>\n",
       "      <td>6.0</td>\n",
       "      <td>54</td>\n",
       "      <td>12</td>\n",
       "      <td>0.0</td>\n",
       "      <td>4.000000</td>\n",
       "      <td>3.833333</td>\n",
       "      <td>UPW</td>\n",
       "      <td>2016-07-29</td>\n",
       "    </tr>\n",
       "    <tr>\n",
       "      <th>209591</th>\n",
       "      <td>209592</td>\n",
       "      <td>1</td>\n",
       "      <td>59712I82733</td>\n",
       "      <td>1732.0</td>\n",
       "      <td>12488.228333</td>\n",
       "      <td>12574.370000</td>\n",
       "      <td>411.83</td>\n",
       "      <td>984.58</td>\n",
       "      <td>2.0</td>\n",
       "      <td>38.0</td>\n",
       "      <td>...</td>\n",
       "      <td>12.0</td>\n",
       "      <td>0.0</td>\n",
       "      <td>3.0</td>\n",
       "      <td>24</td>\n",
       "      <td>12</td>\n",
       "      <td>0.0</td>\n",
       "      <td>0.000000</td>\n",
       "      <td>10.500000</td>\n",
       "      <td>UPW</td>\n",
       "      <td>2016-07-25</td>\n",
       "    </tr>\n",
       "    <tr>\n",
       "      <th>209592</th>\n",
       "      <td>209593</td>\n",
       "      <td>1</td>\n",
       "      <td>65061I85339</td>\n",
       "      <td>1581.0</td>\n",
       "      <td>4489.362000</td>\n",
       "      <td>4534.820000</td>\n",
       "      <td>483.92</td>\n",
       "      <td>631.20</td>\n",
       "      <td>13.0</td>\n",
       "      <td>0.0</td>\n",
       "      <td>...</td>\n",
       "      <td>12.0</td>\n",
       "      <td>0.0</td>\n",
       "      <td>2.0</td>\n",
       "      <td>18</td>\n",
       "      <td>12</td>\n",
       "      <td>0.0</td>\n",
       "      <td>0.000000</td>\n",
       "      <td>0.000000</td>\n",
       "      <td>UPW</td>\n",
       "      <td>2016-07-07</td>\n",
       "    </tr>\n",
       "  </tbody>\n",
       "</table>\n",
       "<p>209593 rows × 37 columns</p>\n",
       "</div>"
      ],
      "text/plain": [
       "        Unnamed: 0  label       msisdn     aon  daily_decr30  daily_decr90  \\\n",
       "0                1      0  21408I70789   272.0   3055.050000   3065.150000   \n",
       "1                2      1  76462I70374   712.0  12122.000000  12124.750000   \n",
       "2                3      1  17943I70372   535.0   1398.000000   1398.000000   \n",
       "3                4      1  55773I70781   241.0     21.228000     21.228000   \n",
       "4                5      1  03813I82730   947.0    150.619333    150.619333   \n",
       "...            ...    ...          ...     ...           ...           ...   \n",
       "209588      209589      1  22758I85348   404.0    151.872333    151.872333   \n",
       "209589      209590      1  95583I84455  1075.0     36.936000     36.936000   \n",
       "209590      209591      1  28556I85350  1013.0  11843.111667  11904.350000   \n",
       "209591      209592      1  59712I82733  1732.0  12488.228333  12574.370000   \n",
       "209592      209593      1  65061I85339  1581.0   4489.362000   4534.820000   \n",
       "\n",
       "        rental30  rental90  last_rech_date_ma  last_rech_date_da  ...  \\\n",
       "0         220.13    260.13                2.0                0.0  ...   \n",
       "1        3691.26   3691.26               20.0                0.0  ...   \n",
       "2         900.13    900.13                3.0                0.0  ...   \n",
       "3         159.42    159.42               41.0                0.0  ...   \n",
       "4        1098.90   1098.90                4.0                0.0  ...   \n",
       "...          ...       ...                ...                ...  ...   \n",
       "209588   1089.19   1089.19                1.0                0.0  ...   \n",
       "209589   1728.36   1728.36                4.0                0.0  ...   \n",
       "209590   5861.83   8893.20                3.0                0.0  ...   \n",
       "209591    411.83    984.58                2.0               38.0  ...   \n",
       "209592    483.92    631.20               13.0                0.0  ...   \n",
       "\n",
       "        maxamnt_loans30  medianamnt_loans30  cnt_loans90  amnt_loans90  \\\n",
       "0                   6.0                 0.0          2.0            12   \n",
       "1                  12.0                 0.0          1.0            12   \n",
       "2                   6.0                 0.0          1.0             6   \n",
       "3                   6.0                 0.0          2.0            12   \n",
       "4                   6.0                 0.0          7.0            42   \n",
       "...                 ...                 ...          ...           ...   \n",
       "209588              6.0                 0.0          2.0            12   \n",
       "209589              6.0                 0.0          3.0            18   \n",
       "209590             12.0                 0.0          6.0            54   \n",
       "209591             12.0                 0.0          3.0            24   \n",
       "209592             12.0                 0.0          2.0            18   \n",
       "\n",
       "        maxamnt_loans90  medianamnt_loans90  payback30  payback90  pcircle  \\\n",
       "0                     6                 0.0  29.000000  29.000000      UPW   \n",
       "1                    12                 0.0   0.000000   0.000000      UPW   \n",
       "2                     6                 0.0   0.000000   0.000000      UPW   \n",
       "3                     6                 0.0   0.000000   0.000000      UPW   \n",
       "4                     6                 0.0   2.333333   2.333333      UPW   \n",
       "...                 ...                 ...        ...        ...      ...   \n",
       "209588                6                 0.0   1.000000   1.000000      UPW   \n",
       "209589                6                 0.0   1.000000   1.000000      UPW   \n",
       "209590               12                 0.0   4.000000   3.833333      UPW   \n",
       "209591               12                 0.0   0.000000  10.500000      UPW   \n",
       "209592               12                 0.0   0.000000   0.000000      UPW   \n",
       "\n",
       "             pdate  \n",
       "0       2016-07-20  \n",
       "1       2016-08-10  \n",
       "2       2016-08-19  \n",
       "3       2016-06-06  \n",
       "4       2016-06-22  \n",
       "...            ...  \n",
       "209588  2016-06-17  \n",
       "209589  2016-06-12  \n",
       "209590  2016-07-29  \n",
       "209591  2016-07-25  \n",
       "209592  2016-07-07  \n",
       "\n",
       "[209593 rows x 37 columns]"
      ]
     },
     "execution_count": 3,
     "metadata": {},
     "output_type": "execute_result"
    }
   ],
   "source": [
    "df=pd.DataFrame(ds)\n",
    "df"
   ]
  },
  {
   "cell_type": "code",
   "execution_count": 4,
   "metadata": {},
   "outputs": [
    {
     "data": {
      "text/plain": [
       "Unnamed: 0               0.000000\n",
       "label                   -2.270254\n",
       "aon                     10.392949\n",
       "daily_decr30             3.946230\n",
       "daily_decr90             4.252565\n",
       "rental30                 4.521929\n",
       "rental90                 4.437681\n",
       "last_rech_date_ma       14.790974\n",
       "last_rech_date_da       14.814857\n",
       "last_rech_amt_ma         3.781149\n",
       "cnt_ma_rech30            3.283842\n",
       "fr_ma_rech30            14.772833\n",
       "sumamnt_ma_rech30        6.386787\n",
       "medianamnt_ma_rech30     3.512324\n",
       "medianmarechprebal30    14.779875\n",
       "cnt_ma_rech90            3.425254\n",
       "fr_ma_rech90             2.285423\n",
       "sumamnt_ma_rech90        4.897950\n",
       "medianamnt_ma_rech90     3.752706\n",
       "medianmarechprebal90    44.880503\n",
       "cnt_da_rech30           17.818364\n",
       "fr_da_rech30            14.776430\n",
       "cnt_da_rech90           27.267278\n",
       "fr_da_rech90            28.988083\n",
       "cnt_loans30              2.713421\n",
       "amnt_loans30             2.975719\n",
       "maxamnt_loans30         17.658052\n",
       "medianamnt_loans30       4.551043\n",
       "cnt_loans90             16.594408\n",
       "amnt_loans90             3.150006\n",
       "maxamnt_loans90          1.678304\n",
       "medianamnt_loans90       4.895720\n",
       "payback30                8.310695\n",
       "payback90                6.899951\n",
       "dtype: float64"
      ]
     },
     "execution_count": 4,
     "metadata": {},
     "output_type": "execute_result"
    }
   ],
   "source": [
    "df.skew()"
   ]
  },
  {
   "cell_type": "code",
   "execution_count": 5,
   "metadata": {},
   "outputs": [
    {
     "data": {
      "text/plain": [
       "Index(['Unnamed: 0', 'label', 'msisdn', 'aon', 'daily_decr30', 'daily_decr90',\n",
       "       'rental30', 'rental90', 'last_rech_date_ma', 'last_rech_date_da',\n",
       "       'last_rech_amt_ma', 'cnt_ma_rech30', 'fr_ma_rech30',\n",
       "       'sumamnt_ma_rech30', 'medianamnt_ma_rech30', 'medianmarechprebal30',\n",
       "       'cnt_ma_rech90', 'fr_ma_rech90', 'sumamnt_ma_rech90',\n",
       "       'medianamnt_ma_rech90', 'medianmarechprebal90', 'cnt_da_rech30',\n",
       "       'fr_da_rech30', 'cnt_da_rech90', 'fr_da_rech90', 'cnt_loans30',\n",
       "       'amnt_loans30', 'maxamnt_loans30', 'medianamnt_loans30', 'cnt_loans90',\n",
       "       'amnt_loans90', 'maxamnt_loans90', 'medianamnt_loans90', 'payback30',\n",
       "       'payback90', 'pcircle', 'pdate'],\n",
       "      dtype='object')"
      ]
     },
     "execution_count": 5,
     "metadata": {},
     "output_type": "execute_result"
    }
   ],
   "source": [
    "df.columns"
   ]
  },
  {
   "cell_type": "code",
   "execution_count": null,
   "metadata": {},
   "outputs": [],
   "source": []
  },
  {
   "cell_type": "code",
   "execution_count": 6,
   "metadata": {},
   "outputs": [
    {
     "data": {
      "text/plain": [
       "(209593, 37)"
      ]
     },
     "execution_count": 6,
     "metadata": {},
     "output_type": "execute_result"
    }
   ],
   "source": [
    "df.shape"
   ]
  },
  {
   "cell_type": "code",
   "execution_count": 7,
   "metadata": {},
   "outputs": [
    {
     "data": {
      "text/plain": [
       "Unnamed: 0                int64\n",
       "label                     int64\n",
       "msisdn                   object\n",
       "aon                     float64\n",
       "daily_decr30            float64\n",
       "daily_decr90            float64\n",
       "rental30                float64\n",
       "rental90                float64\n",
       "last_rech_date_ma       float64\n",
       "last_rech_date_da       float64\n",
       "last_rech_amt_ma          int64\n",
       "cnt_ma_rech30             int64\n",
       "fr_ma_rech30            float64\n",
       "sumamnt_ma_rech30       float64\n",
       "medianamnt_ma_rech30    float64\n",
       "medianmarechprebal30    float64\n",
       "cnt_ma_rech90             int64\n",
       "fr_ma_rech90              int64\n",
       "sumamnt_ma_rech90         int64\n",
       "medianamnt_ma_rech90    float64\n",
       "medianmarechprebal90    float64\n",
       "cnt_da_rech30           float64\n",
       "fr_da_rech30            float64\n",
       "cnt_da_rech90             int64\n",
       "fr_da_rech90              int64\n",
       "cnt_loans30               int64\n",
       "amnt_loans30              int64\n",
       "maxamnt_loans30         float64\n",
       "medianamnt_loans30      float64\n",
       "cnt_loans90             float64\n",
       "amnt_loans90              int64\n",
       "maxamnt_loans90           int64\n",
       "medianamnt_loans90      float64\n",
       "payback30               float64\n",
       "payback90               float64\n",
       "pcircle                  object\n",
       "pdate                    object\n",
       "dtype: object"
      ]
     },
     "execution_count": 7,
     "metadata": {},
     "output_type": "execute_result"
    }
   ],
   "source": [
    "df.dtypes"
   ]
  },
  {
   "cell_type": "code",
   "execution_count": 8,
   "metadata": {},
   "outputs": [
    {
     "data": {
      "text/html": [
       "<div>\n",
       "<style scoped>\n",
       "    .dataframe tbody tr th:only-of-type {\n",
       "        vertical-align: middle;\n",
       "    }\n",
       "\n",
       "    .dataframe tbody tr th {\n",
       "        vertical-align: top;\n",
       "    }\n",
       "\n",
       "    .dataframe thead th {\n",
       "        text-align: right;\n",
       "    }\n",
       "</style>\n",
       "<table border=\"1\" class=\"dataframe\">\n",
       "  <thead>\n",
       "    <tr style=\"text-align: right;\">\n",
       "      <th></th>\n",
       "      <th>Unnamed: 0</th>\n",
       "      <th>label</th>\n",
       "      <th>aon</th>\n",
       "      <th>daily_decr30</th>\n",
       "      <th>daily_decr90</th>\n",
       "      <th>rental30</th>\n",
       "      <th>rental90</th>\n",
       "      <th>last_rech_date_ma</th>\n",
       "      <th>last_rech_date_da</th>\n",
       "      <th>last_rech_amt_ma</th>\n",
       "      <th>...</th>\n",
       "      <th>cnt_loans30</th>\n",
       "      <th>amnt_loans30</th>\n",
       "      <th>maxamnt_loans30</th>\n",
       "      <th>medianamnt_loans30</th>\n",
       "      <th>cnt_loans90</th>\n",
       "      <th>amnt_loans90</th>\n",
       "      <th>maxamnt_loans90</th>\n",
       "      <th>medianamnt_loans90</th>\n",
       "      <th>payback30</th>\n",
       "      <th>payback90</th>\n",
       "    </tr>\n",
       "  </thead>\n",
       "  <tbody>\n",
       "    <tr>\n",
       "      <th>count</th>\n",
       "      <td>209593.000000</td>\n",
       "      <td>209593.000000</td>\n",
       "      <td>209593.000000</td>\n",
       "      <td>209593.000000</td>\n",
       "      <td>209593.000000</td>\n",
       "      <td>209593.000000</td>\n",
       "      <td>209593.000000</td>\n",
       "      <td>209593.000000</td>\n",
       "      <td>209593.000000</td>\n",
       "      <td>209593.000000</td>\n",
       "      <td>...</td>\n",
       "      <td>209593.000000</td>\n",
       "      <td>209593.000000</td>\n",
       "      <td>209593.000000</td>\n",
       "      <td>209593.000000</td>\n",
       "      <td>209593.000000</td>\n",
       "      <td>209593.000000</td>\n",
       "      <td>209593.000000</td>\n",
       "      <td>209593.000000</td>\n",
       "      <td>209593.000000</td>\n",
       "      <td>209593.000000</td>\n",
       "    </tr>\n",
       "    <tr>\n",
       "      <th>mean</th>\n",
       "      <td>104797.000000</td>\n",
       "      <td>0.875177</td>\n",
       "      <td>8112.343445</td>\n",
       "      <td>5381.402289</td>\n",
       "      <td>6082.515068</td>\n",
       "      <td>2692.581910</td>\n",
       "      <td>3483.406534</td>\n",
       "      <td>3755.847800</td>\n",
       "      <td>3712.202921</td>\n",
       "      <td>2064.452797</td>\n",
       "      <td>...</td>\n",
       "      <td>2.758981</td>\n",
       "      <td>17.952021</td>\n",
       "      <td>274.658747</td>\n",
       "      <td>0.054029</td>\n",
       "      <td>18.520919</td>\n",
       "      <td>23.645398</td>\n",
       "      <td>6.703134</td>\n",
       "      <td>0.046077</td>\n",
       "      <td>3.398826</td>\n",
       "      <td>4.321485</td>\n",
       "    </tr>\n",
       "    <tr>\n",
       "      <th>std</th>\n",
       "      <td>60504.431823</td>\n",
       "      <td>0.330519</td>\n",
       "      <td>75696.082531</td>\n",
       "      <td>9220.623400</td>\n",
       "      <td>10918.812767</td>\n",
       "      <td>4308.586781</td>\n",
       "      <td>5770.461279</td>\n",
       "      <td>53905.892230</td>\n",
       "      <td>53374.833430</td>\n",
       "      <td>2370.786034</td>\n",
       "      <td>...</td>\n",
       "      <td>2.554502</td>\n",
       "      <td>17.379741</td>\n",
       "      <td>4245.264648</td>\n",
       "      <td>0.218039</td>\n",
       "      <td>224.797423</td>\n",
       "      <td>26.469861</td>\n",
       "      <td>2.103864</td>\n",
       "      <td>0.200692</td>\n",
       "      <td>8.813729</td>\n",
       "      <td>10.308108</td>\n",
       "    </tr>\n",
       "    <tr>\n",
       "      <th>min</th>\n",
       "      <td>1.000000</td>\n",
       "      <td>0.000000</td>\n",
       "      <td>-48.000000</td>\n",
       "      <td>-93.012667</td>\n",
       "      <td>-93.012667</td>\n",
       "      <td>-23737.140000</td>\n",
       "      <td>-24720.580000</td>\n",
       "      <td>-29.000000</td>\n",
       "      <td>-29.000000</td>\n",
       "      <td>0.000000</td>\n",
       "      <td>...</td>\n",
       "      <td>0.000000</td>\n",
       "      <td>0.000000</td>\n",
       "      <td>0.000000</td>\n",
       "      <td>0.000000</td>\n",
       "      <td>0.000000</td>\n",
       "      <td>0.000000</td>\n",
       "      <td>0.000000</td>\n",
       "      <td>0.000000</td>\n",
       "      <td>0.000000</td>\n",
       "      <td>0.000000</td>\n",
       "    </tr>\n",
       "    <tr>\n",
       "      <th>25%</th>\n",
       "      <td>52399.000000</td>\n",
       "      <td>1.000000</td>\n",
       "      <td>246.000000</td>\n",
       "      <td>42.440000</td>\n",
       "      <td>42.692000</td>\n",
       "      <td>280.420000</td>\n",
       "      <td>300.260000</td>\n",
       "      <td>1.000000</td>\n",
       "      <td>0.000000</td>\n",
       "      <td>770.000000</td>\n",
       "      <td>...</td>\n",
       "      <td>1.000000</td>\n",
       "      <td>6.000000</td>\n",
       "      <td>6.000000</td>\n",
       "      <td>0.000000</td>\n",
       "      <td>1.000000</td>\n",
       "      <td>6.000000</td>\n",
       "      <td>6.000000</td>\n",
       "      <td>0.000000</td>\n",
       "      <td>0.000000</td>\n",
       "      <td>0.000000</td>\n",
       "    </tr>\n",
       "    <tr>\n",
       "      <th>50%</th>\n",
       "      <td>104797.000000</td>\n",
       "      <td>1.000000</td>\n",
       "      <td>527.000000</td>\n",
       "      <td>1469.175667</td>\n",
       "      <td>1500.000000</td>\n",
       "      <td>1083.570000</td>\n",
       "      <td>1334.000000</td>\n",
       "      <td>3.000000</td>\n",
       "      <td>0.000000</td>\n",
       "      <td>1539.000000</td>\n",
       "      <td>...</td>\n",
       "      <td>2.000000</td>\n",
       "      <td>12.000000</td>\n",
       "      <td>6.000000</td>\n",
       "      <td>0.000000</td>\n",
       "      <td>2.000000</td>\n",
       "      <td>12.000000</td>\n",
       "      <td>6.000000</td>\n",
       "      <td>0.000000</td>\n",
       "      <td>0.000000</td>\n",
       "      <td>1.666667</td>\n",
       "    </tr>\n",
       "    <tr>\n",
       "      <th>75%</th>\n",
       "      <td>157195.000000</td>\n",
       "      <td>1.000000</td>\n",
       "      <td>982.000000</td>\n",
       "      <td>7244.000000</td>\n",
       "      <td>7802.790000</td>\n",
       "      <td>3356.940000</td>\n",
       "      <td>4201.790000</td>\n",
       "      <td>7.000000</td>\n",
       "      <td>0.000000</td>\n",
       "      <td>2309.000000</td>\n",
       "      <td>...</td>\n",
       "      <td>4.000000</td>\n",
       "      <td>24.000000</td>\n",
       "      <td>6.000000</td>\n",
       "      <td>0.000000</td>\n",
       "      <td>5.000000</td>\n",
       "      <td>30.000000</td>\n",
       "      <td>6.000000</td>\n",
       "      <td>0.000000</td>\n",
       "      <td>3.750000</td>\n",
       "      <td>4.500000</td>\n",
       "    </tr>\n",
       "    <tr>\n",
       "      <th>max</th>\n",
       "      <td>209593.000000</td>\n",
       "      <td>1.000000</td>\n",
       "      <td>999860.755168</td>\n",
       "      <td>265926.000000</td>\n",
       "      <td>320630.000000</td>\n",
       "      <td>198926.110000</td>\n",
       "      <td>200148.110000</td>\n",
       "      <td>998650.377733</td>\n",
       "      <td>999171.809410</td>\n",
       "      <td>55000.000000</td>\n",
       "      <td>...</td>\n",
       "      <td>50.000000</td>\n",
       "      <td>306.000000</td>\n",
       "      <td>99864.560864</td>\n",
       "      <td>3.000000</td>\n",
       "      <td>4997.517944</td>\n",
       "      <td>438.000000</td>\n",
       "      <td>12.000000</td>\n",
       "      <td>3.000000</td>\n",
       "      <td>171.500000</td>\n",
       "      <td>171.500000</td>\n",
       "    </tr>\n",
       "  </tbody>\n",
       "</table>\n",
       "<p>8 rows × 34 columns</p>\n",
       "</div>"
      ],
      "text/plain": [
       "          Unnamed: 0          label            aon   daily_decr30  \\\n",
       "count  209593.000000  209593.000000  209593.000000  209593.000000   \n",
       "mean   104797.000000       0.875177    8112.343445    5381.402289   \n",
       "std     60504.431823       0.330519   75696.082531    9220.623400   \n",
       "min         1.000000       0.000000     -48.000000     -93.012667   \n",
       "25%     52399.000000       1.000000     246.000000      42.440000   \n",
       "50%    104797.000000       1.000000     527.000000    1469.175667   \n",
       "75%    157195.000000       1.000000     982.000000    7244.000000   \n",
       "max    209593.000000       1.000000  999860.755168  265926.000000   \n",
       "\n",
       "        daily_decr90       rental30       rental90  last_rech_date_ma  \\\n",
       "count  209593.000000  209593.000000  209593.000000      209593.000000   \n",
       "mean     6082.515068    2692.581910    3483.406534        3755.847800   \n",
       "std     10918.812767    4308.586781    5770.461279       53905.892230   \n",
       "min       -93.012667  -23737.140000  -24720.580000         -29.000000   \n",
       "25%        42.692000     280.420000     300.260000           1.000000   \n",
       "50%      1500.000000    1083.570000    1334.000000           3.000000   \n",
       "75%      7802.790000    3356.940000    4201.790000           7.000000   \n",
       "max    320630.000000  198926.110000  200148.110000      998650.377733   \n",
       "\n",
       "       last_rech_date_da  last_rech_amt_ma  ...    cnt_loans30   amnt_loans30  \\\n",
       "count      209593.000000     209593.000000  ...  209593.000000  209593.000000   \n",
       "mean         3712.202921       2064.452797  ...       2.758981      17.952021   \n",
       "std         53374.833430       2370.786034  ...       2.554502      17.379741   \n",
       "min           -29.000000          0.000000  ...       0.000000       0.000000   \n",
       "25%             0.000000        770.000000  ...       1.000000       6.000000   \n",
       "50%             0.000000       1539.000000  ...       2.000000      12.000000   \n",
       "75%             0.000000       2309.000000  ...       4.000000      24.000000   \n",
       "max        999171.809410      55000.000000  ...      50.000000     306.000000   \n",
       "\n",
       "       maxamnt_loans30  medianamnt_loans30    cnt_loans90   amnt_loans90  \\\n",
       "count    209593.000000       209593.000000  209593.000000  209593.000000   \n",
       "mean        274.658747            0.054029      18.520919      23.645398   \n",
       "std        4245.264648            0.218039     224.797423      26.469861   \n",
       "min           0.000000            0.000000       0.000000       0.000000   \n",
       "25%           6.000000            0.000000       1.000000       6.000000   \n",
       "50%           6.000000            0.000000       2.000000      12.000000   \n",
       "75%           6.000000            0.000000       5.000000      30.000000   \n",
       "max       99864.560864            3.000000    4997.517944     438.000000   \n",
       "\n",
       "       maxamnt_loans90  medianamnt_loans90      payback30      payback90  \n",
       "count    209593.000000       209593.000000  209593.000000  209593.000000  \n",
       "mean          6.703134            0.046077       3.398826       4.321485  \n",
       "std           2.103864            0.200692       8.813729      10.308108  \n",
       "min           0.000000            0.000000       0.000000       0.000000  \n",
       "25%           6.000000            0.000000       0.000000       0.000000  \n",
       "50%           6.000000            0.000000       0.000000       1.666667  \n",
       "75%           6.000000            0.000000       3.750000       4.500000  \n",
       "max          12.000000            3.000000     171.500000     171.500000  \n",
       "\n",
       "[8 rows x 34 columns]"
      ]
     },
     "execution_count": 8,
     "metadata": {},
     "output_type": "execute_result"
    }
   ],
   "source": [
    "df.describe()"
   ]
  },
  {
   "cell_type": "code",
   "execution_count": 9,
   "metadata": {},
   "outputs": [
    {
     "data": {
      "text/plain": [
       "<matplotlib.axes._subplots.AxesSubplot at 0x23c00786c40>"
      ]
     },
     "execution_count": 9,
     "metadata": {},
     "output_type": "execute_result"
    },
    {
     "data": {
      "image/png": "[encoded data removed]",
      "text/plain": [
       "<Figure size 432x288 with 2 Axes>"
      ]
     },
     "metadata": {
      "needs_background": "light"
     },
     "output_type": "display_data"
    }
   ],
   "source": [
    "sns.heatmap(df.isnull())"
   ]
  },
  {
   "cell_type": "code",
   "execution_count": 10,
   "metadata": {},
   "outputs": [],
   "source": [
    "df_cor= df.corr()"
   ]
  },
  {
   "cell_type": "code",
   "execution_count": 11,
   "metadata": {},
   "outputs": [
    {
     "data": {
      "text/plain": [
       "<matplotlib.axes._subplots.AxesSubplot at 0x23c00968e80>"
      ]
     },
     "execution_count": 11,
     "metadata": {},
     "output_type": "execute_result"
    },
    {
     "data": {
      "image/png": "[encoded data removed]",
      "text/plain": [
       "<Figure size 432x288 with 2 Axes>"
      ]
     },
     "metadata": {
      "needs_background": "light"
     },
     "output_type": "display_data"
    }
   ],
   "source": [
    "sns.heatmap(df_cor)"
   ]
  },
  {
   "cell_type": "code",
   "execution_count": 12,
   "metadata": {},
   "outputs": [
    {
     "data": {
      "text/html": [
       "<div>\n",
       "<style scoped>\n",
       "    .dataframe tbody tr th:only-of-type {\n",
       "        vertical-align: middle;\n",
       "    }\n",
       "\n",
       "    .dataframe tbody tr th {\n",
       "        vertical-align: top;\n",
       "    }\n",
       "\n",
       "    .dataframe thead th {\n",
       "        text-align: right;\n",
       "    }\n",
       "</style>\n",
       "<table border=\"1\" class=\"dataframe\">\n",
       "  <thead>\n",
       "    <tr style=\"text-align: right;\">\n",
       "      <th></th>\n",
       "      <th>Unnamed: 0</th>\n",
       "      <th>label</th>\n",
       "      <th>msisdn</th>\n",
       "      <th>aon</th>\n",
       "      <th>daily_decr30</th>\n",
       "      <th>daily_decr90</th>\n",
       "      <th>rental30</th>\n",
       "      <th>rental90</th>\n",
       "      <th>last_rech_date_ma</th>\n",
       "      <th>last_rech_date_da</th>\n",
       "      <th>...</th>\n",
       "      <th>maxamnt_loans30</th>\n",
       "      <th>medianamnt_loans30</th>\n",
       "      <th>cnt_loans90</th>\n",
       "      <th>amnt_loans90</th>\n",
       "      <th>maxamnt_loans90</th>\n",
       "      <th>medianamnt_loans90</th>\n",
       "      <th>payback30</th>\n",
       "      <th>payback90</th>\n",
       "      <th>pcircle</th>\n",
       "      <th>pdate</th>\n",
       "    </tr>\n",
       "  </thead>\n",
       "  <tbody>\n",
       "    <tr>\n",
       "      <th>0</th>\n",
       "      <td>1</td>\n",
       "      <td>0</td>\n",
       "      <td>21408I70789</td>\n",
       "      <td>272.0</td>\n",
       "      <td>3055.050000</td>\n",
       "      <td>3065.150000</td>\n",
       "      <td>220.13</td>\n",
       "      <td>260.13</td>\n",
       "      <td>2.0</td>\n",
       "      <td>0.0</td>\n",
       "      <td>...</td>\n",
       "      <td>6.0</td>\n",
       "      <td>0.0</td>\n",
       "      <td>2.0</td>\n",
       "      <td>12</td>\n",
       "      <td>6</td>\n",
       "      <td>0.0</td>\n",
       "      <td>29.000000</td>\n",
       "      <td>29.000000</td>\n",
       "      <td>UPW</td>\n",
       "      <td>2016-07-20</td>\n",
       "    </tr>\n",
       "    <tr>\n",
       "      <th>1</th>\n",
       "      <td>2</td>\n",
       "      <td>1</td>\n",
       "      <td>76462I70374</td>\n",
       "      <td>712.0</td>\n",
       "      <td>12122.000000</td>\n",
       "      <td>12124.750000</td>\n",
       "      <td>3691.26</td>\n",
       "      <td>3691.26</td>\n",
       "      <td>20.0</td>\n",
       "      <td>0.0</td>\n",
       "      <td>...</td>\n",
       "      <td>12.0</td>\n",
       "      <td>0.0</td>\n",
       "      <td>1.0</td>\n",
       "      <td>12</td>\n",
       "      <td>12</td>\n",
       "      <td>0.0</td>\n",
       "      <td>0.000000</td>\n",
       "      <td>0.000000</td>\n",
       "      <td>UPW</td>\n",
       "      <td>2016-08-10</td>\n",
       "    </tr>\n",
       "    <tr>\n",
       "      <th>2</th>\n",
       "      <td>3</td>\n",
       "      <td>1</td>\n",
       "      <td>17943I70372</td>\n",
       "      <td>535.0</td>\n",
       "      <td>1398.000000</td>\n",
       "      <td>1398.000000</td>\n",
       "      <td>900.13</td>\n",
       "      <td>900.13</td>\n",
       "      <td>3.0</td>\n",
       "      <td>0.0</td>\n",
       "      <td>...</td>\n",
       "      <td>6.0</td>\n",
       "      <td>0.0</td>\n",
       "      <td>1.0</td>\n",
       "      <td>6</td>\n",
       "      <td>6</td>\n",
       "      <td>0.0</td>\n",
       "      <td>0.000000</td>\n",
       "      <td>0.000000</td>\n",
       "      <td>UPW</td>\n",
       "      <td>2016-08-19</td>\n",
       "    </tr>\n",
       "    <tr>\n",
       "      <th>3</th>\n",
       "      <td>4</td>\n",
       "      <td>1</td>\n",
       "      <td>55773I70781</td>\n",
       "      <td>241.0</td>\n",
       "      <td>21.228000</td>\n",
       "      <td>21.228000</td>\n",
       "      <td>159.42</td>\n",
       "      <td>159.42</td>\n",
       "      <td>41.0</td>\n",
       "      <td>0.0</td>\n",
       "      <td>...</td>\n",
       "      <td>6.0</td>\n",
       "      <td>0.0</td>\n",
       "      <td>2.0</td>\n",
       "      <td>12</td>\n",
       "      <td>6</td>\n",
       "      <td>0.0</td>\n",
       "      <td>0.000000</td>\n",
       "      <td>0.000000</td>\n",
       "      <td>UPW</td>\n",
       "      <td>2016-06-06</td>\n",
       "    </tr>\n",
       "    <tr>\n",
       "      <th>4</th>\n",
       "      <td>5</td>\n",
       "      <td>1</td>\n",
       "      <td>03813I82730</td>\n",
       "      <td>947.0</td>\n",
       "      <td>150.619333</td>\n",
       "      <td>150.619333</td>\n",
       "      <td>1098.90</td>\n",
       "      <td>1098.90</td>\n",
       "      <td>4.0</td>\n",
       "      <td>0.0</td>\n",
       "      <td>...</td>\n",
       "      <td>6.0</td>\n",
       "      <td>0.0</td>\n",
       "      <td>7.0</td>\n",
       "      <td>42</td>\n",
       "      <td>6</td>\n",
       "      <td>0.0</td>\n",
       "      <td>2.333333</td>\n",
       "      <td>2.333333</td>\n",
       "      <td>UPW</td>\n",
       "      <td>2016-06-22</td>\n",
       "    </tr>\n",
       "    <tr>\n",
       "      <th>...</th>\n",
       "      <td>...</td>\n",
       "      <td>...</td>\n",
       "      <td>...</td>\n",
       "      <td>...</td>\n",
       "      <td>...</td>\n",
       "      <td>...</td>\n",
       "      <td>...</td>\n",
       "      <td>...</td>\n",
       "      <td>...</td>\n",
       "      <td>...</td>\n",
       "      <td>...</td>\n",
       "      <td>...</td>\n",
       "      <td>...</td>\n",
       "      <td>...</td>\n",
       "      <td>...</td>\n",
       "      <td>...</td>\n",
       "      <td>...</td>\n",
       "      <td>...</td>\n",
       "      <td>...</td>\n",
       "      <td>...</td>\n",
       "      <td>...</td>\n",
       "    </tr>\n",
       "    <tr>\n",
       "      <th>209588</th>\n",
       "      <td>209589</td>\n",
       "      <td>1</td>\n",
       "      <td>22758I85348</td>\n",
       "      <td>404.0</td>\n",
       "      <td>151.872333</td>\n",
       "      <td>151.872333</td>\n",
       "      <td>1089.19</td>\n",
       "      <td>1089.19</td>\n",
       "      <td>1.0</td>\n",
       "      <td>0.0</td>\n",
       "      <td>...</td>\n",
       "      <td>6.0</td>\n",
       "      <td>0.0</td>\n",
       "      <td>2.0</td>\n",
       "      <td>12</td>\n",
       "      <td>6</td>\n",
       "      <td>0.0</td>\n",
       "      <td>1.000000</td>\n",
       "      <td>1.000000</td>\n",
       "      <td>UPW</td>\n",
       "      <td>2016-06-17</td>\n",
       "    </tr>\n",
       "    <tr>\n",
       "      <th>209589</th>\n",
       "      <td>209590</td>\n",
       "      <td>1</td>\n",
       "      <td>95583I84455</td>\n",
       "      <td>1075.0</td>\n",
       "      <td>36.936000</td>\n",
       "      <td>36.936000</td>\n",
       "      <td>1728.36</td>\n",
       "      <td>1728.36</td>\n",
       "      <td>4.0</td>\n",
       "      <td>0.0</td>\n",
       "      <td>...</td>\n",
       "      <td>6.0</td>\n",
       "      <td>0.0</td>\n",
       "      <td>3.0</td>\n",
       "      <td>18</td>\n",
       "      <td>6</td>\n",
       "      <td>0.0</td>\n",
       "      <td>1.000000</td>\n",
       "      <td>1.000000</td>\n",
       "      <td>UPW</td>\n",
       "      <td>2016-06-12</td>\n",
       "    </tr>\n",
       "    <tr>\n",
       "      <th>209590</th>\n",
       "      <td>209591</td>\n",
       "      <td>1</td>\n",
       "      <td>28556I85350</td>\n",
       "      <td>1013.0</td>\n",
       "      <td>11843.111667</td>\n",
       "      <td>11904.350000</td>\n",
       "      <td>5861.83</td>\n",
       "      <td>8893.20</td>\n",
       "      <td>3.0</td>\n",
       "      <td>0.0</td>\n",
       "      <td>...</td>\n",
       "      <td>12.0</td>\n",
       "      <td>0.0</td>\n",
       "      <td>6.0</td>\n",
       "      <td>54</td>\n",
       "      <td>12</td>\n",
       "      <td>0.0</td>\n",
       "      <td>4.000000</td>\n",
       "      <td>3.833333</td>\n",
       "      <td>UPW</td>\n",
       "      <td>2016-07-29</td>\n",
       "    </tr>\n",
       "    <tr>\n",
       "      <th>209591</th>\n",
       "      <td>209592</td>\n",
       "      <td>1</td>\n",
       "      <td>59712I82733</td>\n",
       "      <td>1732.0</td>\n",
       "      <td>12488.228333</td>\n",
       "      <td>12574.370000</td>\n",
       "      <td>411.83</td>\n",
       "      <td>984.58</td>\n",
       "      <td>2.0</td>\n",
       "      <td>38.0</td>\n",
       "      <td>...</td>\n",
       "      <td>12.0</td>\n",
       "      <td>0.0</td>\n",
       "      <td>3.0</td>\n",
       "      <td>24</td>\n",
       "      <td>12</td>\n",
       "      <td>0.0</td>\n",
       "      <td>0.000000</td>\n",
       "      <td>10.500000</td>\n",
       "      <td>UPW</td>\n",
       "      <td>2016-07-25</td>\n",
       "    </tr>\n",
       "    <tr>\n",
       "      <th>209592</th>\n",
       "      <td>209593</td>\n",
       "      <td>1</td>\n",
       "      <td>65061I85339</td>\n",
       "      <td>1581.0</td>\n",
       "      <td>4489.362000</td>\n",
       "      <td>4534.820000</td>\n",
       "      <td>483.92</td>\n",
       "      <td>631.20</td>\n",
       "      <td>13.0</td>\n",
       "      <td>0.0</td>\n",
       "      <td>...</td>\n",
       "      <td>12.0</td>\n",
       "      <td>0.0</td>\n",
       "      <td>2.0</td>\n",
       "      <td>18</td>\n",
       "      <td>12</td>\n",
       "      <td>0.0</td>\n",
       "      <td>0.000000</td>\n",
       "      <td>0.000000</td>\n",
       "      <td>UPW</td>\n",
       "      <td>2016-07-07</td>\n",
       "    </tr>\n",
       "  </tbody>\n",
       "</table>\n",
       "<p>209593 rows × 37 columns</p>\n",
       "</div>"
      ],
      "text/plain": [
       "        Unnamed: 0  label       msisdn     aon  daily_decr30  daily_decr90  \\\n",
       "0                1      0  21408I70789   272.0   3055.050000   3065.150000   \n",
       "1                2      1  76462I70374   712.0  12122.000000  12124.750000   \n",
       "2                3      1  17943I70372   535.0   1398.000000   1398.000000   \n",
       "3                4      1  55773I70781   241.0     21.228000     21.228000   \n",
       "4                5      1  03813I82730   947.0    150.619333    150.619333   \n",
       "...            ...    ...          ...     ...           ...           ...   \n",
       "209588      209589      1  22758I85348   404.0    151.872333    151.872333   \n",
       "209589      209590      1  95583I84455  1075.0     36.936000     36.936000   \n",
       "209590      209591      1  28556I85350  1013.0  11843.111667  11904.350000   \n",
       "209591      209592      1  59712I82733  1732.0  12488.228333  12574.370000   \n",
       "209592      209593      1  65061I85339  1581.0   4489.362000   4534.820000   \n",
       "\n",
       "        rental30  rental90  last_rech_date_ma  last_rech_date_da  ...  \\\n",
       "0         220.13    260.13                2.0                0.0  ...   \n",
       "1        3691.26   3691.26               20.0                0.0  ...   \n",
       "2         900.13    900.13                3.0                0.0  ...   \n",
       "3         159.42    159.42               41.0                0.0  ...   \n",
       "4        1098.90   1098.90                4.0                0.0  ...   \n",
       "...          ...       ...                ...                ...  ...   \n",
       "209588   1089.19   1089.19                1.0                0.0  ...   \n",
       "209589   1728.36   1728.36                4.0                0.0  ...   \n",
       "209590   5861.83   8893.20                3.0                0.0  ...   \n",
       "209591    411.83    984.58                2.0               38.0  ...   \n",
       "209592    483.92    631.20               13.0                0.0  ...   \n",
       "\n",
       "        maxamnt_loans30  medianamnt_loans30  cnt_loans90  amnt_loans90  \\\n",
       "0                   6.0                 0.0          2.0            12   \n",
       "1                  12.0                 0.0          1.0            12   \n",
       "2                   6.0                 0.0          1.0             6   \n",
       "3                   6.0                 0.0          2.0            12   \n",
       "4                   6.0                 0.0          7.0            42   \n",
       "...                 ...                 ...          ...           ...   \n",
       "209588              6.0                 0.0          2.0            12   \n",
       "209589              6.0                 0.0          3.0            18   \n",
       "209590             12.0                 0.0          6.0            54   \n",
       "209591             12.0                 0.0          3.0            24   \n",
       "209592             12.0                 0.0          2.0            18   \n",
       "\n",
       "        maxamnt_loans90  medianamnt_loans90  payback30  payback90  pcircle  \\\n",
       "0                     6                 0.0  29.000000  29.000000      UPW   \n",
       "1                    12                 0.0   0.000000   0.000000      UPW   \n",
       "2                     6                 0.0   0.000000   0.000000      UPW   \n",
       "3                     6                 0.0   0.000000   0.000000      UPW   \n",
       "4                     6                 0.0   2.333333   2.333333      UPW   \n",
       "...                 ...                 ...        ...        ...      ...   \n",
       "209588                6                 0.0   1.000000   1.000000      UPW   \n",
       "209589                6                 0.0   1.000000   1.000000      UPW   \n",
       "209590               12                 0.0   4.000000   3.833333      UPW   \n",
       "209591               12                 0.0   0.000000  10.500000      UPW   \n",
       "209592               12                 0.0   0.000000   0.000000      UPW   \n",
       "\n",
       "             pdate  \n",
       "0       2016-07-20  \n",
       "1       2016-08-10  \n",
       "2       2016-08-19  \n",
       "3       2016-06-06  \n",
       "4       2016-06-22  \n",
       "...            ...  \n",
       "209588  2016-06-17  \n",
       "209589  2016-06-12  \n",
       "209590  2016-07-29  \n",
       "209591  2016-07-25  \n",
       "209592  2016-07-07  \n",
       "\n",
       "[209593 rows x 37 columns]"
      ]
     },
     "execution_count": 12,
     "metadata": {},
     "output_type": "execute_result"
    }
   ],
   "source": [
    "df"
   ]
  },
  {
   "cell_type": "code",
   "execution_count": 13,
   "metadata": {},
   "outputs": [],
   "source": [
    "df.drop(['pdate'],axis=1,inplace=True)"
   ]
  },
  {
   "cell_type": "code",
   "execution_count": 14,
   "metadata": {},
   "outputs": [],
   "source": [
    "df.drop(['pcircle'],axis=1,inplace=True)"
   ]
  },
  {
   "cell_type": "code",
   "execution_count": 15,
   "metadata": {},
   "outputs": [],
   "source": [
    "df.drop(['msisdn'],axis=1,inplace=True)"
   ]
  },
  {
   "cell_type": "code",
   "execution_count": null,
   "metadata": {},
   "outputs": [],
   "source": []
  },
  {
   "cell_type": "code",
   "execution_count": null,
   "metadata": {},
   "outputs": [],
   "source": []
  },
  {
   "cell_type": "code",
   "execution_count": 16,
   "metadata": {},
   "outputs": [],
   "source": [
    "df.drop(['medianamnt_loans30'],axis=1,inplace=True)"
   ]
  },
  {
   "cell_type": "code",
   "execution_count": 17,
   "metadata": {},
   "outputs": [],
   "source": [
    "df.drop(['medianamnt_loans90'],axis=1,inplace=True)"
   ]
  },
  {
   "cell_type": "code",
   "execution_count": 18,
   "metadata": {},
   "outputs": [],
   "source": [
    "df.drop(['Unnamed: 0'],axis=1,inplace=True)"
   ]
  },
  {
   "cell_type": "code",
   "execution_count": 19,
   "metadata": {},
   "outputs": [
    {
     "data": {
      "text/plain": [
       "(209593, 31)"
      ]
     },
     "execution_count": 19,
     "metadata": {},
     "output_type": "execute_result"
    }
   ],
   "source": [
    "df.shape"
   ]
  },
  {
   "cell_type": "code",
   "execution_count": 20,
   "metadata": {},
   "outputs": [
    {
     "data": {
      "text/html": [
       "<div>\n",
       "<style scoped>\n",
       "    .dataframe tbody tr th:only-of-type {\n",
       "        vertical-align: middle;\n",
       "    }\n",
       "\n",
       "    .dataframe tbody tr th {\n",
       "        vertical-align: top;\n",
       "    }\n",
       "\n",
       "    .dataframe thead th {\n",
       "        text-align: right;\n",
       "    }\n",
       "</style>\n",
       "<table border=\"1\" class=\"dataframe\">\n",
       "  <thead>\n",
       "    <tr style=\"text-align: right;\">\n",
       "      <th></th>\n",
       "      <th>label</th>\n",
       "      <th>aon</th>\n",
       "      <th>daily_decr30</th>\n",
       "      <th>daily_decr90</th>\n",
       "      <th>rental30</th>\n",
       "      <th>rental90</th>\n",
       "      <th>last_rech_date_ma</th>\n",
       "      <th>last_rech_date_da</th>\n",
       "      <th>last_rech_amt_ma</th>\n",
       "      <th>cnt_ma_rech30</th>\n",
       "      <th>...</th>\n",
       "      <th>cnt_da_rech90</th>\n",
       "      <th>fr_da_rech90</th>\n",
       "      <th>cnt_loans30</th>\n",
       "      <th>amnt_loans30</th>\n",
       "      <th>maxamnt_loans30</th>\n",
       "      <th>cnt_loans90</th>\n",
       "      <th>amnt_loans90</th>\n",
       "      <th>maxamnt_loans90</th>\n",
       "      <th>payback30</th>\n",
       "      <th>payback90</th>\n",
       "    </tr>\n",
       "  </thead>\n",
       "  <tbody>\n",
       "    <tr>\n",
       "      <th>0</th>\n",
       "      <td>0</td>\n",
       "      <td>272.0</td>\n",
       "      <td>3055.050000</td>\n",
       "      <td>3065.150000</td>\n",
       "      <td>220.13</td>\n",
       "      <td>260.13</td>\n",
       "      <td>2.0</td>\n",
       "      <td>0.0</td>\n",
       "      <td>1539</td>\n",
       "      <td>2</td>\n",
       "      <td>...</td>\n",
       "      <td>0</td>\n",
       "      <td>0</td>\n",
       "      <td>2</td>\n",
       "      <td>12</td>\n",
       "      <td>6.0</td>\n",
       "      <td>2.0</td>\n",
       "      <td>12</td>\n",
       "      <td>6</td>\n",
       "      <td>29.000000</td>\n",
       "      <td>29.000000</td>\n",
       "    </tr>\n",
       "    <tr>\n",
       "      <th>1</th>\n",
       "      <td>1</td>\n",
       "      <td>712.0</td>\n",
       "      <td>12122.000000</td>\n",
       "      <td>12124.750000</td>\n",
       "      <td>3691.26</td>\n",
       "      <td>3691.26</td>\n",
       "      <td>20.0</td>\n",
       "      <td>0.0</td>\n",
       "      <td>5787</td>\n",
       "      <td>1</td>\n",
       "      <td>...</td>\n",
       "      <td>0</td>\n",
       "      <td>0</td>\n",
       "      <td>1</td>\n",
       "      <td>12</td>\n",
       "      <td>12.0</td>\n",
       "      <td>1.0</td>\n",
       "      <td>12</td>\n",
       "      <td>12</td>\n",
       "      <td>0.000000</td>\n",
       "      <td>0.000000</td>\n",
       "    </tr>\n",
       "    <tr>\n",
       "      <th>2</th>\n",
       "      <td>1</td>\n",
       "      <td>535.0</td>\n",
       "      <td>1398.000000</td>\n",
       "      <td>1398.000000</td>\n",
       "      <td>900.13</td>\n",
       "      <td>900.13</td>\n",
       "      <td>3.0</td>\n",
       "      <td>0.0</td>\n",
       "      <td>1539</td>\n",
       "      <td>1</td>\n",
       "      <td>...</td>\n",
       "      <td>0</td>\n",
       "      <td>0</td>\n",
       "      <td>1</td>\n",
       "      <td>6</td>\n",
       "      <td>6.0</td>\n",
       "      <td>1.0</td>\n",
       "      <td>6</td>\n",
       "      <td>6</td>\n",
       "      <td>0.000000</td>\n",
       "      <td>0.000000</td>\n",
       "    </tr>\n",
       "    <tr>\n",
       "      <th>3</th>\n",
       "      <td>1</td>\n",
       "      <td>241.0</td>\n",
       "      <td>21.228000</td>\n",
       "      <td>21.228000</td>\n",
       "      <td>159.42</td>\n",
       "      <td>159.42</td>\n",
       "      <td>41.0</td>\n",
       "      <td>0.0</td>\n",
       "      <td>947</td>\n",
       "      <td>0</td>\n",
       "      <td>...</td>\n",
       "      <td>0</td>\n",
       "      <td>0</td>\n",
       "      <td>2</td>\n",
       "      <td>12</td>\n",
       "      <td>6.0</td>\n",
       "      <td>2.0</td>\n",
       "      <td>12</td>\n",
       "      <td>6</td>\n",
       "      <td>0.000000</td>\n",
       "      <td>0.000000</td>\n",
       "    </tr>\n",
       "    <tr>\n",
       "      <th>4</th>\n",
       "      <td>1</td>\n",
       "      <td>947.0</td>\n",
       "      <td>150.619333</td>\n",
       "      <td>150.619333</td>\n",
       "      <td>1098.90</td>\n",
       "      <td>1098.90</td>\n",
       "      <td>4.0</td>\n",
       "      <td>0.0</td>\n",
       "      <td>2309</td>\n",
       "      <td>7</td>\n",
       "      <td>...</td>\n",
       "      <td>0</td>\n",
       "      <td>0</td>\n",
       "      <td>7</td>\n",
       "      <td>42</td>\n",
       "      <td>6.0</td>\n",
       "      <td>7.0</td>\n",
       "      <td>42</td>\n",
       "      <td>6</td>\n",
       "      <td>2.333333</td>\n",
       "      <td>2.333333</td>\n",
       "    </tr>\n",
       "    <tr>\n",
       "      <th>...</th>\n",
       "      <td>...</td>\n",
       "      <td>...</td>\n",
       "      <td>...</td>\n",
       "      <td>...</td>\n",
       "      <td>...</td>\n",
       "      <td>...</td>\n",
       "      <td>...</td>\n",
       "      <td>...</td>\n",
       "      <td>...</td>\n",
       "      <td>...</td>\n",
       "      <td>...</td>\n",
       "      <td>...</td>\n",
       "      <td>...</td>\n",
       "      <td>...</td>\n",
       "      <td>...</td>\n",
       "      <td>...</td>\n",
       "      <td>...</td>\n",
       "      <td>...</td>\n",
       "      <td>...</td>\n",
       "      <td>...</td>\n",
       "      <td>...</td>\n",
       "    </tr>\n",
       "    <tr>\n",
       "      <th>209588</th>\n",
       "      <td>1</td>\n",
       "      <td>404.0</td>\n",
       "      <td>151.872333</td>\n",
       "      <td>151.872333</td>\n",
       "      <td>1089.19</td>\n",
       "      <td>1089.19</td>\n",
       "      <td>1.0</td>\n",
       "      <td>0.0</td>\n",
       "      <td>4048</td>\n",
       "      <td>3</td>\n",
       "      <td>...</td>\n",
       "      <td>0</td>\n",
       "      <td>0</td>\n",
       "      <td>2</td>\n",
       "      <td>12</td>\n",
       "      <td>6.0</td>\n",
       "      <td>2.0</td>\n",
       "      <td>12</td>\n",
       "      <td>6</td>\n",
       "      <td>1.000000</td>\n",
       "      <td>1.000000</td>\n",
       "    </tr>\n",
       "    <tr>\n",
       "      <th>209589</th>\n",
       "      <td>1</td>\n",
       "      <td>1075.0</td>\n",
       "      <td>36.936000</td>\n",
       "      <td>36.936000</td>\n",
       "      <td>1728.36</td>\n",
       "      <td>1728.36</td>\n",
       "      <td>4.0</td>\n",
       "      <td>0.0</td>\n",
       "      <td>773</td>\n",
       "      <td>4</td>\n",
       "      <td>...</td>\n",
       "      <td>0</td>\n",
       "      <td>0</td>\n",
       "      <td>3</td>\n",
       "      <td>18</td>\n",
       "      <td>6.0</td>\n",
       "      <td>3.0</td>\n",
       "      <td>18</td>\n",
       "      <td>6</td>\n",
       "      <td>1.000000</td>\n",
       "      <td>1.000000</td>\n",
       "    </tr>\n",
       "    <tr>\n",
       "      <th>209590</th>\n",
       "      <td>1</td>\n",
       "      <td>1013.0</td>\n",
       "      <td>11843.111667</td>\n",
       "      <td>11904.350000</td>\n",
       "      <td>5861.83</td>\n",
       "      <td>8893.20</td>\n",
       "      <td>3.0</td>\n",
       "      <td>0.0</td>\n",
       "      <td>1539</td>\n",
       "      <td>5</td>\n",
       "      <td>...</td>\n",
       "      <td>0</td>\n",
       "      <td>0</td>\n",
       "      <td>4</td>\n",
       "      <td>42</td>\n",
       "      <td>12.0</td>\n",
       "      <td>6.0</td>\n",
       "      <td>54</td>\n",
       "      <td>12</td>\n",
       "      <td>4.000000</td>\n",
       "      <td>3.833333</td>\n",
       "    </tr>\n",
       "    <tr>\n",
       "      <th>209591</th>\n",
       "      <td>1</td>\n",
       "      <td>1732.0</td>\n",
       "      <td>12488.228333</td>\n",
       "      <td>12574.370000</td>\n",
       "      <td>411.83</td>\n",
       "      <td>984.58</td>\n",
       "      <td>2.0</td>\n",
       "      <td>38.0</td>\n",
       "      <td>773</td>\n",
       "      <td>5</td>\n",
       "      <td>...</td>\n",
       "      <td>1</td>\n",
       "      <td>0</td>\n",
       "      <td>2</td>\n",
       "      <td>18</td>\n",
       "      <td>12.0</td>\n",
       "      <td>3.0</td>\n",
       "      <td>24</td>\n",
       "      <td>12</td>\n",
       "      <td>0.000000</td>\n",
       "      <td>10.500000</td>\n",
       "    </tr>\n",
       "    <tr>\n",
       "      <th>209592</th>\n",
       "      <td>1</td>\n",
       "      <td>1581.0</td>\n",
       "      <td>4489.362000</td>\n",
       "      <td>4534.820000</td>\n",
       "      <td>483.92</td>\n",
       "      <td>631.20</td>\n",
       "      <td>13.0</td>\n",
       "      <td>0.0</td>\n",
       "      <td>7526</td>\n",
       "      <td>2</td>\n",
       "      <td>...</td>\n",
       "      <td>0</td>\n",
       "      <td>0</td>\n",
       "      <td>2</td>\n",
       "      <td>18</td>\n",
       "      <td>12.0</td>\n",
       "      <td>2.0</td>\n",
       "      <td>18</td>\n",
       "      <td>12</td>\n",
       "      <td>0.000000</td>\n",
       "      <td>0.000000</td>\n",
       "    </tr>\n",
       "  </tbody>\n",
       "</table>\n",
       "<p>209593 rows × 31 columns</p>\n",
       "</div>"
      ],
      "text/plain": [
       "        label     aon  daily_decr30  daily_decr90  rental30  rental90  \\\n",
       "0           0   272.0   3055.050000   3065.150000    220.13    260.13   \n",
       "1           1   712.0  12122.000000  12124.750000   3691.26   3691.26   \n",
       "2           1   535.0   1398.000000   1398.000000    900.13    900.13   \n",
       "3           1   241.0     21.228000     21.228000    159.42    159.42   \n",
       "4           1   947.0    150.619333    150.619333   1098.90   1098.90   \n",
       "...       ...     ...           ...           ...       ...       ...   \n",
       "209588      1   404.0    151.872333    151.872333   1089.19   1089.19   \n",
       "209589      1  1075.0     36.936000     36.936000   1728.36   1728.36   \n",
       "209590      1  1013.0  11843.111667  11904.350000   5861.83   8893.20   \n",
       "209591      1  1732.0  12488.228333  12574.370000    411.83    984.58   \n",
       "209592      1  1581.0   4489.362000   4534.820000    483.92    631.20   \n",
       "\n",
       "        last_rech_date_ma  last_rech_date_da  last_rech_amt_ma  cnt_ma_rech30  \\\n",
       "0                     2.0                0.0              1539              2   \n",
       "1                    20.0                0.0              5787              1   \n",
       "2                     3.0                0.0              1539              1   \n",
       "3                    41.0                0.0               947              0   \n",
       "4                     4.0                0.0              2309              7   \n",
       "...                   ...                ...               ...            ...   \n",
       "209588                1.0                0.0              4048              3   \n",
       "209589                4.0                0.0               773              4   \n",
       "209590                3.0                0.0              1539              5   \n",
       "209591                2.0               38.0               773              5   \n",
       "209592               13.0                0.0              7526              2   \n",
       "\n",
       "        ...  cnt_da_rech90  fr_da_rech90  cnt_loans30  amnt_loans30  \\\n",
       "0       ...              0             0            2            12   \n",
       "1       ...              0             0            1            12   \n",
       "2       ...              0             0            1             6   \n",
       "3       ...              0             0            2            12   \n",
       "4       ...              0             0            7            42   \n",
       "...     ...            ...           ...          ...           ...   \n",
       "209588  ...              0             0            2            12   \n",
       "209589  ...              0             0            3            18   \n",
       "209590  ...              0             0            4            42   \n",
       "209591  ...              1             0            2            18   \n",
       "209592  ...              0             0            2            18   \n",
       "\n",
       "        maxamnt_loans30  cnt_loans90  amnt_loans90  maxamnt_loans90  \\\n",
       "0                   6.0          2.0            12                6   \n",
       "1                  12.0          1.0            12               12   \n",
       "2                   6.0          1.0             6                6   \n",
       "3                   6.0          2.0            12                6   \n",
       "4                   6.0          7.0            42                6   \n",
       "...                 ...          ...           ...              ...   \n",
       "209588              6.0          2.0            12                6   \n",
       "209589              6.0          3.0            18                6   \n",
       "209590             12.0          6.0            54               12   \n",
       "209591             12.0          3.0            24               12   \n",
       "209592             12.0          2.0            18               12   \n",
       "\n",
       "        payback30  payback90  \n",
       "0       29.000000  29.000000  \n",
       "1        0.000000   0.000000  \n",
       "2        0.000000   0.000000  \n",
       "3        0.000000   0.000000  \n",
       "4        2.333333   2.333333  \n",
       "...           ...        ...  \n",
       "209588   1.000000   1.000000  \n",
       "209589   1.000000   1.000000  \n",
       "209590   4.000000   3.833333  \n",
       "209591   0.000000  10.500000  \n",
       "209592   0.000000   0.000000  \n",
       "\n",
       "[209593 rows x 31 columns]"
      ]
     },
     "execution_count": 20,
     "metadata": {},
     "output_type": "execute_result"
    }
   ],
   "source": [
    "df"
   ]
  },
  {
   "cell_type": "code",
   "execution_count": 21,
   "metadata": {},
   "outputs": [
    {
     "data": {
      "text/html": [
       "<div>\n",
       "<style scoped>\n",
       "    .dataframe tbody tr th:only-of-type {\n",
       "        vertical-align: middle;\n",
       "    }\n",
       "\n",
       "    .dataframe tbody tr th {\n",
       "        vertical-align: top;\n",
       "    }\n",
       "\n",
       "    .dataframe thead th {\n",
       "        text-align: right;\n",
       "    }\n",
       "</style>\n",
       "<table border=\"1\" class=\"dataframe\">\n",
       "  <thead>\n",
       "    <tr style=\"text-align: right;\">\n",
       "      <th></th>\n",
       "      <th>label</th>\n",
       "      <th>aon</th>\n",
       "      <th>daily_decr30</th>\n",
       "      <th>daily_decr90</th>\n",
       "      <th>rental30</th>\n",
       "      <th>rental90</th>\n",
       "      <th>last_rech_date_ma</th>\n",
       "      <th>last_rech_date_da</th>\n",
       "      <th>last_rech_amt_ma</th>\n",
       "      <th>cnt_ma_rech30</th>\n",
       "      <th>...</th>\n",
       "      <th>cnt_da_rech90</th>\n",
       "      <th>fr_da_rech90</th>\n",
       "      <th>cnt_loans30</th>\n",
       "      <th>amnt_loans30</th>\n",
       "      <th>maxamnt_loans30</th>\n",
       "      <th>cnt_loans90</th>\n",
       "      <th>amnt_loans90</th>\n",
       "      <th>maxamnt_loans90</th>\n",
       "      <th>payback30</th>\n",
       "      <th>payback90</th>\n",
       "    </tr>\n",
       "  </thead>\n",
       "  <tbody>\n",
       "    <tr>\n",
       "      <th>count</th>\n",
       "      <td>209593.000000</td>\n",
       "      <td>209593.000000</td>\n",
       "      <td>209593.000000</td>\n",
       "      <td>209593.000000</td>\n",
       "      <td>209593.000000</td>\n",
       "      <td>209593.000000</td>\n",
       "      <td>209593.000000</td>\n",
       "      <td>209593.000000</td>\n",
       "      <td>209593.000000</td>\n",
       "      <td>209593.000000</td>\n",
       "      <td>...</td>\n",
       "      <td>209593.000000</td>\n",
       "      <td>209593.000000</td>\n",
       "      <td>209593.000000</td>\n",
       "      <td>209593.000000</td>\n",
       "      <td>209593.000000</td>\n",
       "      <td>209593.000000</td>\n",
       "      <td>209593.000000</td>\n",
       "      <td>209593.000000</td>\n",
       "      <td>209593.000000</td>\n",
       "      <td>209593.000000</td>\n",
       "    </tr>\n",
       "    <tr>\n",
       "      <th>mean</th>\n",
       "      <td>0.875177</td>\n",
       "      <td>8112.343445</td>\n",
       "      <td>5381.402289</td>\n",
       "      <td>6082.515068</td>\n",
       "      <td>2692.581910</td>\n",
       "      <td>3483.406534</td>\n",
       "      <td>3755.847800</td>\n",
       "      <td>3712.202921</td>\n",
       "      <td>2064.452797</td>\n",
       "      <td>3.978057</td>\n",
       "      <td>...</td>\n",
       "      <td>0.041495</td>\n",
       "      <td>0.045712</td>\n",
       "      <td>2.758981</td>\n",
       "      <td>17.952021</td>\n",
       "      <td>274.658747</td>\n",
       "      <td>18.520919</td>\n",
       "      <td>23.645398</td>\n",
       "      <td>6.703134</td>\n",
       "      <td>3.398826</td>\n",
       "      <td>4.321485</td>\n",
       "    </tr>\n",
       "    <tr>\n",
       "      <th>std</th>\n",
       "      <td>0.330519</td>\n",
       "      <td>75696.082531</td>\n",
       "      <td>9220.623400</td>\n",
       "      <td>10918.812767</td>\n",
       "      <td>4308.586781</td>\n",
       "      <td>5770.461279</td>\n",
       "      <td>53905.892230</td>\n",
       "      <td>53374.833430</td>\n",
       "      <td>2370.786034</td>\n",
       "      <td>4.256090</td>\n",
       "      <td>...</td>\n",
       "      <td>0.397556</td>\n",
       "      <td>0.951386</td>\n",
       "      <td>2.554502</td>\n",
       "      <td>17.379741</td>\n",
       "      <td>4245.264648</td>\n",
       "      <td>224.797423</td>\n",
       "      <td>26.469861</td>\n",
       "      <td>2.103864</td>\n",
       "      <td>8.813729</td>\n",
       "      <td>10.308108</td>\n",
       "    </tr>\n",
       "    <tr>\n",
       "      <th>min</th>\n",
       "      <td>0.000000</td>\n",
       "      <td>-48.000000</td>\n",
       "      <td>-93.012667</td>\n",
       "      <td>-93.012667</td>\n",
       "      <td>-23737.140000</td>\n",
       "      <td>-24720.580000</td>\n",
       "      <td>-29.000000</td>\n",
       "      <td>-29.000000</td>\n",
       "      <td>0.000000</td>\n",
       "      <td>0.000000</td>\n",
       "      <td>...</td>\n",
       "      <td>0.000000</td>\n",
       "      <td>0.000000</td>\n",
       "      <td>0.000000</td>\n",
       "      <td>0.000000</td>\n",
       "      <td>0.000000</td>\n",
       "      <td>0.000000</td>\n",
       "      <td>0.000000</td>\n",
       "      <td>0.000000</td>\n",
       "      <td>0.000000</td>\n",
       "      <td>0.000000</td>\n",
       "    </tr>\n",
       "    <tr>\n",
       "      <th>25%</th>\n",
       "      <td>1.000000</td>\n",
       "      <td>246.000000</td>\n",
       "      <td>42.440000</td>\n",
       "      <td>42.692000</td>\n",
       "      <td>280.420000</td>\n",
       "      <td>300.260000</td>\n",
       "      <td>1.000000</td>\n",
       "      <td>0.000000</td>\n",
       "      <td>770.000000</td>\n",
       "      <td>1.000000</td>\n",
       "      <td>...</td>\n",
       "      <td>0.000000</td>\n",
       "      <td>0.000000</td>\n",
       "      <td>1.000000</td>\n",
       "      <td>6.000000</td>\n",
       "      <td>6.000000</td>\n",
       "      <td>1.000000</td>\n",
       "      <td>6.000000</td>\n",
       "      <td>6.000000</td>\n",
       "      <td>0.000000</td>\n",
       "      <td>0.000000</td>\n",
       "    </tr>\n",
       "    <tr>\n",
       "      <th>50%</th>\n",
       "      <td>1.000000</td>\n",
       "      <td>527.000000</td>\n",
       "      <td>1469.175667</td>\n",
       "      <td>1500.000000</td>\n",
       "      <td>1083.570000</td>\n",
       "      <td>1334.000000</td>\n",
       "      <td>3.000000</td>\n",
       "      <td>0.000000</td>\n",
       "      <td>1539.000000</td>\n",
       "      <td>3.000000</td>\n",
       "      <td>...</td>\n",
       "      <td>0.000000</td>\n",
       "      <td>0.000000</td>\n",
       "      <td>2.000000</td>\n",
       "      <td>12.000000</td>\n",
       "      <td>6.000000</td>\n",
       "      <td>2.000000</td>\n",
       "      <td>12.000000</td>\n",
       "      <td>6.000000</td>\n",
       "      <td>0.000000</td>\n",
       "      <td>1.666667</td>\n",
       "    </tr>\n",
       "    <tr>\n",
       "      <th>75%</th>\n",
       "      <td>1.000000</td>\n",
       "      <td>982.000000</td>\n",
       "      <td>7244.000000</td>\n",
       "      <td>7802.790000</td>\n",
       "      <td>3356.940000</td>\n",
       "      <td>4201.790000</td>\n",
       "      <td>7.000000</td>\n",
       "      <td>0.000000</td>\n",
       "      <td>2309.000000</td>\n",
       "      <td>5.000000</td>\n",
       "      <td>...</td>\n",
       "      <td>0.000000</td>\n",
       "      <td>0.000000</td>\n",
       "      <td>4.000000</td>\n",
       "      <td>24.000000</td>\n",
       "      <td>6.000000</td>\n",
       "      <td>5.000000</td>\n",
       "      <td>30.000000</td>\n",
       "      <td>6.000000</td>\n",
       "      <td>3.750000</td>\n",
       "      <td>4.500000</td>\n",
       "    </tr>\n",
       "    <tr>\n",
       "      <th>max</th>\n",
       "      <td>1.000000</td>\n",
       "      <td>999860.755168</td>\n",
       "      <td>265926.000000</td>\n",
       "      <td>320630.000000</td>\n",
       "      <td>198926.110000</td>\n",
       "      <td>200148.110000</td>\n",
       "      <td>998650.377733</td>\n",
       "      <td>999171.809410</td>\n",
       "      <td>55000.000000</td>\n",
       "      <td>203.000000</td>\n",
       "      <td>...</td>\n",
       "      <td>38.000000</td>\n",
       "      <td>64.000000</td>\n",
       "      <td>50.000000</td>\n",
       "      <td>306.000000</td>\n",
       "      <td>99864.560864</td>\n",
       "      <td>4997.517944</td>\n",
       "      <td>438.000000</td>\n",
       "      <td>12.000000</td>\n",
       "      <td>171.500000</td>\n",
       "      <td>171.500000</td>\n",
       "    </tr>\n",
       "  </tbody>\n",
       "</table>\n",
       "<p>8 rows × 31 columns</p>\n",
       "</div>"
      ],
      "text/plain": [
       "               label            aon   daily_decr30   daily_decr90  \\\n",
       "count  209593.000000  209593.000000  209593.000000  209593.000000   \n",
       "mean        0.875177    8112.343445    5381.402289    6082.515068   \n",
       "std         0.330519   75696.082531    9220.623400   10918.812767   \n",
       "min         0.000000     -48.000000     -93.012667     -93.012667   \n",
       "25%         1.000000     246.000000      42.440000      42.692000   \n",
       "50%         1.000000     527.000000    1469.175667    1500.000000   \n",
       "75%         1.000000     982.000000    7244.000000    7802.790000   \n",
       "max         1.000000  999860.755168  265926.000000  320630.000000   \n",
       "\n",
       "            rental30       rental90  last_rech_date_ma  last_rech_date_da  \\\n",
       "count  209593.000000  209593.000000      209593.000000      209593.000000   \n",
       "mean     2692.581910    3483.406534        3755.847800        3712.202921   \n",
       "std      4308.586781    5770.461279       53905.892230       53374.833430   \n",
       "min    -23737.140000  -24720.580000         -29.000000         -29.000000   \n",
       "25%       280.420000     300.260000           1.000000           0.000000   \n",
       "50%      1083.570000    1334.000000           3.000000           0.000000   \n",
       "75%      3356.940000    4201.790000           7.000000           0.000000   \n",
       "max    198926.110000  200148.110000      998650.377733      999171.809410   \n",
       "\n",
       "       last_rech_amt_ma  cnt_ma_rech30  ...  cnt_da_rech90   fr_da_rech90  \\\n",
       "count     209593.000000  209593.000000  ...  209593.000000  209593.000000   \n",
       "mean        2064.452797       3.978057  ...       0.041495       0.045712   \n",
       "std         2370.786034       4.256090  ...       0.397556       0.951386   \n",
       "min            0.000000       0.000000  ...       0.000000       0.000000   \n",
       "25%          770.000000       1.000000  ...       0.000000       0.000000   \n",
       "50%         1539.000000       3.000000  ...       0.000000       0.000000   \n",
       "75%         2309.000000       5.000000  ...       0.000000       0.000000   \n",
       "max        55000.000000     203.000000  ...      38.000000      64.000000   \n",
       "\n",
       "         cnt_loans30   amnt_loans30  maxamnt_loans30    cnt_loans90  \\\n",
       "count  209593.000000  209593.000000    209593.000000  209593.000000   \n",
       "mean        2.758981      17.952021       274.658747      18.520919   \n",
       "std         2.554502      17.379741      4245.264648     224.797423   \n",
       "min         0.000000       0.000000         0.000000       0.000000   \n",
       "25%         1.000000       6.000000         6.000000       1.000000   \n",
       "50%         2.000000      12.000000         6.000000       2.000000   \n",
       "75%         4.000000      24.000000         6.000000       5.000000   \n",
       "max        50.000000     306.000000     99864.560864    4997.517944   \n",
       "\n",
       "        amnt_loans90  maxamnt_loans90      payback30      payback90  \n",
       "count  209593.000000    209593.000000  209593.000000  209593.000000  \n",
       "mean       23.645398         6.703134       3.398826       4.321485  \n",
       "std        26.469861         2.103864       8.813729      10.308108  \n",
       "min         0.000000         0.000000       0.000000       0.000000  \n",
       "25%         6.000000         6.000000       0.000000       0.000000  \n",
       "50%        12.000000         6.000000       0.000000       1.666667  \n",
       "75%        30.000000         6.000000       3.750000       4.500000  \n",
       "max       438.000000        12.000000     171.500000     171.500000  \n",
       "\n",
       "[8 rows x 31 columns]"
      ]
     },
     "execution_count": 21,
     "metadata": {},
     "output_type": "execute_result"
    }
   ],
   "source": [
    "df.describe()"
   ]
  },
  {
   "cell_type": "code",
   "execution_count": 22,
   "metadata": {},
   "outputs": [
    {
     "data": {
      "text/plain": [
       "count    209593.000000\n",
       "mean       8112.343445\n",
       "std       75696.082531\n",
       "min         -48.000000\n",
       "25%         246.000000\n",
       "50%         527.000000\n",
       "75%         982.000000\n",
       "max      999860.755168\n",
       "Name: aon, dtype: float64"
      ]
     },
     "execution_count": 22,
     "metadata": {},
     "output_type": "execute_result"
    }
   ],
   "source": [
    "df.aon.describe()"
   ]
  },
  {
   "cell_type": "code",
   "execution_count": 23,
   "metadata": {},
   "outputs": [],
   "source": [
    "from scipy.stats import boxcox\n"
   ]
  },
  {
   "cell_type": "code",
   "execution_count": null,
   "metadata": {},
   "outputs": [],
   "source": []
  },
  {
   "cell_type": "code",
   "execution_count": null,
   "metadata": {},
   "outputs": [],
   "source": []
  },
  {
   "cell_type": "code",
   "execution_count": 24,
   "metadata": {},
   "outputs": [
    {
     "data": {
      "text/plain": [
       "label                   -2.270254\n",
       "aon                     10.392949\n",
       "daily_decr30             3.946230\n",
       "daily_decr90             4.252565\n",
       "rental30                 4.521929\n",
       "rental90                 4.437681\n",
       "last_rech_date_ma       14.790974\n",
       "last_rech_date_da       14.814857\n",
       "last_rech_amt_ma         3.781149\n",
       "cnt_ma_rech30            3.283842\n",
       "fr_ma_rech30            14.772833\n",
       "sumamnt_ma_rech30        6.386787\n",
       "medianamnt_ma_rech30     3.512324\n",
       "medianmarechprebal30    14.779875\n",
       "cnt_ma_rech90            3.425254\n",
       "fr_ma_rech90             2.285423\n",
       "sumamnt_ma_rech90        4.897950\n",
       "medianamnt_ma_rech90     3.752706\n",
       "medianmarechprebal90    44.880503\n",
       "cnt_da_rech30           17.818364\n",
       "fr_da_rech30            14.776430\n",
       "cnt_da_rech90           27.267278\n",
       "fr_da_rech90            28.988083\n",
       "cnt_loans30              2.713421\n",
       "amnt_loans30             2.975719\n",
       "maxamnt_loans30         17.658052\n",
       "cnt_loans90             16.594408\n",
       "amnt_loans90             3.150006\n",
       "maxamnt_loans90          1.678304\n",
       "payback30                8.310695\n",
       "payback90                6.899951\n",
       "dtype: float64"
      ]
     },
     "execution_count": 24,
     "metadata": {},
     "output_type": "execute_result"
    }
   ],
   "source": [
    "df.skew()"
   ]
  },
  {
   "cell_type": "code",
   "execution_count": 25,
   "metadata": {},
   "outputs": [
    {
     "data": {
      "text/plain": [
       "label                     int64\n",
       "aon                     float64\n",
       "daily_decr30            float64\n",
       "daily_decr90            float64\n",
       "rental30                float64\n",
       "rental90                float64\n",
       "last_rech_date_ma       float64\n",
       "last_rech_date_da       float64\n",
       "last_rech_amt_ma          int64\n",
       "cnt_ma_rech30             int64\n",
       "fr_ma_rech30            float64\n",
       "sumamnt_ma_rech30       float64\n",
       "medianamnt_ma_rech30    float64\n",
       "medianmarechprebal30    float64\n",
       "cnt_ma_rech90             int64\n",
       "fr_ma_rech90              int64\n",
       "sumamnt_ma_rech90         int64\n",
       "medianamnt_ma_rech90    float64\n",
       "medianmarechprebal90    float64\n",
       "cnt_da_rech30           float64\n",
       "fr_da_rech30            float64\n",
       "cnt_da_rech90             int64\n",
       "fr_da_rech90              int64\n",
       "cnt_loans30               int64\n",
       "amnt_loans30              int64\n",
       "maxamnt_loans30         float64\n",
       "cnt_loans90             float64\n",
       "amnt_loans90              int64\n",
       "maxamnt_loans90           int64\n",
       "payback30               float64\n",
       "payback90               float64\n",
       "dtype: object"
      ]
     },
     "execution_count": 25,
     "metadata": {},
     "output_type": "execute_result"
    }
   ],
   "source": [
    "df.dtypes"
   ]
  },
  {
   "cell_type": "code",
   "execution_count": 26,
   "metadata": {},
   "outputs": [],
   "source": [
    "collist=df.columns"
   ]
  },
  {
   "cell_type": "code",
   "execution_count": 27,
   "metadata": {},
   "outputs": [
    {
     "data": {
      "text/plain": [
       "Index(['label', 'aon', 'daily_decr30', 'daily_decr90', 'rental30', 'rental90',\n",
       "       'last_rech_date_ma', 'last_rech_date_da', 'last_rech_amt_ma',\n",
       "       'cnt_ma_rech30', 'fr_ma_rech30', 'sumamnt_ma_rech30',\n",
       "       'medianamnt_ma_rech30', 'medianmarechprebal30', 'cnt_ma_rech90',\n",
       "       'fr_ma_rech90', 'sumamnt_ma_rech90', 'medianamnt_ma_rech90',\n",
       "       'medianmarechprebal90', 'cnt_da_rech30', 'fr_da_rech30',\n",
       "       'cnt_da_rech90', 'fr_da_rech90', 'cnt_loans30', 'amnt_loans30',\n",
       "       'maxamnt_loans30', 'cnt_loans90', 'amnt_loans90', 'maxamnt_loans90',\n",
       "       'payback30', 'payback90'],\n",
       "      dtype='object')"
      ]
     },
     "execution_count": 27,
     "metadata": {},
     "output_type": "execute_result"
    }
   ],
   "source": [
    "collist"
   ]
  },
  {
   "cell_type": "code",
   "execution_count": 28,
   "metadata": {},
   "outputs": [
    {
     "data": {
      "text/plain": [
       "<matplotlib.axes._subplots.AxesSubplot at 0x23c00aaef40>"
      ]
     },
     "execution_count": 28,
     "metadata": {},
     "output_type": "execute_result"
    },
    {
     "data": {
      "image/png": "[encoded data removed]",
      "text/plain": [
       "<Figure size 432x288 with 1 Axes>"
      ]
     },
     "metadata": {
      "needs_background": "light"
     },
     "output_type": "display_data"
    }
   ],
   "source": [
    "df['medianamnt_ma_rech90'].plot.box()"
   ]
  },
  {
   "cell_type": "code",
   "execution_count": 29,
   "metadata": {},
   "outputs": [
    {
     "data": {
      "text/plain": [
       "<matplotlib.axes._subplots.AxesSubplot at 0x23c00e93c40>"
      ]
     },
     "execution_count": 29,
     "metadata": {},
     "output_type": "execute_result"
    },
    {
     "data": {
      "image/png": "[encoded data removed]",
      "text/plain": [
       "<Figure size 432x288 with 1 Axes>"
      ]
     },
     "metadata": {
      "needs_background": "light"
     },
     "output_type": "display_data"
    }
   ],
   "source": [
    "df['sumamnt_ma_rech90'].plot.box()"
   ]
  },
  {
   "cell_type": "code",
   "execution_count": 30,
   "metadata": {},
   "outputs": [
    {
     "data": {
      "text/plain": [
       "<matplotlib.axes._subplots.AxesSubplot at 0x23c00d09c70>"
      ]
     },
     "execution_count": 30,
     "metadata": {},
     "output_type": "execute_result"
    },
    {
     "data": {
      "image/png": "[encoded data removed]",
      "text/plain": [
       "<Figure size 432x288 with 1 Axes>"
      ]
     },
     "metadata": {
      "needs_background": "light"
     },
     "output_type": "display_data"
    }
   ],
   "source": [
    "df['fr_ma_rech90'].plot.box()"
   ]
  },
  {
   "cell_type": "code",
   "execution_count": 31,
   "metadata": {},
   "outputs": [
    {
     "data": {
      "text/plain": [
       "<matplotlib.axes._subplots.AxesSubplot at 0x23c00b68520>"
      ]
     },
     "execution_count": 31,
     "metadata": {},
     "output_type": "execute_result"
    },
    {
     "data": {
      "image/png": "[encoded data removed]",
      "text/plain": [
       "<Figure size 432x288 with 1 Axes>"
      ]
     },
     "metadata": {
      "needs_background": "light"
     },
     "output_type": "display_data"
    }
   ],
   "source": [
    "df['payback90'].plot.box()"
   ]
  },
  {
   "cell_type": "code",
   "execution_count": 32,
   "metadata": {},
   "outputs": [
    {
     "data": {
      "text/plain": [
       "<matplotlib.axes._subplots.AxesSubplot at 0x23c00bce970>"
      ]
     },
     "execution_count": 32,
     "metadata": {},
     "output_type": "execute_result"
    },
    {
     "data": {
      "image/png": "[encoded data removed]",
      "text/plain": [
       "<Figure size 432x288 with 1 Axes>"
      ]
     },
     "metadata": {
      "needs_background": "light"
     },
     "output_type": "display_data"
    }
   ],
   "source": [
    "df['cnt_ma_rech90'].plot.box()"
   ]
  },
  {
   "cell_type": "code",
   "execution_count": 33,
   "metadata": {},
   "outputs": [
    {
     "data": {
      "text/plain": [
       "<matplotlib.axes._subplots.AxesSubplot at 0x23c00c2aac0>"
      ]
     },
     "execution_count": 33,
     "metadata": {},
     "output_type": "execute_result"
    },
    {
     "data": {
      "image/png": "[encoded data removed]",
      "text/plain": [
       "<Figure size 432x288 with 1 Axes>"
      ]
     },
     "metadata": {
      "needs_background": "light"
     },
     "output_type": "display_data"
    }
   ],
   "source": [
    "df['medianamnt_ma_rech30'].plot.box()"
   ]
  },
  {
   "cell_type": "code",
   "execution_count": 34,
   "metadata": {},
   "outputs": [
    {
     "data": {
      "text/plain": [
       "<matplotlib.axes._subplots.AxesSubplot at 0x23c00a45910>"
      ]
     },
     "execution_count": 34,
     "metadata": {},
     "output_type": "execute_result"
    },
    {
     "data": {
      "image/png": "[encoded data removed]",
      "text/plain": [
       "<Figure size 432x288 with 1 Axes>"
      ]
     },
     "metadata": {
      "needs_background": "light"
     },
     "output_type": "display_data"
    }
   ],
   "source": [
    "df['medianmarechprebal30'].plot.box()"
   ]
  },
  {
   "cell_type": "code",
   "execution_count": 35,
   "metadata": {},
   "outputs": [
    {
     "data": {
      "text/plain": [
       "<matplotlib.axes._subplots.AxesSubplot at 0x23c00d2d1c0>"
      ]
     },
     "execution_count": 35,
     "metadata": {},
     "output_type": "execute_result"
    },
    {
     "data": {
      "image/png": "[encoded data removed]",
      "text/plain": [
       "<Figure size 432x288 with 1 Axes>"
      ]
     },
     "metadata": {
      "needs_background": "light"
     },
     "output_type": "display_data"
    }
   ],
   "source": [
    "df['fr_ma_rech30'].plot.box()"
   ]
  },
  {
   "cell_type": "code",
   "execution_count": 36,
   "metadata": {},
   "outputs": [
    {
     "data": {
      "text/plain": [
       "<matplotlib.axes._subplots.AxesSubplot at 0x23c00d847c0>"
      ]
     },
     "execution_count": 36,
     "metadata": {},
     "output_type": "execute_result"
    },
    {
     "data": {
      "image/png": "[encoded data removed]",
      "text/plain": [
       "<Figure size 432x288 with 1 Axes>"
      ]
     },
     "metadata": {
      "needs_background": "light"
     },
     "output_type": "display_data"
    }
   ],
   "source": [
    "df['sumamnt_ma_rech30'].plot.box()"
   ]
  },
  {
   "cell_type": "code",
   "execution_count": 37,
   "metadata": {},
   "outputs": [
    {
     "data": {
      "text/plain": [
       "<matplotlib.axes._subplots.AxesSubplot at 0x23c00de1a30>"
      ]
     },
     "execution_count": 37,
     "metadata": {},
     "output_type": "execute_result"
    },
    {
     "data": {
      "image/png": "[encoded data removed]",
      "text/plain": [
       "<Figure size 432x288 with 1 Axes>"
      ]
     },
     "metadata": {
      "needs_background": "light"
     },
     "output_type": "display_data"
    }
   ],
   "source": [
    "df['last_rech_amt_ma'].plot.box()"
   ]
  },
  {
   "cell_type": "code",
   "execution_count": 38,
   "metadata": {},
   "outputs": [
    {
     "data": {
      "text/plain": [
       "<matplotlib.axes._subplots.AxesSubplot at 0x23c00e29d00>"
      ]
     },
     "execution_count": 38,
     "metadata": {},
     "output_type": "execute_result"
    },
    {
     "data": {
      "image/png": "[encoded data removed]",
      "text/plain": [
       "<Figure size 432x288 with 1 Axes>"
      ]
     },
     "metadata": {
      "needs_background": "light"
     },
     "output_type": "display_data"
    }
   ],
   "source": [
    "df['last_rech_amt_ma'].plot.box()"
   ]
  },
  {
   "cell_type": "code",
   "execution_count": 39,
   "metadata": {},
   "outputs": [
    {
     "data": {
      "text/plain": [
       "<matplotlib.axes._subplots.AxesSubplot at 0x23c00ec48e0>"
      ]
     },
     "execution_count": 39,
     "metadata": {},
     "output_type": "execute_result"
    },
    {
     "data": {
      "image/png": "[encoded data removed]",
      "text/plain": [
       "<Figure size 432x288 with 1 Axes>"
      ]
     },
     "metadata": {
      "needs_background": "light"
     },
     "output_type": "display_data"
    }
   ],
   "source": [
    "df['cnt_ma_rech30'].plot.box()"
   ]
  },
  {
   "cell_type": "code",
   "execution_count": 40,
   "metadata": {},
   "outputs": [
    {
     "data": {
      "text/plain": [
       "<matplotlib.axes._subplots.AxesSubplot at 0x23c00f20be0>"
      ]
     },
     "execution_count": 40,
     "metadata": {},
     "output_type": "execute_result"
    },
    {
     "data": {
      "image/png": "[encoded data removed]",
      "text/plain": [
       "<Figure size 432x288 with 1 Axes>"
      ]
     },
     "metadata": {
      "needs_background": "light"
     },
     "output_type": "display_data"
    }
   ],
   "source": [
    "df['last_rech_date_da'].plot.box()"
   ]
  },
  {
   "cell_type": "code",
   "execution_count": 41,
   "metadata": {},
   "outputs": [
    {
     "data": {
      "text/plain": [
       "<matplotlib.axes._subplots.AxesSubplot at 0x23c00f690d0>"
      ]
     },
     "execution_count": 41,
     "metadata": {},
     "output_type": "execute_result"
    },
    {
     "data": {
      "image/png": "[encoded data removed]",
      "text/plain": [
       "<Figure size 432x288 with 1 Axes>"
      ]
     },
     "metadata": {
      "needs_background": "light"
     },
     "output_type": "display_data"
    }
   ],
   "source": [
    "df['rental90'].plot.box()"
   ]
  },
  {
   "cell_type": "code",
   "execution_count": 42,
   "metadata": {},
   "outputs": [
    {
     "data": {
      "text/plain": [
       "<matplotlib.axes._subplots.AxesSubplot at 0x23c00fd2e50>"
      ]
     },
     "execution_count": 42,
     "metadata": {},
     "output_type": "execute_result"
    },
    {
     "data": {
      "image/png": "[encoded data removed]",
      "text/plain": [
       "<Figure size 432x288 with 1 Axes>"
      ]
     },
     "metadata": {
      "needs_background": "light"
     },
     "output_type": "display_data"
    }
   ],
   "source": [
    "df['rental30'].plot.box()"
   ]
  },
  {
   "cell_type": "code",
   "execution_count": 43,
   "metadata": {},
   "outputs": [
    {
     "data": {
      "text/plain": [
       "<matplotlib.axes._subplots.AxesSubplot at 0x23c01026d60>"
      ]
     },
     "execution_count": 43,
     "metadata": {},
     "output_type": "execute_result"
    },
    {
     "data": {
      "image/png": "[encoded data removed]",
      "text/plain": [
       "<Figure size 432x288 with 1 Axes>"
      ]
     },
     "metadata": {
      "needs_background": "light"
     },
     "output_type": "display_data"
    }
   ],
   "source": [
    "df['daily_decr90'].plot.box()"
   ]
  },
  {
   "cell_type": "code",
   "execution_count": 44,
   "metadata": {},
   "outputs": [
    {
     "data": {
      "text/plain": [
       "<matplotlib.axes._subplots.AxesSubplot at 0x23c0129f940>"
      ]
     },
     "execution_count": 44,
     "metadata": {},
     "output_type": "execute_result"
    },
    {
     "data": {
      "image/png": "[encoded data removed]",
      "text/plain": [
       "<Figure size 432x288 with 1 Axes>"
      ]
     },
     "metadata": {
      "needs_background": "light"
     },
     "output_type": "display_data"
    }
   ],
   "source": [
    "df['daily_decr30'].plot.box()"
   ]
  },
  {
   "cell_type": "code",
   "execution_count": 45,
   "metadata": {},
   "outputs": [
    {
     "data": {
      "text/plain": [
       "<matplotlib.axes._subplots.AxesSubplot at 0x23c011098b0>"
      ]
     },
     "execution_count": 45,
     "metadata": {},
     "output_type": "execute_result"
    },
    {
     "data": {
      "image/png": "[encoded data removed]",
      "text/plain": [
       "<Figure size 432x288 with 1 Axes>"
      ]
     },
     "metadata": {
      "needs_background": "light"
     },
     "output_type": "display_data"
    }
   ],
   "source": [
    "df['aon'].plot.box()"
   ]
  },
  {
   "cell_type": "code",
   "execution_count": 46,
   "metadata": {},
   "outputs": [
    {
     "data": {
      "text/plain": [
       "<function matplotlib.pyplot.show(*args, **kw)>"
      ]
     },
     "execution_count": 46,
     "metadata": {},
     "output_type": "execute_result"
    },
    {
     "data": {
      "image/png": "[encoded data removed]",
      "text/plain": [
       "<Figure size 432x288 with 50 Axes>"
      ]
     },
     "metadata": {
      "needs_background": "light"
     },
     "output_type": "display_data"
    }
   ],
   "source": [
    "df.plot(kind=('box'),subplots=True,layout=(10,5))\n",
    "plt.show"
   ]
  },
  {
   "cell_type": "code",
   "execution_count": null,
   "metadata": {},
   "outputs": [],
   "source": []
  },
  {
   "cell_type": "code",
   "execution_count": 47,
   "metadata": {},
   "outputs": [],
   "source": [
    "from scipy.stats import zscore"
   ]
  },
  {
   "cell_type": "code",
   "execution_count": 48,
   "metadata": {},
   "outputs": [],
   "source": [
    "z=np.abs(zscore(df))"
   ]
  },
  {
   "cell_type": "code",
   "execution_count": 49,
   "metadata": {},
   "outputs": [
    {
     "name": "stdout",
     "output_type": "stream",
     "text": [
      "(array([    21,     22,     22, ..., 209580, 209581, 209586], dtype=int64), array([15, 15, 30, ..., 28,  3, 27], dtype=int64))\n"
     ]
    }
   ],
   "source": [
    "threshold=3\n",
    "print(np.where(z>3))"
   ]
  },
  {
   "cell_type": "code",
   "execution_count": 50,
   "metadata": {},
   "outputs": [],
   "source": [
    "from scipy.stats import boxcox"
   ]
  },
  {
   "cell_type": "code",
   "execution_count": 51,
   "metadata": {},
   "outputs": [],
   "source": [
    "df=df[(z<3).all(axis=1)]"
   ]
  },
  {
   "cell_type": "code",
   "execution_count": 52,
   "metadata": {},
   "outputs": [
    {
     "data": {
      "text/plain": [
       "(167868, 31)"
      ]
     },
     "execution_count": 52,
     "metadata": {},
     "output_type": "execute_result"
    }
   ],
   "source": [
    "df.shape"
   ]
  },
  {
   "cell_type": "code",
   "execution_count": 53,
   "metadata": {},
   "outputs": [
    {
     "data": {
      "text/html": [
       "<div>\n",
       "<style scoped>\n",
       "    .dataframe tbody tr th:only-of-type {\n",
       "        vertical-align: middle;\n",
       "    }\n",
       "\n",
       "    .dataframe tbody tr th {\n",
       "        vertical-align: top;\n",
       "    }\n",
       "\n",
       "    .dataframe thead th {\n",
       "        text-align: right;\n",
       "    }\n",
       "</style>\n",
       "<table border=\"1\" class=\"dataframe\">\n",
       "  <thead>\n",
       "    <tr style=\"text-align: right;\">\n",
       "      <th></th>\n",
       "      <th>label</th>\n",
       "      <th>aon</th>\n",
       "      <th>daily_decr30</th>\n",
       "      <th>daily_decr90</th>\n",
       "      <th>rental30</th>\n",
       "      <th>rental90</th>\n",
       "      <th>last_rech_date_ma</th>\n",
       "      <th>last_rech_date_da</th>\n",
       "      <th>last_rech_amt_ma</th>\n",
       "      <th>cnt_ma_rech30</th>\n",
       "      <th>...</th>\n",
       "      <th>cnt_da_rech90</th>\n",
       "      <th>fr_da_rech90</th>\n",
       "      <th>cnt_loans30</th>\n",
       "      <th>amnt_loans30</th>\n",
       "      <th>maxamnt_loans30</th>\n",
       "      <th>cnt_loans90</th>\n",
       "      <th>amnt_loans90</th>\n",
       "      <th>maxamnt_loans90</th>\n",
       "      <th>payback30</th>\n",
       "      <th>payback90</th>\n",
       "    </tr>\n",
       "  </thead>\n",
       "  <tbody>\n",
       "    <tr>\n",
       "      <th>label</th>\n",
       "      <td>1.000000</td>\n",
       "      <td>0.085324</td>\n",
       "      <td>0.189428</td>\n",
       "      <td>0.189980</td>\n",
       "      <td>0.047677</td>\n",
       "      <td>0.068530</td>\n",
       "      <td>-0.092586</td>\n",
       "      <td>0.026031</td>\n",
       "      <td>0.156778</td>\n",
       "      <td>0.285295</td>\n",
       "      <td>...</td>\n",
       "      <td>0.024917</td>\n",
       "      <td>NaN</td>\n",
       "      <td>0.230948</td>\n",
       "      <td>0.237003</td>\n",
       "      <td>0.002983</td>\n",
       "      <td>0.237325</td>\n",
       "      <td>0.240401</td>\n",
       "      <td>0.089507</td>\n",
       "      <td>0.138104</td>\n",
       "      <td>0.137381</td>\n",
       "    </tr>\n",
       "    <tr>\n",
       "      <th>aon</th>\n",
       "      <td>0.085324</td>\n",
       "      <td>1.000000</td>\n",
       "      <td>0.072387</td>\n",
       "      <td>0.074569</td>\n",
       "      <td>0.053018</td>\n",
       "      <td>0.058105</td>\n",
       "      <td>0.017800</td>\n",
       "      <td>-0.000427</td>\n",
       "      <td>0.082890</td>\n",
       "      <td>0.014064</td>\n",
       "      <td>...</td>\n",
       "      <td>0.012721</td>\n",
       "      <td>NaN</td>\n",
       "      <td>0.048889</td>\n",
       "      <td>0.052536</td>\n",
       "      <td>0.001630</td>\n",
       "      <td>0.082002</td>\n",
       "      <td>0.082862</td>\n",
       "      <td>0.033126</td>\n",
       "      <td>0.021085</td>\n",
       "      <td>0.041381</td>\n",
       "    </tr>\n",
       "    <tr>\n",
       "      <th>daily_decr30</th>\n",
       "      <td>0.189428</td>\n",
       "      <td>0.072387</td>\n",
       "      <td>1.000000</td>\n",
       "      <td>0.978754</td>\n",
       "      <td>0.445158</td>\n",
       "      <td>0.494914</td>\n",
       "      <td>-0.044204</td>\n",
       "      <td>0.059106</td>\n",
       "      <td>0.260588</td>\n",
       "      <td>0.394694</td>\n",
       "      <td>...</td>\n",
       "      <td>0.030143</td>\n",
       "      <td>NaN</td>\n",
       "      <td>0.325899</td>\n",
       "      <td>0.419571</td>\n",
       "      <td>0.003418</td>\n",
       "      <td>0.510978</td>\n",
       "      <td>0.567311</td>\n",
       "      <td>0.434716</td>\n",
       "      <td>0.149100</td>\n",
       "      <td>0.195761</td>\n",
       "    </tr>\n",
       "    <tr>\n",
       "      <th>daily_decr90</th>\n",
       "      <td>0.189980</td>\n",
       "      <td>0.074569</td>\n",
       "      <td>0.978754</td>\n",
       "      <td>1.000000</td>\n",
       "      <td>0.432426</td>\n",
       "      <td>0.504550</td>\n",
       "      <td>-0.037815</td>\n",
       "      <td>0.061134</td>\n",
       "      <td>0.250405</td>\n",
       "      <td>0.371110</td>\n",
       "      <td>...</td>\n",
       "      <td>0.029149</td>\n",
       "      <td>NaN</td>\n",
       "      <td>0.299973</td>\n",
       "      <td>0.394783</td>\n",
       "      <td>0.003372</td>\n",
       "      <td>0.513426</td>\n",
       "      <td>0.570786</td>\n",
       "      <td>0.437634</td>\n",
       "      <td>0.140264</td>\n",
       "      <td>0.191776</td>\n",
       "    </tr>\n",
       "    <tr>\n",
       "      <th>rental30</th>\n",
       "      <td>0.047677</td>\n",
       "      <td>0.053018</td>\n",
       "      <td>0.445158</td>\n",
       "      <td>0.432426</td>\n",
       "      <td>1.000000</td>\n",
       "      <td>0.949784</td>\n",
       "      <td>-0.018695</td>\n",
       "      <td>0.010576</td>\n",
       "      <td>0.090845</td>\n",
       "      <td>0.239192</td>\n",
       "      <td>...</td>\n",
       "      <td>-0.003772</td>\n",
       "      <td>NaN</td>\n",
       "      <td>0.183356</td>\n",
       "      <td>0.230766</td>\n",
       "      <td>0.003840</td>\n",
       "      <td>0.281629</td>\n",
       "      <td>0.309742</td>\n",
       "      <td>0.240557</td>\n",
       "      <td>0.149916</td>\n",
       "      <td>0.182213</td>\n",
       "    </tr>\n",
       "    <tr>\n",
       "      <th>rental90</th>\n",
       "      <td>0.068530</td>\n",
       "      <td>0.058105</td>\n",
       "      <td>0.494914</td>\n",
       "      <td>0.504550</td>\n",
       "      <td>0.949784</td>\n",
       "      <td>1.000000</td>\n",
       "      <td>-0.006032</td>\n",
       "      <td>0.018623</td>\n",
       "      <td>0.092214</td>\n",
       "      <td>0.234129</td>\n",
       "      <td>...</td>\n",
       "      <td>-0.002171</td>\n",
       "      <td>NaN</td>\n",
       "      <td>0.173384</td>\n",
       "      <td>0.229756</td>\n",
       "      <td>0.003182</td>\n",
       "      <td>0.316345</td>\n",
       "      <td>0.349526</td>\n",
       "      <td>0.275837</td>\n",
       "      <td>0.152665</td>\n",
       "      <td>0.203175</td>\n",
       "    </tr>\n",
       "    <tr>\n",
       "      <th>last_rech_date_ma</th>\n",
       "      <td>-0.092586</td>\n",
       "      <td>0.017800</td>\n",
       "      <td>-0.044204</td>\n",
       "      <td>-0.037815</td>\n",
       "      <td>-0.018695</td>\n",
       "      <td>-0.006032</td>\n",
       "      <td>1.000000</td>\n",
       "      <td>0.025600</td>\n",
       "      <td>0.234854</td>\n",
       "      <td>-0.246520</td>\n",
       "      <td>...</td>\n",
       "      <td>0.026321</td>\n",
       "      <td>NaN</td>\n",
       "      <td>-0.198593</td>\n",
       "      <td>-0.192977</td>\n",
       "      <td>-0.003124</td>\n",
       "      <td>-0.157970</td>\n",
       "      <td>-0.154978</td>\n",
       "      <td>-0.011951</td>\n",
       "      <td>-0.142458</td>\n",
       "      <td>-0.091305</td>\n",
       "    </tr>\n",
       "    <tr>\n",
       "      <th>last_rech_date_da</th>\n",
       "      <td>0.026031</td>\n",
       "      <td>-0.000427</td>\n",
       "      <td>0.059106</td>\n",
       "      <td>0.061134</td>\n",
       "      <td>0.010576</td>\n",
       "      <td>0.018623</td>\n",
       "      <td>0.025600</td>\n",
       "      <td>1.000000</td>\n",
       "      <td>0.021324</td>\n",
       "      <td>0.009402</td>\n",
       "      <td>...</td>\n",
       "      <td>0.697211</td>\n",
       "      <td>NaN</td>\n",
       "      <td>0.000854</td>\n",
       "      <td>0.007936</td>\n",
       "      <td>-0.001845</td>\n",
       "      <td>0.012363</td>\n",
       "      <td>0.016899</td>\n",
       "      <td>0.035428</td>\n",
       "      <td>0.003146</td>\n",
       "      <td>0.029040</td>\n",
       "    </tr>\n",
       "    <tr>\n",
       "      <th>last_rech_amt_ma</th>\n",
       "      <td>0.156778</td>\n",
       "      <td>0.082890</td>\n",
       "      <td>0.260588</td>\n",
       "      <td>0.250405</td>\n",
       "      <td>0.090845</td>\n",
       "      <td>0.092214</td>\n",
       "      <td>0.234854</td>\n",
       "      <td>0.021324</td>\n",
       "      <td>1.000000</td>\n",
       "      <td>0.020142</td>\n",
       "      <td>...</td>\n",
       "      <td>0.022344</td>\n",
       "      <td>NaN</td>\n",
       "      <td>0.002087</td>\n",
       "      <td>0.034856</td>\n",
       "      <td>0.002985</td>\n",
       "      <td>0.020017</td>\n",
       "      <td>0.042379</td>\n",
       "      <td>0.154896</td>\n",
       "      <td>-0.016070</td>\n",
       "      <td>0.010913</td>\n",
       "    </tr>\n",
       "    <tr>\n",
       "      <th>cnt_ma_rech30</th>\n",
       "      <td>0.285295</td>\n",
       "      <td>0.014064</td>\n",
       "      <td>0.394694</td>\n",
       "      <td>0.371110</td>\n",
       "      <td>0.239192</td>\n",
       "      <td>0.234129</td>\n",
       "      <td>-0.246520</td>\n",
       "      <td>0.009402</td>\n",
       "      <td>0.020142</td>\n",
       "      <td>1.000000</td>\n",
       "      <td>...</td>\n",
       "      <td>-0.000928</td>\n",
       "      <td>NaN</td>\n",
       "      <td>0.723343</td>\n",
       "      <td>0.718070</td>\n",
       "      <td>0.001183</td>\n",
       "      <td>0.645853</td>\n",
       "      <td>0.642209</td>\n",
       "      <td>0.138257</td>\n",
       "      <td>0.219625</td>\n",
       "      <td>0.172274</td>\n",
       "    </tr>\n",
       "    <tr>\n",
       "      <th>fr_ma_rech30</th>\n",
       "      <td>0.162166</td>\n",
       "      <td>0.043570</td>\n",
       "      <td>0.111026</td>\n",
       "      <td>0.114251</td>\n",
       "      <td>0.072920</td>\n",
       "      <td>0.083468</td>\n",
       "      <td>-0.145515</td>\n",
       "      <td>0.020946</td>\n",
       "      <td>0.113866</td>\n",
       "      <td>0.046169</td>\n",
       "      <td>...</td>\n",
       "      <td>0.013959</td>\n",
       "      <td>NaN</td>\n",
       "      <td>0.056579</td>\n",
       "      <td>0.062436</td>\n",
       "      <td>0.000553</td>\n",
       "      <td>0.090260</td>\n",
       "      <td>0.092945</td>\n",
       "      <td>0.048046</td>\n",
       "      <td>0.247779</td>\n",
       "      <td>0.213028</td>\n",
       "    </tr>\n",
       "    <tr>\n",
       "      <th>sumamnt_ma_rech30</th>\n",
       "      <td>0.264497</td>\n",
       "      <td>0.056232</td>\n",
       "      <td>0.518874</td>\n",
       "      <td>0.486440</td>\n",
       "      <td>0.253481</td>\n",
       "      <td>0.243755</td>\n",
       "      <td>-0.163246</td>\n",
       "      <td>0.011838</td>\n",
       "      <td>0.470863</td>\n",
       "      <td>0.704675</td>\n",
       "      <td>...</td>\n",
       "      <td>0.006263</td>\n",
       "      <td>NaN</td>\n",
       "      <td>0.516744</td>\n",
       "      <td>0.548000</td>\n",
       "      <td>0.002752</td>\n",
       "      <td>0.470034</td>\n",
       "      <td>0.491643</td>\n",
       "      <td>0.243286</td>\n",
       "      <td>0.120881</td>\n",
       "      <td>0.097116</td>\n",
       "    </tr>\n",
       "    <tr>\n",
       "      <th>medianamnt_ma_rech30</th>\n",
       "      <td>0.167712</td>\n",
       "      <td>0.084826</td>\n",
       "      <td>0.273073</td>\n",
       "      <td>0.261986</td>\n",
       "      <td>0.093915</td>\n",
       "      <td>0.093158</td>\n",
       "      <td>0.034244</td>\n",
       "      <td>0.015851</td>\n",
       "      <td>0.797252</td>\n",
       "      <td>0.016834</td>\n",
       "      <td>...</td>\n",
       "      <td>0.017283</td>\n",
       "      <td>NaN</td>\n",
       "      <td>0.002662</td>\n",
       "      <td>0.035972</td>\n",
       "      <td>0.002618</td>\n",
       "      <td>0.023164</td>\n",
       "      <td>0.045883</td>\n",
       "      <td>0.159992</td>\n",
       "      <td>-0.001754</td>\n",
       "      <td>0.028170</td>\n",
       "    </tr>\n",
       "    <tr>\n",
       "      <th>medianmarechprebal30</th>\n",
       "      <td>0.116030</td>\n",
       "      <td>0.023703</td>\n",
       "      <td>0.092627</td>\n",
       "      <td>0.093508</td>\n",
       "      <td>0.027243</td>\n",
       "      <td>0.034041</td>\n",
       "      <td>-0.004017</td>\n",
       "      <td>0.012308</td>\n",
       "      <td>0.158818</td>\n",
       "      <td>0.077348</td>\n",
       "      <td>...</td>\n",
       "      <td>0.020604</td>\n",
       "      <td>NaN</td>\n",
       "      <td>-0.036838</td>\n",
       "      <td>-0.018467</td>\n",
       "      <td>-0.000143</td>\n",
       "      <td>-0.022859</td>\n",
       "      <td>-0.010470</td>\n",
       "      <td>0.087126</td>\n",
       "      <td>-0.056858</td>\n",
       "      <td>-0.035845</td>\n",
       "    </tr>\n",
       "    <tr>\n",
       "      <th>cnt_ma_rech90</th>\n",
       "      <td>0.287657</td>\n",
       "      <td>0.037578</td>\n",
       "      <td>0.580825</td>\n",
       "      <td>0.587523</td>\n",
       "      <td>0.326850</td>\n",
       "      <td>0.370993</td>\n",
       "      <td>-0.159908</td>\n",
       "      <td>0.025791</td>\n",
       "      <td>0.040120</td>\n",
       "      <td>0.864582</td>\n",
       "      <td>...</td>\n",
       "      <td>-0.002451</td>\n",
       "      <td>NaN</td>\n",
       "      <td>0.643133</td>\n",
       "      <td>0.664542</td>\n",
       "      <td>0.000640</td>\n",
       "      <td>0.747559</td>\n",
       "      <td>0.755775</td>\n",
       "      <td>0.227982</td>\n",
       "      <td>0.197426</td>\n",
       "      <td>0.175455</td>\n",
       "    </tr>\n",
       "    <tr>\n",
       "      <th>fr_ma_rech90</th>\n",
       "      <td>0.123597</td>\n",
       "      <td>0.041888</td>\n",
       "      <td>-0.025482</td>\n",
       "      <td>-0.025872</td>\n",
       "      <td>-0.015725</td>\n",
       "      <td>-0.016110</td>\n",
       "      <td>-0.004610</td>\n",
       "      <td>0.006511</td>\n",
       "      <td>0.146129</td>\n",
       "      <td>-0.079063</td>\n",
       "      <td>...</td>\n",
       "      <td>0.007069</td>\n",
       "      <td>NaN</td>\n",
       "      <td>-0.045191</td>\n",
       "      <td>-0.050080</td>\n",
       "      <td>-0.002599</td>\n",
       "      <td>-0.058323</td>\n",
       "      <td>-0.061049</td>\n",
       "      <td>-0.022171</td>\n",
       "      <td>0.097382</td>\n",
       "      <td>0.137794</td>\n",
       "    </tr>\n",
       "    <tr>\n",
       "      <th>sumamnt_ma_rech90</th>\n",
       "      <td>0.267076</td>\n",
       "      <td>0.078969</td>\n",
       "      <td>0.698656</td>\n",
       "      <td>0.703569</td>\n",
       "      <td>0.330514</td>\n",
       "      <td>0.368441</td>\n",
       "      <td>-0.076066</td>\n",
       "      <td>0.028366</td>\n",
       "      <td>0.447043</td>\n",
       "      <td>0.597929</td>\n",
       "      <td>...</td>\n",
       "      <td>0.006334</td>\n",
       "      <td>NaN</td>\n",
       "      <td>0.447607</td>\n",
       "      <td>0.505659</td>\n",
       "      <td>0.002009</td>\n",
       "      <td>0.546349</td>\n",
       "      <td>0.581792</td>\n",
       "      <td>0.336709</td>\n",
       "      <td>0.096488</td>\n",
       "      <td>0.098689</td>\n",
       "    </tr>\n",
       "    <tr>\n",
       "      <th>medianamnt_ma_rech90</th>\n",
       "      <td>0.146150</td>\n",
       "      <td>0.090712</td>\n",
       "      <td>0.233894</td>\n",
       "      <td>0.227853</td>\n",
       "      <td>0.070926</td>\n",
       "      <td>0.070935</td>\n",
       "      <td>0.223214</td>\n",
       "      <td>0.016773</td>\n",
       "      <td>0.820175</td>\n",
       "      <td>-0.034250</td>\n",
       "      <td>...</td>\n",
       "      <td>0.019996</td>\n",
       "      <td>NaN</td>\n",
       "      <td>-0.034848</td>\n",
       "      <td>-0.003469</td>\n",
       "      <td>0.002118</td>\n",
       "      <td>-0.023220</td>\n",
       "      <td>-0.001433</td>\n",
       "      <td>0.143634</td>\n",
       "      <td>-0.035501</td>\n",
       "      <td>-0.007748</td>\n",
       "    </tr>\n",
       "    <tr>\n",
       "      <th>medianmarechprebal90</th>\n",
       "      <td>0.123425</td>\n",
       "      <td>0.021314</td>\n",
       "      <td>0.050371</td>\n",
       "      <td>0.048386</td>\n",
       "      <td>-0.002022</td>\n",
       "      <td>-0.001448</td>\n",
       "      <td>0.081784</td>\n",
       "      <td>0.015207</td>\n",
       "      <td>0.187453</td>\n",
       "      <td>0.067287</td>\n",
       "      <td>...</td>\n",
       "      <td>0.028156</td>\n",
       "      <td>NaN</td>\n",
       "      <td>-0.046710</td>\n",
       "      <td>-0.030953</td>\n",
       "      <td>0.000400</td>\n",
       "      <td>-0.051654</td>\n",
       "      <td>-0.040286</td>\n",
       "      <td>0.069426</td>\n",
       "      <td>-0.071874</td>\n",
       "      <td>-0.068279</td>\n",
       "    </tr>\n",
       "    <tr>\n",
       "      <th>cnt_da_rech30</th>\n",
       "      <td>0.000454</td>\n",
       "      <td>-0.004187</td>\n",
       "      <td>-0.002413</td>\n",
       "      <td>-0.002571</td>\n",
       "      <td>-0.005480</td>\n",
       "      <td>-0.005341</td>\n",
       "      <td>-0.000142</td>\n",
       "      <td>-0.002342</td>\n",
       "      <td>-0.003174</td>\n",
       "      <td>0.004322</td>\n",
       "      <td>...</td>\n",
       "      <td>-0.002561</td>\n",
       "      <td>NaN</td>\n",
       "      <td>0.003480</td>\n",
       "      <td>0.002675</td>\n",
       "      <td>-0.000442</td>\n",
       "      <td>0.001724</td>\n",
       "      <td>0.001202</td>\n",
       "      <td>-0.003224</td>\n",
       "      <td>0.000383</td>\n",
       "      <td>0.000945</td>\n",
       "    </tr>\n",
       "    <tr>\n",
       "      <th>fr_da_rech30</th>\n",
       "      <td>NaN</td>\n",
       "      <td>NaN</td>\n",
       "      <td>NaN</td>\n",
       "      <td>NaN</td>\n",
       "      <td>NaN</td>\n",
       "      <td>NaN</td>\n",
       "      <td>NaN</td>\n",
       "      <td>NaN</td>\n",
       "      <td>NaN</td>\n",
       "      <td>NaN</td>\n",
       "      <td>...</td>\n",
       "      <td>NaN</td>\n",
       "      <td>NaN</td>\n",
       "      <td>NaN</td>\n",
       "      <td>NaN</td>\n",
       "      <td>NaN</td>\n",
       "      <td>NaN</td>\n",
       "      <td>NaN</td>\n",
       "      <td>NaN</td>\n",
       "      <td>NaN</td>\n",
       "      <td>NaN</td>\n",
       "    </tr>\n",
       "    <tr>\n",
       "      <th>cnt_da_rech90</th>\n",
       "      <td>0.024917</td>\n",
       "      <td>0.012721</td>\n",
       "      <td>0.030143</td>\n",
       "      <td>0.029149</td>\n",
       "      <td>-0.003772</td>\n",
       "      <td>-0.002171</td>\n",
       "      <td>0.026321</td>\n",
       "      <td>0.697211</td>\n",
       "      <td>0.022344</td>\n",
       "      <td>-0.000928</td>\n",
       "      <td>...</td>\n",
       "      <td>1.000000</td>\n",
       "      <td>NaN</td>\n",
       "      <td>0.003277</td>\n",
       "      <td>0.008004</td>\n",
       "      <td>-0.000774</td>\n",
       "      <td>0.005493</td>\n",
       "      <td>0.008668</td>\n",
       "      <td>0.021511</td>\n",
       "      <td>0.011778</td>\n",
       "      <td>0.034970</td>\n",
       "    </tr>\n",
       "    <tr>\n",
       "      <th>fr_da_rech90</th>\n",
       "      <td>NaN</td>\n",
       "      <td>NaN</td>\n",
       "      <td>NaN</td>\n",
       "      <td>NaN</td>\n",
       "      <td>NaN</td>\n",
       "      <td>NaN</td>\n",
       "      <td>NaN</td>\n",
       "      <td>NaN</td>\n",
       "      <td>NaN</td>\n",
       "      <td>NaN</td>\n",
       "      <td>...</td>\n",
       "      <td>NaN</td>\n",
       "      <td>NaN</td>\n",
       "      <td>NaN</td>\n",
       "      <td>NaN</td>\n",
       "      <td>NaN</td>\n",
       "      <td>NaN</td>\n",
       "      <td>NaN</td>\n",
       "      <td>NaN</td>\n",
       "      <td>NaN</td>\n",
       "      <td>NaN</td>\n",
       "    </tr>\n",
       "    <tr>\n",
       "      <th>cnt_loans30</th>\n",
       "      <td>0.230948</td>\n",
       "      <td>0.048889</td>\n",
       "      <td>0.325899</td>\n",
       "      <td>0.299973</td>\n",
       "      <td>0.183356</td>\n",
       "      <td>0.173384</td>\n",
       "      <td>-0.198593</td>\n",
       "      <td>0.000854</td>\n",
       "      <td>0.002087</td>\n",
       "      <td>0.723343</td>\n",
       "      <td>...</td>\n",
       "      <td>0.003277</td>\n",
       "      <td>NaN</td>\n",
       "      <td>1.000000</td>\n",
       "      <td>0.969356</td>\n",
       "      <td>0.000949</td>\n",
       "      <td>0.861097</td>\n",
       "      <td>0.840972</td>\n",
       "      <td>0.076519</td>\n",
       "      <td>0.301286</td>\n",
       "      <td>0.234405</td>\n",
       "    </tr>\n",
       "    <tr>\n",
       "      <th>amnt_loans30</th>\n",
       "      <td>0.237003</td>\n",
       "      <td>0.052536</td>\n",
       "      <td>0.419571</td>\n",
       "      <td>0.394783</td>\n",
       "      <td>0.230766</td>\n",
       "      <td>0.229756</td>\n",
       "      <td>-0.192977</td>\n",
       "      <td>0.007936</td>\n",
       "      <td>0.034856</td>\n",
       "      <td>0.718070</td>\n",
       "      <td>...</td>\n",
       "      <td>0.008004</td>\n",
       "      <td>NaN</td>\n",
       "      <td>0.969356</td>\n",
       "      <td>1.000000</td>\n",
       "      <td>0.002654</td>\n",
       "      <td>0.853186</td>\n",
       "      <td>0.875099</td>\n",
       "      <td>0.283515</td>\n",
       "      <td>0.293014</td>\n",
       "      <td>0.232888</td>\n",
       "    </tr>\n",
       "    <tr>\n",
       "      <th>maxamnt_loans30</th>\n",
       "      <td>0.002983</td>\n",
       "      <td>0.001630</td>\n",
       "      <td>0.003418</td>\n",
       "      <td>0.003372</td>\n",
       "      <td>0.003840</td>\n",
       "      <td>0.003182</td>\n",
       "      <td>-0.003124</td>\n",
       "      <td>-0.001845</td>\n",
       "      <td>0.002985</td>\n",
       "      <td>0.001183</td>\n",
       "      <td>...</td>\n",
       "      <td>-0.000774</td>\n",
       "      <td>NaN</td>\n",
       "      <td>0.000949</td>\n",
       "      <td>0.002654</td>\n",
       "      <td>1.000000</td>\n",
       "      <td>-0.000211</td>\n",
       "      <td>0.000997</td>\n",
       "      <td>0.007029</td>\n",
       "      <td>-0.000590</td>\n",
       "      <td>-0.002359</td>\n",
       "    </tr>\n",
       "    <tr>\n",
       "      <th>cnt_loans90</th>\n",
       "      <td>0.237325</td>\n",
       "      <td>0.082002</td>\n",
       "      <td>0.510978</td>\n",
       "      <td>0.513426</td>\n",
       "      <td>0.281629</td>\n",
       "      <td>0.316345</td>\n",
       "      <td>-0.157970</td>\n",
       "      <td>0.012363</td>\n",
       "      <td>0.020017</td>\n",
       "      <td>0.645853</td>\n",
       "      <td>...</td>\n",
       "      <td>0.005493</td>\n",
       "      <td>NaN</td>\n",
       "      <td>0.861097</td>\n",
       "      <td>0.853186</td>\n",
       "      <td>-0.000211</td>\n",
       "      <td>1.000000</td>\n",
       "      <td>0.984962</td>\n",
       "      <td>0.142586</td>\n",
       "      <td>0.310458</td>\n",
       "      <td>0.265129</td>\n",
       "    </tr>\n",
       "    <tr>\n",
       "      <th>amnt_loans90</th>\n",
       "      <td>0.240401</td>\n",
       "      <td>0.082862</td>\n",
       "      <td>0.567311</td>\n",
       "      <td>0.570786</td>\n",
       "      <td>0.309742</td>\n",
       "      <td>0.349526</td>\n",
       "      <td>-0.154978</td>\n",
       "      <td>0.016899</td>\n",
       "      <td>0.042379</td>\n",
       "      <td>0.642209</td>\n",
       "      <td>...</td>\n",
       "      <td>0.008668</td>\n",
       "      <td>NaN</td>\n",
       "      <td>0.840972</td>\n",
       "      <td>0.875099</td>\n",
       "      <td>0.000997</td>\n",
       "      <td>0.984962</td>\n",
       "      <td>1.000000</td>\n",
       "      <td>0.285170</td>\n",
       "      <td>0.303359</td>\n",
       "      <td>0.261881</td>\n",
       "    </tr>\n",
       "    <tr>\n",
       "      <th>maxamnt_loans90</th>\n",
       "      <td>0.089507</td>\n",
       "      <td>0.033126</td>\n",
       "      <td>0.434716</td>\n",
       "      <td>0.437634</td>\n",
       "      <td>0.240557</td>\n",
       "      <td>0.275837</td>\n",
       "      <td>-0.011951</td>\n",
       "      <td>0.035428</td>\n",
       "      <td>0.154896</td>\n",
       "      <td>0.138257</td>\n",
       "      <td>...</td>\n",
       "      <td>0.021511</td>\n",
       "      <td>NaN</td>\n",
       "      <td>0.076519</td>\n",
       "      <td>0.283515</td>\n",
       "      <td>0.007029</td>\n",
       "      <td>0.142586</td>\n",
       "      <td>0.285170</td>\n",
       "      <td>1.000000</td>\n",
       "      <td>0.028560</td>\n",
       "      <td>0.048301</td>\n",
       "    </tr>\n",
       "    <tr>\n",
       "      <th>payback30</th>\n",
       "      <td>0.138104</td>\n",
       "      <td>0.021085</td>\n",
       "      <td>0.149100</td>\n",
       "      <td>0.140264</td>\n",
       "      <td>0.149916</td>\n",
       "      <td>0.152665</td>\n",
       "      <td>-0.142458</td>\n",
       "      <td>0.003146</td>\n",
       "      <td>-0.016070</td>\n",
       "      <td>0.219625</td>\n",
       "      <td>...</td>\n",
       "      <td>0.011778</td>\n",
       "      <td>NaN</td>\n",
       "      <td>0.301286</td>\n",
       "      <td>0.293014</td>\n",
       "      <td>-0.000590</td>\n",
       "      <td>0.310458</td>\n",
       "      <td>0.303359</td>\n",
       "      <td>0.028560</td>\n",
       "      <td>1.000000</td>\n",
       "      <td>0.787881</td>\n",
       "    </tr>\n",
       "    <tr>\n",
       "      <th>payback90</th>\n",
       "      <td>0.137381</td>\n",
       "      <td>0.041381</td>\n",
       "      <td>0.195761</td>\n",
       "      <td>0.191776</td>\n",
       "      <td>0.182213</td>\n",
       "      <td>0.203175</td>\n",
       "      <td>-0.091305</td>\n",
       "      <td>0.029040</td>\n",
       "      <td>0.010913</td>\n",
       "      <td>0.172274</td>\n",
       "      <td>...</td>\n",
       "      <td>0.034970</td>\n",
       "      <td>NaN</td>\n",
       "      <td>0.234405</td>\n",
       "      <td>0.232888</td>\n",
       "      <td>-0.002359</td>\n",
       "      <td>0.265129</td>\n",
       "      <td>0.261881</td>\n",
       "      <td>0.048301</td>\n",
       "      <td>0.787881</td>\n",
       "      <td>1.000000</td>\n",
       "    </tr>\n",
       "  </tbody>\n",
       "</table>\n",
       "<p>31 rows × 31 columns</p>\n",
       "</div>"
      ],
      "text/plain": [
       "                         label       aon  daily_decr30  daily_decr90  \\\n",
       "label                 1.000000  0.085324      0.189428      0.189980   \n",
       "aon                   0.085324  1.000000      0.072387      0.074569   \n",
       "daily_decr30          0.189428  0.072387      1.000000      0.978754   \n",
       "daily_decr90          0.189980  0.074569      0.978754      1.000000   \n",
       "rental30              0.047677  0.053018      0.445158      0.432426   \n",
       "rental90              0.068530  0.058105      0.494914      0.504550   \n",
       "last_rech_date_ma    -0.092586  0.017800     -0.044204     -0.037815   \n",
       "last_rech_date_da     0.026031 -0.000427      0.059106      0.061134   \n",
       "last_rech_amt_ma      0.156778  0.082890      0.260588      0.250405   \n",
       "cnt_ma_rech30         0.285295  0.014064      0.394694      0.371110   \n",
       "fr_ma_rech30          0.162166  0.043570      0.111026      0.114251   \n",
       "sumamnt_ma_rech30     0.264497  0.056232      0.518874      0.486440   \n",
       "medianamnt_ma_rech30  0.167712  0.084826      0.273073      0.261986   \n",
       "medianmarechprebal30  0.116030  0.023703      0.092627      0.093508   \n",
       "cnt_ma_rech90         0.287657  0.037578      0.580825      0.587523   \n",
       "fr_ma_rech90          0.123597  0.041888     -0.025482     -0.025872   \n",
       "sumamnt_ma_rech90     0.267076  0.078969      0.698656      0.703569   \n",
       "medianamnt_ma_rech90  0.146150  0.090712      0.233894      0.227853   \n",
       "medianmarechprebal90  0.123425  0.021314      0.050371      0.048386   \n",
       "cnt_da_rech30         0.000454 -0.004187     -0.002413     -0.002571   \n",
       "fr_da_rech30               NaN       NaN           NaN           NaN   \n",
       "cnt_da_rech90         0.024917  0.012721      0.030143      0.029149   \n",
       "fr_da_rech90               NaN       NaN           NaN           NaN   \n",
       "cnt_loans30           0.230948  0.048889      0.325899      0.299973   \n",
       "amnt_loans30          0.237003  0.052536      0.419571      0.394783   \n",
       "maxamnt_loans30       0.002983  0.001630      0.003418      0.003372   \n",
       "cnt_loans90           0.237325  0.082002      0.510978      0.513426   \n",
       "amnt_loans90          0.240401  0.082862      0.567311      0.570786   \n",
       "maxamnt_loans90       0.089507  0.033126      0.434716      0.437634   \n",
       "payback30             0.138104  0.021085      0.149100      0.140264   \n",
       "payback90             0.137381  0.041381      0.195761      0.191776   \n",
       "\n",
       "                      rental30  rental90  last_rech_date_ma  \\\n",
       "label                 0.047677  0.068530          -0.092586   \n",
       "aon                   0.053018  0.058105           0.017800   \n",
       "daily_decr30          0.445158  0.494914          -0.044204   \n",
       "daily_decr90          0.432426  0.504550          -0.037815   \n",
       "rental30              1.000000  0.949784          -0.018695   \n",
       "rental90              0.949784  1.000000          -0.006032   \n",
       "last_rech_date_ma    -0.018695 -0.006032           1.000000   \n",
       "last_rech_date_da     0.010576  0.018623           0.025600   \n",
       "last_rech_amt_ma      0.090845  0.092214           0.234854   \n",
       "cnt_ma_rech30         0.239192  0.234129          -0.246520   \n",
       "fr_ma_rech30          0.072920  0.083468          -0.145515   \n",
       "sumamnt_ma_rech30     0.253481  0.243755          -0.163246   \n",
       "medianamnt_ma_rech30  0.093915  0.093158           0.034244   \n",
       "medianmarechprebal30  0.027243  0.034041          -0.004017   \n",
       "cnt_ma_rech90         0.326850  0.370993          -0.159908   \n",
       "fr_ma_rech90         -0.015725 -0.016110          -0.004610   \n",
       "sumamnt_ma_rech90     0.330514  0.368441          -0.076066   \n",
       "medianamnt_ma_rech90  0.070926  0.070935           0.223214   \n",
       "medianmarechprebal90 -0.002022 -0.001448           0.081784   \n",
       "cnt_da_rech30        -0.005480 -0.005341          -0.000142   \n",
       "fr_da_rech30               NaN       NaN                NaN   \n",
       "cnt_da_rech90        -0.003772 -0.002171           0.026321   \n",
       "fr_da_rech90               NaN       NaN                NaN   \n",
       "cnt_loans30           0.183356  0.173384          -0.198593   \n",
       "amnt_loans30          0.230766  0.229756          -0.192977   \n",
       "maxamnt_loans30       0.003840  0.003182          -0.003124   \n",
       "cnt_loans90           0.281629  0.316345          -0.157970   \n",
       "amnt_loans90          0.309742  0.349526          -0.154978   \n",
       "maxamnt_loans90       0.240557  0.275837          -0.011951   \n",
       "payback30             0.149916  0.152665          -0.142458   \n",
       "payback90             0.182213  0.203175          -0.091305   \n",
       "\n",
       "                      last_rech_date_da  last_rech_amt_ma  cnt_ma_rech30  ...  \\\n",
       "label                          0.026031          0.156778       0.285295  ...   \n",
       "aon                           -0.000427          0.082890       0.014064  ...   \n",
       "daily_decr30                   0.059106          0.260588       0.394694  ...   \n",
       "daily_decr90                   0.061134          0.250405       0.371110  ...   \n",
       "rental30                       0.010576          0.090845       0.239192  ...   \n",
       "rental90                       0.018623          0.092214       0.234129  ...   \n",
       "last_rech_date_ma              0.025600          0.234854      -0.246520  ...   \n",
       "last_rech_date_da              1.000000          0.021324       0.009402  ...   \n",
       "last_rech_amt_ma               0.021324          1.000000       0.020142  ...   \n",
       "cnt_ma_rech30                  0.009402          0.020142       1.000000  ...   \n",
       "fr_ma_rech30                   0.020946          0.113866       0.046169  ...   \n",
       "sumamnt_ma_rech30              0.011838          0.470863       0.704675  ...   \n",
       "medianamnt_ma_rech30           0.015851          0.797252       0.016834  ...   \n",
       "medianmarechprebal30           0.012308          0.158818       0.077348  ...   \n",
       "cnt_ma_rech90                  0.025791          0.040120       0.864582  ...   \n",
       "fr_ma_rech90                   0.006511          0.146129      -0.079063  ...   \n",
       "sumamnt_ma_rech90              0.028366          0.447043       0.597929  ...   \n",
       "medianamnt_ma_rech90           0.016773          0.820175      -0.034250  ...   \n",
       "medianmarechprebal90           0.015207          0.187453       0.067287  ...   \n",
       "cnt_da_rech30                 -0.002342         -0.003174       0.004322  ...   \n",
       "fr_da_rech30                        NaN               NaN            NaN  ...   \n",
       "cnt_da_rech90                  0.697211          0.022344      -0.000928  ...   \n",
       "fr_da_rech90                        NaN               NaN            NaN  ...   \n",
       "cnt_loans30                    0.000854          0.002087       0.723343  ...   \n",
       "amnt_loans30                   0.007936          0.034856       0.718070  ...   \n",
       "maxamnt_loans30               -0.001845          0.002985       0.001183  ...   \n",
       "cnt_loans90                    0.012363          0.020017       0.645853  ...   \n",
       "amnt_loans90                   0.016899          0.042379       0.642209  ...   \n",
       "maxamnt_loans90                0.035428          0.154896       0.138257  ...   \n",
       "payback30                      0.003146         -0.016070       0.219625  ...   \n",
       "payback90                      0.029040          0.010913       0.172274  ...   \n",
       "\n",
       "                      cnt_da_rech90  fr_da_rech90  cnt_loans30  amnt_loans30  \\\n",
       "label                      0.024917           NaN     0.230948      0.237003   \n",
       "aon                        0.012721           NaN     0.048889      0.052536   \n",
       "daily_decr30               0.030143           NaN     0.325899      0.419571   \n",
       "daily_decr90               0.029149           NaN     0.299973      0.394783   \n",
       "rental30                  -0.003772           NaN     0.183356      0.230766   \n",
       "rental90                  -0.002171           NaN     0.173384      0.229756   \n",
       "last_rech_date_ma          0.026321           NaN    -0.198593     -0.192977   \n",
       "last_rech_date_da          0.697211           NaN     0.000854      0.007936   \n",
       "last_rech_amt_ma           0.022344           NaN     0.002087      0.034856   \n",
       "cnt_ma_rech30             -0.000928           NaN     0.723343      0.718070   \n",
       "fr_ma_rech30               0.013959           NaN     0.056579      0.062436   \n",
       "sumamnt_ma_rech30          0.006263           NaN     0.516744      0.548000   \n",
       "medianamnt_ma_rech30       0.017283           NaN     0.002662      0.035972   \n",
       "medianmarechprebal30       0.020604           NaN    -0.036838     -0.018467   \n",
       "cnt_ma_rech90             -0.002451           NaN     0.643133      0.664542   \n",
       "fr_ma_rech90               0.007069           NaN    -0.045191     -0.050080   \n",
       "sumamnt_ma_rech90          0.006334           NaN     0.447607      0.505659   \n",
       "medianamnt_ma_rech90       0.019996           NaN    -0.034848     -0.003469   \n",
       "medianmarechprebal90       0.028156           NaN    -0.046710     -0.030953   \n",
       "cnt_da_rech30             -0.002561           NaN     0.003480      0.002675   \n",
       "fr_da_rech30                    NaN           NaN          NaN           NaN   \n",
       "cnt_da_rech90              1.000000           NaN     0.003277      0.008004   \n",
       "fr_da_rech90                    NaN           NaN          NaN           NaN   \n",
       "cnt_loans30                0.003277           NaN     1.000000      0.969356   \n",
       "amnt_loans30               0.008004           NaN     0.969356      1.000000   \n",
       "maxamnt_loans30           -0.000774           NaN     0.000949      0.002654   \n",
       "cnt_loans90                0.005493           NaN     0.861097      0.853186   \n",
       "amnt_loans90               0.008668           NaN     0.840972      0.875099   \n",
       "maxamnt_loans90            0.021511           NaN     0.076519      0.283515   \n",
       "payback30                  0.011778           NaN     0.301286      0.293014   \n",
       "payback90                  0.034970           NaN     0.234405      0.232888   \n",
       "\n",
       "                      maxamnt_loans30  cnt_loans90  amnt_loans90  \\\n",
       "label                        0.002983     0.237325      0.240401   \n",
       "aon                          0.001630     0.082002      0.082862   \n",
       "daily_decr30                 0.003418     0.510978      0.567311   \n",
       "daily_decr90                 0.003372     0.513426      0.570786   \n",
       "rental30                     0.003840     0.281629      0.309742   \n",
       "rental90                     0.003182     0.316345      0.349526   \n",
       "last_rech_date_ma           -0.003124    -0.157970     -0.154978   \n",
       "last_rech_date_da           -0.001845     0.012363      0.016899   \n",
       "last_rech_amt_ma             0.002985     0.020017      0.042379   \n",
       "cnt_ma_rech30                0.001183     0.645853      0.642209   \n",
       "fr_ma_rech30                 0.000553     0.090260      0.092945   \n",
       "sumamnt_ma_rech30            0.002752     0.470034      0.491643   \n",
       "medianamnt_ma_rech30         0.002618     0.023164      0.045883   \n",
       "medianmarechprebal30        -0.000143    -0.022859     -0.010470   \n",
       "cnt_ma_rech90                0.000640     0.747559      0.755775   \n",
       "fr_ma_rech90                -0.002599    -0.058323     -0.061049   \n",
       "sumamnt_ma_rech90            0.002009     0.546349      0.581792   \n",
       "medianamnt_ma_rech90         0.002118    -0.023220     -0.001433   \n",
       "medianmarechprebal90         0.000400    -0.051654     -0.040286   \n",
       "cnt_da_rech30               -0.000442     0.001724      0.001202   \n",
       "fr_da_rech30                      NaN          NaN           NaN   \n",
       "cnt_da_rech90               -0.000774     0.005493      0.008668   \n",
       "fr_da_rech90                      NaN          NaN           NaN   \n",
       "cnt_loans30                  0.000949     0.861097      0.840972   \n",
       "amnt_loans30                 0.002654     0.853186      0.875099   \n",
       "maxamnt_loans30              1.000000    -0.000211      0.000997   \n",
       "cnt_loans90                 -0.000211     1.000000      0.984962   \n",
       "amnt_loans90                 0.000997     0.984962      1.000000   \n",
       "maxamnt_loans90              0.007029     0.142586      0.285170   \n",
       "payback30                   -0.000590     0.310458      0.303359   \n",
       "payback90                   -0.002359     0.265129      0.261881   \n",
       "\n",
       "                      maxamnt_loans90  payback30  payback90  \n",
       "label                        0.089507   0.138104   0.137381  \n",
       "aon                          0.033126   0.021085   0.041381  \n",
       "daily_decr30                 0.434716   0.149100   0.195761  \n",
       "daily_decr90                 0.437634   0.140264   0.191776  \n",
       "rental30                     0.240557   0.149916   0.182213  \n",
       "rental90                     0.275837   0.152665   0.203175  \n",
       "last_rech_date_ma           -0.011951  -0.142458  -0.091305  \n",
       "last_rech_date_da            0.035428   0.003146   0.029040  \n",
       "last_rech_amt_ma             0.154896  -0.016070   0.010913  \n",
       "cnt_ma_rech30                0.138257   0.219625   0.172274  \n",
       "fr_ma_rech30                 0.048046   0.247779   0.213028  \n",
       "sumamnt_ma_rech30            0.243286   0.120881   0.097116  \n",
       "medianamnt_ma_rech30         0.159992  -0.001754   0.028170  \n",
       "medianmarechprebal30         0.087126  -0.056858  -0.035845  \n",
       "cnt_ma_rech90                0.227982   0.197426   0.175455  \n",
       "fr_ma_rech90                -0.022171   0.097382   0.137794  \n",
       "sumamnt_ma_rech90            0.336709   0.096488   0.098689  \n",
       "medianamnt_ma_rech90         0.143634  -0.035501  -0.007748  \n",
       "medianmarechprebal90         0.069426  -0.071874  -0.068279  \n",
       "cnt_da_rech30               -0.003224   0.000383   0.000945  \n",
       "fr_da_rech30                      NaN        NaN        NaN  \n",
       "cnt_da_rech90                0.021511   0.011778   0.034970  \n",
       "fr_da_rech90                      NaN        NaN        NaN  \n",
       "cnt_loans30                  0.076519   0.301286   0.234405  \n",
       "amnt_loans30                 0.283515   0.293014   0.232888  \n",
       "maxamnt_loans30              0.007029  -0.000590  -0.002359  \n",
       "cnt_loans90                  0.142586   0.310458   0.265129  \n",
       "amnt_loans90                 0.285170   0.303359   0.261881  \n",
       "maxamnt_loans90              1.000000   0.028560   0.048301  \n",
       "payback30                    0.028560   1.000000   0.787881  \n",
       "payback90                    0.048301   0.787881   1.000000  \n",
       "\n",
       "[31 rows x 31 columns]"
      ]
     },
     "execution_count": 53,
     "metadata": {},
     "output_type": "execute_result"
    }
   ],
   "source": [
    "df.corr()"
   ]
  },
  {
   "cell_type": "code",
   "execution_count": 54,
   "metadata": {},
   "outputs": [
    {
     "data": {
      "text/html": [
       "<div>\n",
       "<style scoped>\n",
       "    .dataframe tbody tr th:only-of-type {\n",
       "        vertical-align: middle;\n",
       "    }\n",
       "\n",
       "    .dataframe tbody tr th {\n",
       "        vertical-align: top;\n",
       "    }\n",
       "\n",
       "    .dataframe thead th {\n",
       "        text-align: right;\n",
       "    }\n",
       "</style>\n",
       "<table border=\"1\" class=\"dataframe\">\n",
       "  <thead>\n",
       "    <tr style=\"text-align: right;\">\n",
       "      <th></th>\n",
       "      <th>label</th>\n",
       "      <th>aon</th>\n",
       "      <th>daily_decr30</th>\n",
       "      <th>daily_decr90</th>\n",
       "      <th>rental30</th>\n",
       "      <th>rental90</th>\n",
       "      <th>last_rech_date_ma</th>\n",
       "      <th>last_rech_date_da</th>\n",
       "      <th>last_rech_amt_ma</th>\n",
       "      <th>cnt_ma_rech30</th>\n",
       "      <th>...</th>\n",
       "      <th>cnt_da_rech90</th>\n",
       "      <th>fr_da_rech90</th>\n",
       "      <th>cnt_loans30</th>\n",
       "      <th>amnt_loans30</th>\n",
       "      <th>maxamnt_loans30</th>\n",
       "      <th>cnt_loans90</th>\n",
       "      <th>amnt_loans90</th>\n",
       "      <th>maxamnt_loans90</th>\n",
       "      <th>payback30</th>\n",
       "      <th>payback90</th>\n",
       "    </tr>\n",
       "  </thead>\n",
       "  <tbody>\n",
       "    <tr>\n",
       "      <th>0</th>\n",
       "      <td>0</td>\n",
       "      <td>272.0</td>\n",
       "      <td>3055.050000</td>\n",
       "      <td>3065.150000</td>\n",
       "      <td>220.13</td>\n",
       "      <td>260.13</td>\n",
       "      <td>2.0</td>\n",
       "      <td>0.0</td>\n",
       "      <td>1539</td>\n",
       "      <td>2</td>\n",
       "      <td>...</td>\n",
       "      <td>0</td>\n",
       "      <td>0</td>\n",
       "      <td>2</td>\n",
       "      <td>12</td>\n",
       "      <td>6.0</td>\n",
       "      <td>2.0</td>\n",
       "      <td>12</td>\n",
       "      <td>6</td>\n",
       "      <td>29.000000</td>\n",
       "      <td>29.000000</td>\n",
       "    </tr>\n",
       "    <tr>\n",
       "      <th>1</th>\n",
       "      <td>1</td>\n",
       "      <td>712.0</td>\n",
       "      <td>12122.000000</td>\n",
       "      <td>12124.750000</td>\n",
       "      <td>3691.26</td>\n",
       "      <td>3691.26</td>\n",
       "      <td>20.0</td>\n",
       "      <td>0.0</td>\n",
       "      <td>5787</td>\n",
       "      <td>1</td>\n",
       "      <td>...</td>\n",
       "      <td>0</td>\n",
       "      <td>0</td>\n",
       "      <td>1</td>\n",
       "      <td>12</td>\n",
       "      <td>12.0</td>\n",
       "      <td>1.0</td>\n",
       "      <td>12</td>\n",
       "      <td>12</td>\n",
       "      <td>0.000000</td>\n",
       "      <td>0.000000</td>\n",
       "    </tr>\n",
       "    <tr>\n",
       "      <th>2</th>\n",
       "      <td>1</td>\n",
       "      <td>535.0</td>\n",
       "      <td>1398.000000</td>\n",
       "      <td>1398.000000</td>\n",
       "      <td>900.13</td>\n",
       "      <td>900.13</td>\n",
       "      <td>3.0</td>\n",
       "      <td>0.0</td>\n",
       "      <td>1539</td>\n",
       "      <td>1</td>\n",
       "      <td>...</td>\n",
       "      <td>0</td>\n",
       "      <td>0</td>\n",
       "      <td>1</td>\n",
       "      <td>6</td>\n",
       "      <td>6.0</td>\n",
       "      <td>1.0</td>\n",
       "      <td>6</td>\n",
       "      <td>6</td>\n",
       "      <td>0.000000</td>\n",
       "      <td>0.000000</td>\n",
       "    </tr>\n",
       "    <tr>\n",
       "      <th>3</th>\n",
       "      <td>1</td>\n",
       "      <td>241.0</td>\n",
       "      <td>21.228000</td>\n",
       "      <td>21.228000</td>\n",
       "      <td>159.42</td>\n",
       "      <td>159.42</td>\n",
       "      <td>41.0</td>\n",
       "      <td>0.0</td>\n",
       "      <td>947</td>\n",
       "      <td>0</td>\n",
       "      <td>...</td>\n",
       "      <td>0</td>\n",
       "      <td>0</td>\n",
       "      <td>2</td>\n",
       "      <td>12</td>\n",
       "      <td>6.0</td>\n",
       "      <td>2.0</td>\n",
       "      <td>12</td>\n",
       "      <td>6</td>\n",
       "      <td>0.000000</td>\n",
       "      <td>0.000000</td>\n",
       "    </tr>\n",
       "    <tr>\n",
       "      <th>4</th>\n",
       "      <td>1</td>\n",
       "      <td>947.0</td>\n",
       "      <td>150.619333</td>\n",
       "      <td>150.619333</td>\n",
       "      <td>1098.90</td>\n",
       "      <td>1098.90</td>\n",
       "      <td>4.0</td>\n",
       "      <td>0.0</td>\n",
       "      <td>2309</td>\n",
       "      <td>7</td>\n",
       "      <td>...</td>\n",
       "      <td>0</td>\n",
       "      <td>0</td>\n",
       "      <td>7</td>\n",
       "      <td>42</td>\n",
       "      <td>6.0</td>\n",
       "      <td>7.0</td>\n",
       "      <td>42</td>\n",
       "      <td>6</td>\n",
       "      <td>2.333333</td>\n",
       "      <td>2.333333</td>\n",
       "    </tr>\n",
       "    <tr>\n",
       "      <th>...</th>\n",
       "      <td>...</td>\n",
       "      <td>...</td>\n",
       "      <td>...</td>\n",
       "      <td>...</td>\n",
       "      <td>...</td>\n",
       "      <td>...</td>\n",
       "      <td>...</td>\n",
       "      <td>...</td>\n",
       "      <td>...</td>\n",
       "      <td>...</td>\n",
       "      <td>...</td>\n",
       "      <td>...</td>\n",
       "      <td>...</td>\n",
       "      <td>...</td>\n",
       "      <td>...</td>\n",
       "      <td>...</td>\n",
       "      <td>...</td>\n",
       "      <td>...</td>\n",
       "      <td>...</td>\n",
       "      <td>...</td>\n",
       "      <td>...</td>\n",
       "    </tr>\n",
       "    <tr>\n",
       "      <th>209588</th>\n",
       "      <td>1</td>\n",
       "      <td>404.0</td>\n",
       "      <td>151.872333</td>\n",
       "      <td>151.872333</td>\n",
       "      <td>1089.19</td>\n",
       "      <td>1089.19</td>\n",
       "      <td>1.0</td>\n",
       "      <td>0.0</td>\n",
       "      <td>4048</td>\n",
       "      <td>3</td>\n",
       "      <td>...</td>\n",
       "      <td>0</td>\n",
       "      <td>0</td>\n",
       "      <td>2</td>\n",
       "      <td>12</td>\n",
       "      <td>6.0</td>\n",
       "      <td>2.0</td>\n",
       "      <td>12</td>\n",
       "      <td>6</td>\n",
       "      <td>1.000000</td>\n",
       "      <td>1.000000</td>\n",
       "    </tr>\n",
       "    <tr>\n",
       "      <th>209589</th>\n",
       "      <td>1</td>\n",
       "      <td>1075.0</td>\n",
       "      <td>36.936000</td>\n",
       "      <td>36.936000</td>\n",
       "      <td>1728.36</td>\n",
       "      <td>1728.36</td>\n",
       "      <td>4.0</td>\n",
       "      <td>0.0</td>\n",
       "      <td>773</td>\n",
       "      <td>4</td>\n",
       "      <td>...</td>\n",
       "      <td>0</td>\n",
       "      <td>0</td>\n",
       "      <td>3</td>\n",
       "      <td>18</td>\n",
       "      <td>6.0</td>\n",
       "      <td>3.0</td>\n",
       "      <td>18</td>\n",
       "      <td>6</td>\n",
       "      <td>1.000000</td>\n",
       "      <td>1.000000</td>\n",
       "    </tr>\n",
       "    <tr>\n",
       "      <th>209590</th>\n",
       "      <td>1</td>\n",
       "      <td>1013.0</td>\n",
       "      <td>11843.111667</td>\n",
       "      <td>11904.350000</td>\n",
       "      <td>5861.83</td>\n",
       "      <td>8893.20</td>\n",
       "      <td>3.0</td>\n",
       "      <td>0.0</td>\n",
       "      <td>1539</td>\n",
       "      <td>5</td>\n",
       "      <td>...</td>\n",
       "      <td>0</td>\n",
       "      <td>0</td>\n",
       "      <td>4</td>\n",
       "      <td>42</td>\n",
       "      <td>12.0</td>\n",
       "      <td>6.0</td>\n",
       "      <td>54</td>\n",
       "      <td>12</td>\n",
       "      <td>4.000000</td>\n",
       "      <td>3.833333</td>\n",
       "    </tr>\n",
       "    <tr>\n",
       "      <th>209591</th>\n",
       "      <td>1</td>\n",
       "      <td>1732.0</td>\n",
       "      <td>12488.228333</td>\n",
       "      <td>12574.370000</td>\n",
       "      <td>411.83</td>\n",
       "      <td>984.58</td>\n",
       "      <td>2.0</td>\n",
       "      <td>38.0</td>\n",
       "      <td>773</td>\n",
       "      <td>5</td>\n",
       "      <td>...</td>\n",
       "      <td>1</td>\n",
       "      <td>0</td>\n",
       "      <td>2</td>\n",
       "      <td>18</td>\n",
       "      <td>12.0</td>\n",
       "      <td>3.0</td>\n",
       "      <td>24</td>\n",
       "      <td>12</td>\n",
       "      <td>0.000000</td>\n",
       "      <td>10.500000</td>\n",
       "    </tr>\n",
       "    <tr>\n",
       "      <th>209592</th>\n",
       "      <td>1</td>\n",
       "      <td>1581.0</td>\n",
       "      <td>4489.362000</td>\n",
       "      <td>4534.820000</td>\n",
       "      <td>483.92</td>\n",
       "      <td>631.20</td>\n",
       "      <td>13.0</td>\n",
       "      <td>0.0</td>\n",
       "      <td>7526</td>\n",
       "      <td>2</td>\n",
       "      <td>...</td>\n",
       "      <td>0</td>\n",
       "      <td>0</td>\n",
       "      <td>2</td>\n",
       "      <td>18</td>\n",
       "      <td>12.0</td>\n",
       "      <td>2.0</td>\n",
       "      <td>18</td>\n",
       "      <td>12</td>\n",
       "      <td>0.000000</td>\n",
       "      <td>0.000000</td>\n",
       "    </tr>\n",
       "  </tbody>\n",
       "</table>\n",
       "<p>167868 rows × 31 columns</p>\n",
       "</div>"
      ],
      "text/plain": [
       "        label     aon  daily_decr30  daily_decr90  rental30  rental90  \\\n",
       "0           0   272.0   3055.050000   3065.150000    220.13    260.13   \n",
       "1           1   712.0  12122.000000  12124.750000   3691.26   3691.26   \n",
       "2           1   535.0   1398.000000   1398.000000    900.13    900.13   \n",
       "3           1   241.0     21.228000     21.228000    159.42    159.42   \n",
       "4           1   947.0    150.619333    150.619333   1098.90   1098.90   \n",
       "...       ...     ...           ...           ...       ...       ...   \n",
       "209588      1   404.0    151.872333    151.872333   1089.19   1089.19   \n",
       "209589      1  1075.0     36.936000     36.936000   1728.36   1728.36   \n",
       "209590      1  1013.0  11843.111667  11904.350000   5861.83   8893.20   \n",
       "209591      1  1732.0  12488.228333  12574.370000    411.83    984.58   \n",
       "209592      1  1581.0   4489.362000   4534.820000    483.92    631.20   \n",
       "\n",
       "        last_rech_date_ma  last_rech_date_da  last_rech_amt_ma  cnt_ma_rech30  \\\n",
       "0                     2.0                0.0              1539              2   \n",
       "1                    20.0                0.0              5787              1   \n",
       "2                     3.0                0.0              1539              1   \n",
       "3                    41.0                0.0               947              0   \n",
       "4                     4.0                0.0              2309              7   \n",
       "...                   ...                ...               ...            ...   \n",
       "209588                1.0                0.0              4048              3   \n",
       "209589                4.0                0.0               773              4   \n",
       "209590                3.0                0.0              1539              5   \n",
       "209591                2.0               38.0               773              5   \n",
       "209592               13.0                0.0              7526              2   \n",
       "\n",
       "        ...  cnt_da_rech90  fr_da_rech90  cnt_loans30  amnt_loans30  \\\n",
       "0       ...              0             0            2            12   \n",
       "1       ...              0             0            1            12   \n",
       "2       ...              0             0            1             6   \n",
       "3       ...              0             0            2            12   \n",
       "4       ...              0             0            7            42   \n",
       "...     ...            ...           ...          ...           ...   \n",
       "209588  ...              0             0            2            12   \n",
       "209589  ...              0             0            3            18   \n",
       "209590  ...              0             0            4            42   \n",
       "209591  ...              1             0            2            18   \n",
       "209592  ...              0             0            2            18   \n",
       "\n",
       "        maxamnt_loans30  cnt_loans90  amnt_loans90  maxamnt_loans90  \\\n",
       "0                   6.0          2.0            12                6   \n",
       "1                  12.0          1.0            12               12   \n",
       "2                   6.0          1.0             6                6   \n",
       "3                   6.0          2.0            12                6   \n",
       "4                   6.0          7.0            42                6   \n",
       "...                 ...          ...           ...              ...   \n",
       "209588              6.0          2.0            12                6   \n",
       "209589              6.0          3.0            18                6   \n",
       "209590             12.0          6.0            54               12   \n",
       "209591             12.0          3.0            24               12   \n",
       "209592             12.0          2.0            18               12   \n",
       "\n",
       "        payback30  payback90  \n",
       "0       29.000000  29.000000  \n",
       "1        0.000000   0.000000  \n",
       "2        0.000000   0.000000  \n",
       "3        0.000000   0.000000  \n",
       "4        2.333333   2.333333  \n",
       "...           ...        ...  \n",
       "209588   1.000000   1.000000  \n",
       "209589   1.000000   1.000000  \n",
       "209590   4.000000   3.833333  \n",
       "209591   0.000000  10.500000  \n",
       "209592   0.000000   0.000000  \n",
       "\n",
       "[167868 rows x 31 columns]"
      ]
     },
     "execution_count": 54,
     "metadata": {},
     "output_type": "execute_result"
    }
   ],
   "source": [
    "df"
   ]
  },
  {
   "cell_type": "code",
   "execution_count": 55,
   "metadata": {},
   "outputs": [
    {
     "data": {
      "text/plain": [
       "<matplotlib.axes._subplots.AxesSubplot at 0x23c0102cbe0>"
      ]
     },
     "execution_count": 55,
     "metadata": {},
     "output_type": "execute_result"
    },
    {
     "data": {
      "image/png": "[encoded data removed]",
      "text/plain": [
       "<Figure size 432x288 with 1 Axes>"
      ]
     },
     "metadata": {
      "needs_background": "light"
     },
     "output_type": "display_data"
    }
   ],
   "source": [
    "df['fr_ma_rech90'].plot.box()"
   ]
  },
  {
   "cell_type": "code",
   "execution_count": null,
   "metadata": {},
   "outputs": [],
   "source": []
  },
  {
   "cell_type": "code",
   "execution_count": 56,
   "metadata": {},
   "outputs": [
    {
     "data": {
      "image/png": "[encoded data removed]",
      "text/plain": [
       "<Figure size 432x288 with 1 Axes>"
      ]
     },
     "metadata": {
      "needs_background": "light"
     },
     "output_type": "display_data"
    },
    {
     "data": {
      "image/png": "[encoded data removed]",
      "text/plain": [
       "<Figure size 432x288 with 1 Axes>"
      ]
     },
     "metadata": {
      "needs_background": "light"
     },
     "output_type": "display_data"
    },
    {
     "data": {
      "image/png": "[encoded data removed]",
      "text/plain": [
       "<Figure size 432x288 with 1 Axes>"
      ]
     },
     "metadata": {
      "needs_background": "light"
     },
     "output_type": "display_data"
    },
    {
     "data": {
      "image/png": "[encoded data removed]",
      "text/plain": [
       "<Figure size 432x288 with 1 Axes>"
      ]
     },
     "metadata": {
      "needs_background": "light"
     },
     "output_type": "display_data"
    },
    {
     "data": {
      "image/png": "[encoded data removed]",
      "text/plain": [
       "<Figure size 432x288 with 1 Axes>"
      ]
     },
     "metadata": {
      "needs_background": "light"
     },
     "output_type": "display_data"
    },
    {
     "data": {
      "image/png": "[encoded data removed]",
      "text/plain": [
       "<Figure size 432x288 with 1 Axes>"
      ]
     },
     "metadata": {
      "needs_background": "light"
     },
     "output_type": "display_data"
    },
    {
     "data": {
      "image/png": "[encoded data removed]",
      "text/plain": [
       "<Figure size 432x288 with 1 Axes>"
      ]
     },
     "metadata": {
      "needs_background": "light"
     },
     "output_type": "display_data"
    },
    {
     "data": {
      "image/png": "[encoded data removed]",
      "text/plain": [
       "<Figure size 432x288 with 1 Axes>"
      ]
     },
     "metadata": {
      "needs_background": "light"
     },
     "output_type": "display_data"
    },
    {
     "data": {
      "image/png": "[encoded data removed]",
      "text/plain": [
       "<Figure size 432x288 with 1 Axes>"
      ]
     },
     "metadata": {
      "needs_background": "light"
     },
     "output_type": "display_data"
    },
    {
     "data": {
      "image/png": "[encoded data removed]",
      "text/plain": [
       "<Figure size 432x288 with 1 Axes>"
      ]
     },
     "metadata": {
      "needs_background": "light"
     },
     "output_type": "display_data"
    },
    {
     "data": {
      "image/png": "[encoded data removed]",
      "text/plain": [
       "<Figure size 432x288 with 1 Axes>"
      ]
     },
     "metadata": {
      "needs_background": "light"
     },
     "output_type": "display_data"
    },
    {
     "data": {
      "image/png": "[encoded data removed]",
      "text/plain": [
       "<Figure size 432x288 with 1 Axes>"
      ]
     },
     "metadata": {
      "needs_background": "light"
     },
     "output_type": "display_data"
    },
    {
     "data": {
      "image/png": "[encoded data removed]",
      "text/plain": [
       "<Figure size 432x288 with 1 Axes>"
      ]
     },
     "metadata": {
      "needs_background": "light"
     },
     "output_type": "display_data"
    },
    {
     "data": {
      "image/png": "[encoded data removed]",
      "text/plain": [
       "<Figure size 432x288 with 1 Axes>"
      ]
     },
     "metadata": {
      "needs_background": "light"
     },
     "output_type": "display_data"
    },
    {
     "data": {
      "image/png": "[encoded data removed]",
      "text/plain": [
       "<Figure size 432x288 with 1 Axes>"
      ]
     },
     "metadata": {
      "needs_background": "light"
     },
     "output_type": "display_data"
    },
    {
     "data": {
      "image/png": "[encoded data removed]",
      "text/plain": [
       "<Figure size 432x288 with 1 Axes>"
      ]
     },
     "metadata": {
      "needs_background": "light"
     },
     "output_type": "display_data"
    },
    {
     "data": {
      "image/png": "[encoded data removed]",
      "text/plain": [
       "<Figure size 432x288 with 1 Axes>"
      ]
     },
     "metadata": {
      "needs_background": "light"
     },
     "output_type": "display_data"
    },
    {
     "data": {
      "image/png": "[encoded data removed]",
      "text/plain": [
       "<Figure size 432x288 with 1 Axes>"
      ]
     },
     "metadata": {
      "needs_background": "light"
     },
     "output_type": "display_data"
    },
    {
     "data": {
      "image/png": "[encoded data removed]",
      "text/plain": [
       "<Figure size 432x288 with 1 Axes>"
      ]
     },
     "metadata": {
      "needs_background": "light"
     },
     "output_type": "display_data"
    },
    {
     "data": {
      "image/png": "[encoded data removed]",
      "text/plain": [
       "<Figure size 432x288 with 1 Axes>"
      ]
     },
     "metadata": {
      "needs_background": "light"
     },
     "output_type": "display_data"
    },
    {
     "data": {
      "image/png": "[encoded data removed]",
      "text/plain": [
       "<Figure size 432x288 with 1 Axes>"
      ]
     },
     "metadata": {
      "needs_background": "light"
     },
     "output_type": "display_data"
    },
    {
     "data": {
      "image/png": "[encoded data removed]",
      "text/plain": [
       "<Figure size 432x288 with 1 Axes>"
      ]
     },
     "metadata": {
      "needs_background": "light"
     },
     "output_type": "display_data"
    },
    {
     "data": {
      "image/png": "[encoded data removed]",
      "text/plain": [
       "<Figure size 432x288 with 1 Axes>"
      ]
     },
     "metadata": {
      "needs_background": "light"
     },
     "output_type": "display_data"
    },
    {
     "data": {
      "image/png": "[encoded data removed]",
      "text/plain": [
       "<Figure size 432x288 with 1 Axes>"
      ]
     },
     "metadata": {
      "needs_background": "light"
     },
     "output_type": "display_data"
    },
    {
     "data": {
      "image/png": "[encoded data removed]",
      "text/plain": [
       "<Figure size 432x288 with 1 Axes>"
      ]
     },
     "metadata": {
      "needs_background": "light"
     },
     "output_type": "display_data"
    },
    {
     "data": {
      "image/png": "[encoded data removed]",
      "text/plain": [
       "<Figure size 432x288 with 1 Axes>"
      ]
     },
     "metadata": {
      "needs_background": "light"
     },
     "output_type": "display_data"
    },
    {
     "data": {
      "image/png": "[encoded data removed]",
      "text/plain": [
       "<Figure size 432x288 with 1 Axes>"
      ]
     },
     "metadata": {
      "needs_background": "light"
     },
     "output_type": "display_data"
    },
    {
     "data": {
      "image/png": "[encoded data removed]",
      "text/plain": [
       "<Figure size 432x288 with 1 Axes>"
      ]
     },
     "metadata": {
      "needs_background": "light"
     },
     "output_type": "display_data"
    },
    {
     "data": {
      "image/png": "[encoded data removed]",
      "text/plain": [
       "<Figure size 432x288 with 1 Axes>"
      ]
     },
     "metadata": {
      "needs_background": "light"
     },
     "output_type": "display_data"
    },
    {
     "data": {
      "image/png": "[encoded data removed]",
      "text/plain": [
       "<Figure size 432x288 with 1 Axes>"
      ]
     },
     "metadata": {
      "needs_background": "light"
     },
     "output_type": "display_data"
    },
    {
     "data": {
      "image/png": "[encoded data removed]",
      "text/plain": [
       "<Figure size 432x288 with 1 Axes>"
      ]
     },
     "metadata": {
      "needs_background": "light"
     },
     "output_type": "display_data"
    }
   ],
   "source": [
    "for i in df.columns:\n",
    "    plt.figure()\n",
    "    sns.distplot(df[i])"
   ]
  },
  {
   "cell_type": "code",
   "execution_count": 57,
   "metadata": {},
   "outputs": [],
   "source": [
    "from scipy.stats import boxcox"
   ]
  },
  {
   "cell_type": "code",
   "execution_count": 58,
   "metadata": {},
   "outputs": [
    {
     "data": {
      "text/plain": [
       "label                   -2.121859\n",
       "aon                      0.955714\n",
       "daily_decr30             1.969141\n",
       "daily_decr90             2.081419\n",
       "rental30                 2.201402\n",
       "rental90                 2.249166\n",
       "last_rech_date_ma        3.074822\n",
       "last_rech_date_da       10.346796\n",
       "last_rech_amt_ma         2.112601\n",
       "cnt_ma_rech30            1.192453\n",
       "fr_ma_rech30             2.006986\n",
       "sumamnt_ma_rech30        1.644061\n",
       "medianamnt_ma_rech30     2.313703\n",
       "medianmarechprebal30    10.563676\n",
       "cnt_ma_rech90            1.334656\n",
       "fr_ma_rech90             1.979431\n",
       "sumamnt_ma_rech90        1.712072\n",
       "medianamnt_ma_rech90     2.356073\n",
       "medianmarechprebal90     3.663659\n",
       "cnt_da_rech30           50.699810\n",
       "fr_da_rech30             0.000000\n",
       "cnt_da_rech90            6.932537\n",
       "fr_da_rech90             0.000000\n",
       "cnt_loans30              1.495907\n",
       "amnt_loans30             1.470063\n",
       "maxamnt_loans30         52.689382\n",
       "cnt_loans90              1.734446\n",
       "amnt_loans90             1.720364\n",
       "maxamnt_loans90          2.629874\n",
       "payback30                2.636731\n",
       "payback90                2.549945\n",
       "dtype: float64"
      ]
     },
     "execution_count": 58,
     "metadata": {},
     "output_type": "execute_result"
    }
   ],
   "source": [
    "df.skew()"
   ]
  },
  {
   "cell_type": "code",
   "execution_count": 59,
   "metadata": {},
   "outputs": [
    {
     "data": {
      "text/plain": [
       "<bound method DataFrame.all of         label     aon  daily_decr30  daily_decr90  rental30  rental90  \\\n",
       "0           0   272.0   3055.050000   3065.150000    220.13    260.13   \n",
       "1           1   712.0  12122.000000  12124.750000   3691.26   3691.26   \n",
       "2           1   535.0   1398.000000   1398.000000    900.13    900.13   \n",
       "3           1   241.0     21.228000     21.228000    159.42    159.42   \n",
       "4           1   947.0    150.619333    150.619333   1098.90   1098.90   \n",
       "...       ...     ...           ...           ...       ...       ...   \n",
       "209588      1   404.0    151.872333    151.872333   1089.19   1089.19   \n",
       "209589      1  1075.0     36.936000     36.936000   1728.36   1728.36   \n",
       "209590      1  1013.0  11843.111667  11904.350000   5861.83   8893.20   \n",
       "209591      1  1732.0  12488.228333  12574.370000    411.83    984.58   \n",
       "209592      1  1581.0   4489.362000   4534.820000    483.92    631.20   \n",
       "\n",
       "        last_rech_date_ma  last_rech_date_da  last_rech_amt_ma  cnt_ma_rech30  \\\n",
       "0                     2.0                0.0              1539              2   \n",
       "1                    20.0                0.0              5787              1   \n",
       "2                     3.0                0.0              1539              1   \n",
       "3                    41.0                0.0               947              0   \n",
       "4                     4.0                0.0              2309              7   \n",
       "...                   ...                ...               ...            ...   \n",
       "209588                1.0                0.0              4048              3   \n",
       "209589                4.0                0.0               773              4   \n",
       "209590                3.0                0.0              1539              5   \n",
       "209591                2.0               38.0               773              5   \n",
       "209592               13.0                0.0              7526              2   \n",
       "\n",
       "        ...  cnt_da_rech90  fr_da_rech90  cnt_loans30  amnt_loans30  \\\n",
       "0       ...              0             0            2            12   \n",
       "1       ...              0             0            1            12   \n",
       "2       ...              0             0            1             6   \n",
       "3       ...              0             0            2            12   \n",
       "4       ...              0             0            7            42   \n",
       "...     ...            ...           ...          ...           ...   \n",
       "209588  ...              0             0            2            12   \n",
       "209589  ...              0             0            3            18   \n",
       "209590  ...              0             0            4            42   \n",
       "209591  ...              1             0            2            18   \n",
       "209592  ...              0             0            2            18   \n",
       "\n",
       "        maxamnt_loans30  cnt_loans90  amnt_loans90  maxamnt_loans90  \\\n",
       "0                   6.0          2.0            12                6   \n",
       "1                  12.0          1.0            12               12   \n",
       "2                   6.0          1.0             6                6   \n",
       "3                   6.0          2.0            12                6   \n",
       "4                   6.0          7.0            42                6   \n",
       "...                 ...          ...           ...              ...   \n",
       "209588              6.0          2.0            12                6   \n",
       "209589              6.0          3.0            18                6   \n",
       "209590             12.0          6.0            54               12   \n",
       "209591             12.0          3.0            24               12   \n",
       "209592             12.0          2.0            18               12   \n",
       "\n",
       "        payback30  payback90  \n",
       "0       29.000000  29.000000  \n",
       "1        0.000000   0.000000  \n",
       "2        0.000000   0.000000  \n",
       "3        0.000000   0.000000  \n",
       "4        2.333333   2.333333  \n",
       "...           ...        ...  \n",
       "209588   1.000000   1.000000  \n",
       "209589   1.000000   1.000000  \n",
       "209590   4.000000   3.833333  \n",
       "209591   0.000000  10.500000  \n",
       "209592   0.000000   0.000000  \n",
       "\n",
       "[167868 rows x 31 columns]>"
      ]
     },
     "execution_count": 59,
     "metadata": {},
     "output_type": "execute_result"
    }
   ],
   "source": [
    "df.all"
   ]
  },
  {
   "cell_type": "code",
   "execution_count": 60,
   "metadata": {},
   "outputs": [],
   "source": [
    "x= df.iloc[:,1:29].values"
   ]
  },
  {
   "cell_type": "code",
   "execution_count": 61,
   "metadata": {},
   "outputs": [
    {
     "data": {
      "text/plain": [
       "(167868, 28)"
      ]
     },
     "execution_count": 61,
     "metadata": {},
     "output_type": "execute_result"
    }
   ],
   "source": [
    "x.shape"
   ]
  },
  {
   "cell_type": "code",
   "execution_count": 62,
   "metadata": {},
   "outputs": [],
   "source": [
    "y= df.iloc[:,0].values"
   ]
  },
  {
   "cell_type": "code",
   "execution_count": 63,
   "metadata": {},
   "outputs": [
    {
     "data": {
      "text/plain": [
       "array([0, 1, 1, ..., 1, 1, 1], dtype=int64)"
      ]
     },
     "execution_count": 63,
     "metadata": {},
     "output_type": "execute_result"
    }
   ],
   "source": [
    "y"
   ]
  },
  {
   "cell_type": "code",
   "execution_count": 64,
   "metadata": {},
   "outputs": [
    {
     "data": {
      "text/plain": [
       "(167868,)"
      ]
     },
     "execution_count": 64,
     "metadata": {},
     "output_type": "execute_result"
    }
   ],
   "source": [
    "y.shape"
   ]
  },
  {
   "cell_type": "code",
   "execution_count": 65,
   "metadata": {},
   "outputs": [],
   "source": [
    "y=y.reshape(-1,1)"
   ]
  },
  {
   "cell_type": "code",
   "execution_count": 66,
   "metadata": {},
   "outputs": [
    {
     "data": {
      "text/plain": [
       "(167868, 1)"
      ]
     },
     "execution_count": 66,
     "metadata": {},
     "output_type": "execute_result"
    }
   ],
   "source": [
    "y.shape"
   ]
  },
  {
   "cell_type": "code",
   "execution_count": 67,
   "metadata": {},
   "outputs": [],
   "source": [
    "from sklearn.decomposition import PCA"
   ]
  },
  {
   "cell_type": "code",
   "execution_count": 68,
   "metadata": {},
   "outputs": [],
   "source": [
    "pca=PCA(n_components=10)"
   ]
  },
  {
   "cell_type": "code",
   "execution_count": 69,
   "metadata": {},
   "outputs": [],
   "source": [
    "xpca=pca.fit_transform(x)"
   ]
  },
  {
   "cell_type": "code",
   "execution_count": 70,
   "metadata": {},
   "outputs": [],
   "source": [
    "x=xpca"
   ]
  },
  {
   "cell_type": "code",
   "execution_count": 71,
   "metadata": {},
   "outputs": [
    {
     "data": {
      "text/plain": [
       "array([[-6.66834518e+03,  1.76658271e+03, -2.54706785e+03, ...,\n",
       "         7.61747420e+01, -5.50834276e+00, -3.54722231e+02],\n",
       "       [ 4.87154147e+03,  9.30584506e+03, -2.18329406e+03, ...,\n",
       "        -2.86869956e+02, -4.16594242e+01, -6.33808220e+01],\n",
       "       [-9.51873618e+03,  1.62065730e+03, -1.05539676e+03, ...,\n",
       "        -5.83991497e+01,  7.03783362e+01, -9.27738676e+01],\n",
       "       ...,\n",
       "       [ 1.53295194e+04,  5.50104966e+03,  3.59756173e+03, ...,\n",
       "         1.08930922e+03, -1.48524041e+02,  3.18271603e+02],\n",
       "       [ 1.49307193e+04,  2.14485906e+03, -5.38842644e+03, ...,\n",
       "         3.09112002e+02, -1.47984640e+03,  1.04277811e+03],\n",
       "       [ 7.34090771e+03, -5.52863657e+03, -2.29931556e+03, ...,\n",
       "        -9.34847274e+01, -1.73178439e+03,  7.56397330e+02]])"
      ]
     },
     "execution_count": 71,
     "metadata": {},
     "output_type": "execute_result"
    }
   ],
   "source": [
    "x"
   ]
  },
  {
   "cell_type": "code",
   "execution_count": 72,
   "metadata": {},
   "outputs": [
    {
     "data": {
      "text/html": [
       "<div>\n",
       "<style scoped>\n",
       "    .dataframe tbody tr th:only-of-type {\n",
       "        vertical-align: middle;\n",
       "    }\n",
       "\n",
       "    .dataframe tbody tr th {\n",
       "        vertical-align: top;\n",
       "    }\n",
       "\n",
       "    .dataframe thead th {\n",
       "        text-align: right;\n",
       "    }\n",
       "</style>\n",
       "<table border=\"1\" class=\"dataframe\">\n",
       "  <thead>\n",
       "    <tr style=\"text-align: right;\">\n",
       "      <th></th>\n",
       "      <th>0</th>\n",
       "      <th>1</th>\n",
       "      <th>2</th>\n",
       "      <th>3</th>\n",
       "      <th>4</th>\n",
       "      <th>5</th>\n",
       "      <th>6</th>\n",
       "      <th>7</th>\n",
       "      <th>8</th>\n",
       "      <th>9</th>\n",
       "    </tr>\n",
       "  </thead>\n",
       "  <tbody>\n",
       "    <tr>\n",
       "      <th>0</th>\n",
       "      <td>-6668.345178</td>\n",
       "      <td>1766.582712</td>\n",
       "      <td>-2547.067850</td>\n",
       "      <td>-1263.826755</td>\n",
       "      <td>216.899706</td>\n",
       "      <td>-48.539380</td>\n",
       "      <td>154.952790</td>\n",
       "      <td>76.174742</td>\n",
       "      <td>-5.508343</td>\n",
       "      <td>-354.722231</td>\n",
       "    </tr>\n",
       "    <tr>\n",
       "      <th>1</th>\n",
       "      <td>4871.541473</td>\n",
       "      <td>9305.845058</td>\n",
       "      <td>-2183.294060</td>\n",
       "      <td>-6883.427878</td>\n",
       "      <td>6079.834263</td>\n",
       "      <td>-754.791762</td>\n",
       "      <td>709.661888</td>\n",
       "      <td>-286.869956</td>\n",
       "      <td>-41.659424</td>\n",
       "      <td>-63.380822</td>\n",
       "    </tr>\n",
       "    <tr>\n",
       "      <th>2</th>\n",
       "      <td>-9518.736178</td>\n",
       "      <td>1620.657298</td>\n",
       "      <td>-1055.396761</td>\n",
       "      <td>-604.009235</td>\n",
       "      <td>768.123674</td>\n",
       "      <td>-61.261528</td>\n",
       "      <td>167.936816</td>\n",
       "      <td>-58.399150</td>\n",
       "      <td>70.378336</td>\n",
       "      <td>-92.773868</td>\n",
       "    </tr>\n",
       "    <tr>\n",
       "      <th>3</th>\n",
       "      <td>-11928.181286</td>\n",
       "      <td>1034.405193</td>\n",
       "      <td>-1503.501040</td>\n",
       "      <td>1104.282219</td>\n",
       "      <td>-125.526474</td>\n",
       "      <td>-144.566543</td>\n",
       "      <td>-402.312311</td>\n",
       "      <td>-64.896486</td>\n",
       "      <td>-466.812556</td>\n",
       "      <td>-374.373173</td>\n",
       "    </tr>\n",
       "    <tr>\n",
       "      <th>4</th>\n",
       "      <td>12516.848150</td>\n",
       "      <td>-16414.789069</td>\n",
       "      <td>1785.401805</td>\n",
       "      <td>-691.330857</td>\n",
       "      <td>-2449.818818</td>\n",
       "      <td>524.773807</td>\n",
       "      <td>271.885170</td>\n",
       "      <td>-135.908559</td>\n",
       "      <td>-679.511864</td>\n",
       "      <td>289.222166</td>\n",
       "    </tr>\n",
       "    <tr>\n",
       "      <th>...</th>\n",
       "      <td>...</td>\n",
       "      <td>...</td>\n",
       "      <td>...</td>\n",
       "      <td>...</td>\n",
       "      <td>...</td>\n",
       "      <td>...</td>\n",
       "      <td>...</td>\n",
       "      <td>...</td>\n",
       "      <td>...</td>\n",
       "      <td>...</td>\n",
       "    </tr>\n",
       "    <tr>\n",
       "      <th>167863</th>\n",
       "      <td>-376.697802</td>\n",
       "      <td>-7405.954978</td>\n",
       "      <td>672.585606</td>\n",
       "      <td>-2294.540145</td>\n",
       "      <td>1515.169543</td>\n",
       "      <td>388.345220</td>\n",
       "      <td>-419.947387</td>\n",
       "      <td>-93.055356</td>\n",
       "      <td>2.853386</td>\n",
       "      <td>-258.639421</td>\n",
       "    </tr>\n",
       "    <tr>\n",
       "      <th>167864</th>\n",
       "      <td>-8148.398957</td>\n",
       "      <td>-863.828922</td>\n",
       "      <td>886.349971</td>\n",
       "      <td>622.104908</td>\n",
       "      <td>-687.563472</td>\n",
       "      <td>-35.574584</td>\n",
       "      <td>73.455895</td>\n",
       "      <td>-194.803442</td>\n",
       "      <td>68.833582</td>\n",
       "      <td>466.279742</td>\n",
       "    </tr>\n",
       "    <tr>\n",
       "      <th>167865</th>\n",
       "      <td>15329.519399</td>\n",
       "      <td>5501.049663</td>\n",
       "      <td>3597.561728</td>\n",
       "      <td>693.879781</td>\n",
       "      <td>-675.022912</td>\n",
       "      <td>-647.133987</td>\n",
       "      <td>157.137178</td>\n",
       "      <td>1089.309218</td>\n",
       "      <td>-148.524041</td>\n",
       "      <td>318.271603</td>\n",
       "    </tr>\n",
       "    <tr>\n",
       "      <th>167866</th>\n",
       "      <td>14930.719251</td>\n",
       "      <td>2144.859064</td>\n",
       "      <td>-5388.426445</td>\n",
       "      <td>-1558.923097</td>\n",
       "      <td>-2559.071305</td>\n",
       "      <td>-662.804810</td>\n",
       "      <td>642.847098</td>\n",
       "      <td>309.112002</td>\n",
       "      <td>-1479.846400</td>\n",
       "      <td>1042.778114</td>\n",
       "    </tr>\n",
       "    <tr>\n",
       "      <th>167867</th>\n",
       "      <td>7340.907714</td>\n",
       "      <td>-5528.636570</td>\n",
       "      <td>-2299.315557</td>\n",
       "      <td>-726.806387</td>\n",
       "      <td>7288.846652</td>\n",
       "      <td>-635.089705</td>\n",
       "      <td>-800.863032</td>\n",
       "      <td>-93.484727</td>\n",
       "      <td>-1731.784392</td>\n",
       "      <td>756.397330</td>\n",
       "    </tr>\n",
       "  </tbody>\n",
       "</table>\n",
       "<p>167868 rows × 10 columns</p>\n",
       "</div>"
      ],
      "text/plain": [
       "                   0             1            2            3            4  \\\n",
       "0       -6668.345178   1766.582712 -2547.067850 -1263.826755   216.899706   \n",
       "1        4871.541473   9305.845058 -2183.294060 -6883.427878  6079.834263   \n",
       "2       -9518.736178   1620.657298 -1055.396761  -604.009235   768.123674   \n",
       "3      -11928.181286   1034.405193 -1503.501040  1104.282219  -125.526474   \n",
       "4       12516.848150 -16414.789069  1785.401805  -691.330857 -2449.818818   \n",
       "...              ...           ...          ...          ...          ...   \n",
       "167863   -376.697802  -7405.954978   672.585606 -2294.540145  1515.169543   \n",
       "167864  -8148.398957   -863.828922   886.349971   622.104908  -687.563472   \n",
       "167865  15329.519399   5501.049663  3597.561728   693.879781  -675.022912   \n",
       "167866  14930.719251   2144.859064 -5388.426445 -1558.923097 -2559.071305   \n",
       "167867   7340.907714  -5528.636570 -2299.315557  -726.806387  7288.846652   \n",
       "\n",
       "                 5           6            7            8            9  \n",
       "0       -48.539380  154.952790    76.174742    -5.508343  -354.722231  \n",
       "1      -754.791762  709.661888  -286.869956   -41.659424   -63.380822  \n",
       "2       -61.261528  167.936816   -58.399150    70.378336   -92.773868  \n",
       "3      -144.566543 -402.312311   -64.896486  -466.812556  -374.373173  \n",
       "4       524.773807  271.885170  -135.908559  -679.511864   289.222166  \n",
       "...            ...         ...          ...          ...          ...  \n",
       "167863  388.345220 -419.947387   -93.055356     2.853386  -258.639421  \n",
       "167864  -35.574584   73.455895  -194.803442    68.833582   466.279742  \n",
       "167865 -647.133987  157.137178  1089.309218  -148.524041   318.271603  \n",
       "167866 -662.804810  642.847098   309.112002 -1479.846400  1042.778114  \n",
       "167867 -635.089705 -800.863032   -93.484727 -1731.784392   756.397330  \n",
       "\n",
       "[167868 rows x 10 columns]"
      ]
     },
     "execution_count": 72,
     "metadata": {},
     "output_type": "execute_result"
    }
   ],
   "source": [
    "pd.DataFrame(data=x)"
   ]
  },
  {
   "cell_type": "code",
   "execution_count": 73,
   "metadata": {},
   "outputs": [
    {
     "data": {
      "text/plain": [
       "label                     int64\n",
       "aon                     float64\n",
       "daily_decr30            float64\n",
       "daily_decr90            float64\n",
       "rental30                float64\n",
       "rental90                float64\n",
       "last_rech_date_ma       float64\n",
       "last_rech_date_da       float64\n",
       "last_rech_amt_ma          int64\n",
       "cnt_ma_rech30             int64\n",
       "fr_ma_rech30            float64\n",
       "sumamnt_ma_rech30       float64\n",
       "medianamnt_ma_rech30    float64\n",
       "medianmarechprebal30    float64\n",
       "cnt_ma_rech90             int64\n",
       "fr_ma_rech90              int64\n",
       "sumamnt_ma_rech90         int64\n",
       "medianamnt_ma_rech90    float64\n",
       "medianmarechprebal90    float64\n",
       "cnt_da_rech30           float64\n",
       "fr_da_rech30            float64\n",
       "cnt_da_rech90             int64\n",
       "fr_da_rech90              int64\n",
       "cnt_loans30               int64\n",
       "amnt_loans30              int64\n",
       "maxamnt_loans30         float64\n",
       "cnt_loans90             float64\n",
       "amnt_loans90              int64\n",
       "maxamnt_loans90           int64\n",
       "payback30               float64\n",
       "payback90               float64\n",
       "dtype: object"
      ]
     },
     "execution_count": 73,
     "metadata": {},
     "output_type": "execute_result"
    }
   ],
   "source": [
    "df.dtypes"
   ]
  },
  {
   "cell_type": "code",
   "execution_count": 74,
   "metadata": {},
   "outputs": [],
   "source": [
    "from sklearn.preprocessing import MinMaxScaler\n"
   ]
  },
  {
   "cell_type": "code",
   "execution_count": 75,
   "metadata": {},
   "outputs": [],
   "source": [
    "scale=MinMaxScaler()"
   ]
  },
  {
   "cell_type": "code",
   "execution_count": 76,
   "metadata": {},
   "outputs": [],
   "source": [
    "x=scale.fit_transform(x)"
   ]
  },
  {
   "cell_type": "code",
   "execution_count": 77,
   "metadata": {},
   "outputs": [
    {
     "data": {
      "text/plain": [
       "array([[0.07609226, 0.5100766 , 0.34912431, ..., 0.42628189, 0.46657249,\n",
       "        0.20117429],\n",
       "       [0.20677253, 0.61003396, 0.35850684, ..., 0.40599356, 0.46336502,\n",
       "        0.30783056],\n",
       "       [0.04381379, 0.50814189, 0.38759781, ..., 0.41876139, 0.47330545,\n",
       "        0.29707015],\n",
       "       ...,\n",
       "       [0.32520102, 0.55958907, 0.50760791, ..., 0.48289971, 0.45388358,\n",
       "        0.4475485 ],\n",
       "       [0.32068492, 0.51509188, 0.27583938, ..., 0.43929931, 0.33576353,\n",
       "        0.71278082],\n",
       "       [0.23473619, 0.41335483, 0.35551439, ..., 0.41680067, 0.31341062,\n",
       "        0.60794057]])"
      ]
     },
     "execution_count": 77,
     "metadata": {},
     "output_type": "execute_result"
    }
   ],
   "source": [
    "x"
   ]
  },
  {
   "cell_type": "code",
   "execution_count": 78,
   "metadata": {},
   "outputs": [],
   "source": [
    "from sklearn.model_selection import train_test_split"
   ]
  },
  {
   "cell_type": "code",
   "execution_count": 79,
   "metadata": {},
   "outputs": [],
   "source": [
    "x_train,x_test,y_train,y_test=train_test_split(x,y,test_size=.22,random_state=42)"
   ]
  },
  {
   "cell_type": "code",
   "execution_count": 80,
   "metadata": {},
   "outputs": [],
   "source": [
    "\n",
    "from sklearn.linear_model import LogisticRegression\n",
    "from sklearn.naive_bayes import GaussianNB\n",
    "from sklearn.svm import SVC\n",
    "from sklearn.tree import DecisionTreeClassifier\n",
    "from sklearn.neighbors import KNeighborsClassifier\n",
    "from sklearn.metrics import accuracy_score,confusion_matrix,classification_report\n"
   ]
  },
  {
   "cell_type": "code",
   "execution_count": null,
   "metadata": {},
   "outputs": [],
   "source": []
  },
  {
   "cell_type": "code",
   "execution_count": 81,
   "metadata": {},
   "outputs": [
    {
     "name": "stdout",
     "output_type": "stream",
     "text": [
      "0.8666161219571633\n",
      "[[   93  4864]\n",
      " [   62 31912]]\n"
     ]
    }
   ],
   "source": [
    "lr= LogisticRegression()\n",
    "lr.fit(x_train,y_train)\n",
    "lr.score(x_train,y_train)\n",
    "predlr=lr.predict(x_test)\n",
    "print(accuracy_score(y_test,predlr))\n",
    "print(confusion_matrix(y_test,predlr))"
   ]
  },
  {
   "cell_type": "code",
   "execution_count": 82,
   "metadata": {},
   "outputs": [],
   "source": [
    "dtc=DecisionTreeClassifier(criterion='entropy')"
   ]
  },
  {
   "cell_type": "code",
   "execution_count": 83,
   "metadata": {},
   "outputs": [
    {
     "name": "stdout",
     "output_type": "stream",
     "text": [
      "0.8456039641493596\n",
      "[[ 2250  2707]\n",
      " [ 2995 28979]]\n"
     ]
    }
   ],
   "source": [
    "dtc.fit(x_train,y_train)\n",
    "preddtc=dtc.predict(x_test)\n",
    "print(accuracy_score(y_test,preddtc))\n",
    "print(confusion_matrix(y_test,preddtc))"
   ]
  },
  {
   "cell_type": "code",
   "execution_count": null,
   "metadata": {},
   "outputs": [],
   "source": []
  },
  {
   "cell_type": "code",
   "execution_count": 84,
   "metadata": {},
   "outputs": [
    {
     "name": "stdout",
     "output_type": "stream",
     "text": [
      "0.869946657279792\n",
      "[[ 1383  3574]\n",
      " [ 1229 30745]]\n"
     ]
    }
   ],
   "source": [
    "knn= KNeighborsClassifier(11)\n",
    "knn.fit(x_train,y_train)\n",
    "predknn=knn.predict(x_test)\n",
    "print(accuracy_score(y_test,predknn))\n",
    "print(confusion_matrix(y_test,predknn))"
   ]
  },
  {
   "cell_type": "code",
   "execution_count": 85,
   "metadata": {},
   "outputs": [
    {
     "name": "stdout",
     "output_type": "stream",
     "text": [
      "0.560450569981858\n",
      "[[ 4086   871]\n",
      " [15362 16612]]\n"
     ]
    }
   ],
   "source": [
    "gnb= GaussianNB()\n",
    "gnb.fit(x_train,y_train)\n",
    "predgnb=gnb.predict(x_test)\n",
    "print(accuracy_score(y_test,predgnb))\n",
    "print(confusion_matrix(y_test,predgnb))"
   ]
  },
  {
   "cell_type": "code",
   "execution_count": 86,
   "metadata": {},
   "outputs": [],
   "source": [
    "model=[LogisticRegression(),GaussianNB()]"
   ]
  },
  {
   "cell_type": "code",
   "execution_count": 87,
   "metadata": {},
   "outputs": [
    {
     "name": "stdout",
     "output_type": "stream",
     "text": [
      "Accuracy score of LogisticRegression() is:\n",
      "0.8666161219571633\n",
      "[[   93  4864]\n",
      " [   62 31912]]\n",
      "              precision    recall  f1-score   support\n",
      "\n",
      "           0       0.60      0.02      0.04      4957\n",
      "           1       0.87      1.00      0.93     31974\n",
      "\n",
      "    accuracy                           0.87     36931\n",
      "   macro avg       0.73      0.51      0.48     36931\n",
      "weighted avg       0.83      0.87      0.81     36931\n",
      "\n",
      "\n",
      "\n",
      "Accuracy score of GaussianNB() is:\n",
      "0.560450569981858\n",
      "[[ 4086   871]\n",
      " [15362 16612]]\n",
      "              precision    recall  f1-score   support\n",
      "\n",
      "           0       0.21      0.82      0.33      4957\n",
      "           1       0.95      0.52      0.67     31974\n",
      "\n",
      "    accuracy                           0.56     36931\n",
      "   macro avg       0.58      0.67      0.50     36931\n",
      "weighted avg       0.85      0.56      0.63     36931\n",
      "\n",
      "\n",
      "\n"
     ]
    }
   ],
   "source": [
    "for m in model:\n",
    "    m.fit(x_train,y_train)\n",
    "    m.score(x_train,y_train)\n",
    "    predm=m.predict(x_test)\n",
    "    print('Accuracy score of',m,'is:')\n",
    "    print(accuracy_score(y_test,predm))\n",
    "    print(confusion_matrix(y_test,predm))\n",
    "    print(classification_report(y_test,predm))\n",
    "    print('\\n')"
   ]
  },
  {
   "cell_type": "code",
   "execution_count": 88,
   "metadata": {},
   "outputs": [
    {
     "name": "stdout",
     "output_type": "stream",
     "text": [
      "[0.86423151 0.86401735 0.86464284 0.86464284 0.86480964 0.86443434\n",
      " 0.86485134]\n",
      "0.864518551999458 0.0002846224191899386\n"
     ]
    }
   ],
   "source": [
    "lrscore= cross_val_score(lr,x,y,cv=7)\n",
    "print(lrscore)\n",
    "print(lrscore.mean(),lrscore.std())"
   ]
  },
  {
   "cell_type": "code",
   "execution_count": 89,
   "metadata": {},
   "outputs": [
    {
     "name": "stdout",
     "output_type": "stream",
     "text": [
      "[0.84513385 0.84692048 0.84942246 0.84904716 0.84654518 0.85050665\n",
      " 0.84754597]\n",
      "0.8478745367829864 0.0017318804198924555\n"
     ]
    }
   ],
   "source": [
    "dtcscore= cross_val_score(dtc,x,y,cv=7)\n",
    "print(dtcscore)\n",
    "print(dtcscore.mean(),dtcscore.std())"
   ]
  },
  {
   "cell_type": "code",
   "execution_count": 90,
   "metadata": {},
   "outputs": [
    {
     "name": "stdout",
     "output_type": "stream",
     "text": [
      "[0.87085245 0.86972062 0.86900578 0.86989933 0.86781438 0.87073331\n",
      " 0.87222255 0.86966105 0.87322769 0.87376385]\n",
      "0.8706900994313491 0.0017887094286349312\n"
     ]
    }
   ],
   "source": [
    "knnscore= cross_val_score(knn,x,y,cv=10)\n",
    "print(knnscore)\n",
    "print(knnscore.mean(),knnscore.std())"
   ]
  },
  {
   "cell_type": "code",
   "execution_count": 91,
   "metadata": {},
   "outputs": [
    {
     "name": "stdout",
     "output_type": "stream",
     "text": [
      "[0.57067969 0.55817001 0.56150593 0.56144636 0.56513969 0.56496098\n",
      " 0.5647227  0.56287604 0.5617181  0.56797331]\n",
      "0.5639192809400697 0.003410067975207857\n"
     ]
    }
   ],
   "source": [
    "gnbscore= cross_val_score(gnb,x,y,cv=10)\n",
    "print(gnbscore)\n",
    "print(gnbscore.mean(),gnbscore.std())"
   ]
  },
  {
   "cell_type": "code",
   "execution_count": 92,
   "metadata": {},
   "outputs": [
    {
     "name": "stdout",
     "output_type": "stream",
     "text": [
      "0.8965367848149252\n",
      "[[ 2095  2862]\n",
      " [  959 31015]]\n"
     ]
    }
   ],
   "source": [
    "rfc= RandomForestClassifier()\n",
    "rfc.fit(x_train,y_train)\n",
    "rfc.score(x_train,y_train)\n",
    "predrfc=rfc.predict(x_test)\n",
    "print(accuracy_score(y_test,predrfc))\n",
    "print(confusion_matrix(y_test,predrfc))"
   ]
  },
  {
   "cell_type": "code",
   "execution_count": 93,
   "metadata": {},
   "outputs": [
    {
     "name": "stdout",
     "output_type": "stream",
     "text": [
      "0.8762286426037746\n",
      "[[  850  4107]\n",
      " [  464 31510]]\n"
     ]
    }
   ],
   "source": [
    "ad=AdaBoostClassifier()\n",
    "ad.fit(x_train,y_train)\n",
    "predad=ad.predict(x_test)\n",
    "print(accuracy_score(y_test,predad))\n",
    "print(confusion_matrix(y_test,predad))"
   ]
  },
  {
   "cell_type": "code",
   "execution_count": 94,
   "metadata": {},
   "outputs": [],
   "source": [
    "from sklearn.ensemble import GradientBoostingClassifier"
   ]
  },
  {
   "cell_type": "code",
   "execution_count": 95,
   "metadata": {},
   "outputs": [
    {
     "name": "stdout",
     "output_type": "stream",
     "text": [
      "0.8840540467358046\n",
      "[[ 1242  3715]\n",
      " [  567 31407]]\n"
     ]
    }
   ],
   "source": [
    "gb=GradientBoostingClassifier()\n",
    "gb.fit(x_train,y_train)\n",
    "predgb=gb.predict(x_test)\n",
    "print(accuracy_score(y_test,predgb))\n",
    "print(confusion_matrix(y_test,predgb)) "
   ]
  },
  {
   "cell_type": "code",
   "execution_count": 96,
   "metadata": {},
   "outputs": [],
   "source": [
    "import pickle"
   ]
  },
  {
   "cell_type": "code",
   "execution_count": 97,
   "metadata": {},
   "outputs": [],
   "source": [
    "filename= 'MicroFinance_Project.pkl'"
   ]
  },
  {
   "cell_type": "code",
   "execution_count": 98,
   "metadata": {},
   "outputs": [],
   "source": [
    "pickle.dump(rfc,open(filename,'wb'))"
   ]
  },
  {
   "cell_type": "code",
   "execution_count": null,
   "metadata": {},
   "outputs": [],
   "source": []
  }
 ],
 "metadata": {
  "kernelspec": {
   "display_name": "Python 3",
   "language": "python",
   "name": "python3"
  },
  "language_info": {
   "codemirror_mode": {
    "name": "ipython",
    "version": 3
   },
   "file_extension": ".py",
   "mimetype": "text/x-python",
   "name": "python",
   "nbconvert_exporter": "python",
   "pygments_lexer": "ipython3",
   "version": "3.8.3"
  }
 },
 "nbformat": 4,
 "nbformat_minor": 4
}
